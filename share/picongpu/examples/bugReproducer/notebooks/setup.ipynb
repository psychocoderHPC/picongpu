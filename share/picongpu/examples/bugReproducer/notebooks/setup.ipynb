{
 "cells": [
  {
   "cell_type": "markdown",
   "metadata": {},
   "source": [
    "# Planning small TWEAC Setup for physics and system tests"
   ]
  },
  {
   "cell_type": "markdown",
   "metadata": {},
   "source": [
    "static constexpr float_64 TDELAY = 0.; //66.7e-6 / SI::SPEED_OF_LIGHT_SI;Setup of a 3D simulation of a Travelling-Wave Electron Acceleration setup, where two laser pulses \"collide\" within an underdense plasma.\n",
    "\n",
    "Both laser pulses are linearly polarized in $x$, propagate in the $yz$-plane, and feature 800\\,nm central wavelength, 10\\,fs (FWHM) transform-limited pulse duration, and a peak intensity of $2.62 \\times 10^{19}$\\,W/cm$^2$ ($a_0 = 3.5$), respectively.\n",
    "Their propagation direction encloses an angle of $3.5^\\circ$ and $-3.5^\\circ$ with respect to the y axis.\n",
    "The focal geometry is cylindrical, and the focal lines both coincide with the y axis.\n",
    "The laser pulse focal line height is $w_\\mathrm{0;x} = 1.2$\\,μm.\n",
    "Since the focal line length $w_\\mathrm{0;yz}$ easily extends beyond the centimeter range, we assume, for the sake of simplicity, that the laser is unbounded in the yz plane of the simulation.\n",
    "The pulse-front tilts are $\\alpha = \\pm 1.75^\\circ$, respectively.\n",
    "The angle enclosed by the propagation directions of the lasers is $7^\\circ$.\n",
    "\n",
    "The original publication from Alex:\n",
    "\n",
    "Alexander Debus, Richard Pausch, Axel Huebl, Klaus Steiniger, René Widera, Thomas E. Cowan, Ulrich Schramm, and Michael Bussmann.\n",
    "**Circumventing the Dephasing and Depletion Limits of Laser-Wakefield Acceleration**.\n",
    "*Phys. Rev. X 9, 031044*.\n",
    "(https://doi.org/10.1103/PhysRevX.9.031044)\n",
    "\n",
    "## Gas params\n",
    "\n",
    "* electron density linearly rises from vacuum to\n",
    "  $6.4 \\times 10^{18}\\,\\mathrm{cm}^{-3}$ within a short distance of 20\\,μm.\n",
    "  After this initial shock, it linearly decreases on a longer scale,\n",
    "  first to $4.5 \\times 10^{18}\\,\\mathrm{cm}^{-3}$ and finally to\n",
    "  $3.2 \\times 10^{18}\\,\\mathrm{cm}^{-3}$ over\n",
    "  subsequent distances of 160\\,μm and 460\\,μm\n",
    "\n",
    "* free electron density in initial shock region (=BASE_DENSITY) in critical densities = 3.67e-03n_c\n",
    "\n",
    "* no initial temperature\n",
    "\n",
    "* no ions\n",
    "\n",
    "\n",
    "## External electron params\n",
    "\n",
    "\n",
    "## Laser params\n",
    "\n",
    "* Linearly $x$-polarized fastTWTS of width $w_\\mathrm{0;x} = 1.2$\\,μm\n",
    "\n",
    "* propagation axis in $yz$-plane and enclosing an angle of $\\pm 3.5^\\circ $ with y axis\n",
    "\n",
    "* wavelength λ_Laser = 800.0nm\n",
    "\n",
    "* a_0 = 3.5\n",
    "\n",
    "* FWHM duration of laser temporal intensity envelope = 10.000fs (=> standard deviation σ_I = 4.247fs)\n",
    "\n",
    "* Field initialization starts at the simulation domain wall 4.5σ_I before field maximum.\n",
    "\n",
    "* Critical density nc = 1.742e+27/m^3 = 1.742e+21/cm^3\n",
    "\n",
    "* **What is the effect of the focus_y variable, wo doch the laser extdends infintely in z direction such that there is no \"laser center\"**\n",
    "\n",
    "\n",
    "## Grid params\n",
    "\n",
    "* Δx = Δy = Δz = λ_Laser / 8.\n",
    "\n",
    "* Δt = 0.1 * 0.99 * Δx / c / sqrt(3.) **Reevaluate this choice ones the stability condition is known.**\n",
    "\n",
    "* **This is a very low resolution, the choice is motivated by the use of the higher order solver.\n",
    "  How does the cold plasma instability affect our simulation setup?\n",
    "  The minimum electron temperature to avoid the instability is 1.3keV...not a lot, isn't it?\n",
    "  Do we need to increase resolution to mitigate the instability?**\n",
    "\n",
    "## Particle & Field solver params\n",
    "\n",
    "* Particle shape: PQS (s. Hockney p. 144)\n",
    "\n",
    "* Particle pusher: Higuera-Cary\n",
    "\n",
    "* No ionization methods (for the moment)\n",
    "\n",
    "* No collisions\n",
    "\n",
    "* homogenous macro-particle density of 25 macro-particles/cell\n",
    "\n",
    "* minimum macro-particle weighting: 10\n",
    "\n",
    "* particles are initially randomly distributed within a cell\n",
    "\n",
    "* Current solver: EmZ\n",
    "\n",
    "* `using CurrentInterpolation = currentInterpolation::None;`\n",
    "\n",
    "* Field solver: `ArbitraryOrderFDTDPML< 4, CurrentInterpolation >;` **See if we can change to 8 neighbors on newer machines**\n",
    "\n",
    "* Perfectly matched layer absorbing boundary conditions at every simulation domain wall\n",
    "\n",
    "## Simulation params\n",
    "\n",
    "* 3D simulation\n",
    "\n",
    "* simulation domain length along x = 608 cells on 2 GPUs\n",
    "\n",
    "* simulation domain length along y (moving window propagation direction) = 864 cells on 4 GPUs\n",
    "  (remember there is one row of GPUs missing due to moving window)\n",
    "\n",
    "* simulation domain length along z = 1056 cells on 2 GPUs\n",
    "\n",
    "* simulation time = 650000Δt **?**\n",
    "\n",
    "* **TODO: Set window movePoint appropriate!**\n"
   ]
  },
  {
   "cell_type": "markdown",
   "metadata": {},
   "source": [
    "## Imports"
   ]
  },
  {
   "cell_type": "code",
   "execution_count": null,
   "metadata": {},
   "outputs": [],
   "source": [
    "%pylab inline\n",
    "\n",
    "import scipy.constants as sc\n",
    "\n",
    "import sys\n",
    "\n",
    "sys.path.append(\"../lib/python/\")\n",
    "from picongpu.utils import MemoryCalculator"
   ]
  },
  {
   "cell_type": "code",
   "execution_count": null,
   "metadata": {},
   "outputs": [],
   "source": [
    "# OVERWRITE DEFAULT PLOTTING PARAMETERS\n",
    "params = {\n",
    "    'font.family' : 'sans-serif',\n",
    "    'font.sans-serif' : ['DejaVu Sans', 'Arial', 'Verdana', 'Liberation Sans'],\n",
    "    'mathtext.default' : 'regular',\n",
    "    'mathtext.rm' : 'sans',\n",
    "    'font.size' : 18,\n",
    "    'legend.fontsize' : 14,\n",
    "    'axes.labelsize' : 18,\n",
    "    'axes.titlesize' : 16,\n",
    "    'lines.linewidth' : 3.0,\n",
    "    'legend.frameon' : False,\n",
    "    'legend.numpoints': 1,\n",
    "}\n",
    "\n",
    "matplotlib.rcParams.update(params)"
   ]
  },
  {
   "cell_type": "markdown",
   "metadata": {},
   "source": [
    "# Function definitions"
   ]
  },
  {
   "cell_type": "code",
   "execution_count": null,
   "metadata": {},
   "outputs": [],
   "source": [
    "from scipy.optimize import newton\n",
    "\n",
    "\n",
    "def critical_density_si(lambda_laser):\n",
    "    \"\"\" Critical electron number density at which an \n",
    "        incident light wave is reflected from a surface.\n",
    "        Units [1/m^3]\n",
    "    \"\"\"\n",
    "    return (sc.epsilon_0*sc.m_e/sc.e**2)*(2.*pi*sc.c/lambda_laser)**2\n",
    "\n",
    "\n",
    "def critical_density(lambda_laser):\n",
    "    \"\"\" Critical electron number density in [1/cm^3]\n",
    "    \"\"\"\n",
    "    return critical_density_si(lambda_laser)*1.e-6\n",
    "\n",
    "\n",
    "def plasma_angular_frequency(n_e):\n",
    "    \"\"\" \n",
    "    \"\"\"\n",
    "    return sqrt( n_e * sc.e**2 / ( sc.epsilon_0 * sc.m_e ) )\n",
    "\n",
    "\n",
    "def plasma_oscillation_length(n_e):\n",
    "    \"\"\" Assuming the driver propagates at the speed of light\n",
    "    \"\"\"\n",
    "    omega_p = plasma_angular_frequency(n_e)\n",
    "    return 2.*sc.pi*sc.c/omega_p\n",
    "\n",
    "\n",
    "def debye_length(n_e, T , Z):\n",
    "    \"\"\" electron temperature [T] = eV\n",
    "        electron density [n_e] = cm^-3\n",
    "    \"\"\"\n",
    "    return 743.*sqrt(T/(1.+Z)/n_e)  # sqrt(epsilon_0*k_B*T/n_e/e_charge**2/(1.+Z))\n",
    "\n",
    "\n",
    "def ghrist_b0(n_h, k):\n",
    "        \"\"\" Coefficients in the stencil of the arbitrary-order finite-difference on a staggered grid.\n",
    "            Taken from Michelle Ghrist's PhD thesis.\n",
    "            Return coefficient for k'th neighbor at spatial derivative order 2*n_h.\n",
    "        \"\"\"\n",
    "        n_i = int(abs(n_h))\n",
    "        k_i = int(2.*abs(k))/2.\n",
    "        assert k_i != 0, \"k_i != 0 required\"\n",
    "        b0_n_k = 4.*n_h*( np.math.factorial(2*n_h) / ( 2**(2*n_h) * ( np.math.factorial(n_h) )**2 )  )**2\n",
    "        for k_l in np.arange(3/2, k_i+1, 1):\n",
    "            b0_n_k *= (-1.) * ( k_l - 1. )**2 / k_l**2 * ( 2*n_i + 1. - 2.*k_l ) / ( 2*n_i - 1. + 2.*k_l )\n",
    "        return b0_n_k if ( k > 0 ) else ( -b0_n_k )\n",
    "\n",
    "    \n",
    "def dispersion_rel_2D(k, ϕ, N_λ, S, n_h):\n",
    "    k_part = np.zeros_like(k)\n",
    "    for l in np.arange(0.5, n_h-0.5 + 1, 1):\n",
    "        for n in np.arange(0.5, n_h-0.5 + 1, 1):\n",
    "            k_part += ghrist_b0(n_h, l) * ghrist_b0(n_h, n) * ( \n",
    "                np.sin( l * k * np.cos(ϕ) ) * np.sin( n * k * np.cos(ϕ) )\n",
    "                +  np.sin( l * k * np.sin(ϕ) ) * np.sin( n * k * np.sin(ϕ) )\n",
    "            )\n",
    "    k_part -= ( np.sin( sc.pi * S / N_λ ) / S )**2\n",
    "    return k_part\n",
    "\n",
    "\n",
    "def dispersion_wave_num_ϕ(ϕ, N_λ, S, n_h):\n",
    "    return np.array([ newton(dispersion_rel_2D, x0=1., args=(ϕ_i, N_λ, S, n_h) ) for ϕ_i in ϕ ])\n",
    "\n",
    "\n",
    "def dispersion_wave_num_S(ϕ, N_λ, S, n_h):\n",
    "    return np.array([ newton(dispersion_rel_2D, x0=1., args=(ϕ, N_λ, S_i, n_h) ) for S_i in S ])\n",
    "\n",
    "\n",
    "def dispersion_wave_num_N_λ(ϕ, N_λ, S, n_h):\n",
    "    return np.array([ newton(dispersion_rel_2D, x0=1., args=(ϕ, N_λ_i, S, n_h) ) for N_λ_i in N_λ ])\n"
   ]
  },
  {
   "cell_type": "markdown",
   "metadata": {},
   "source": [
    "# General considerations on material and resolution"
   ]
  },
  {
   "cell_type": "markdown",
   "metadata": {},
   "source": [
    "## Laser parameters"
   ]
  },
  {
   "cell_type": "code",
   "execution_count": null,
   "metadata": {},
   "outputs": [],
   "source": [
    "# LASER\n",
    "\n",
    "## Change w_0x to Rayleighlength >~ Plasma oscillation length\n",
    "## Change pulse duration to tau_FWHM,I = 30fs -> sigma_t,E = tau_FWHM,I / sqrt(2. * log(2.)) / sqrt(2)\n",
    "## sigma_t,E = tau_FWHM,I / 1.6651 = 18.0168\n",
    "## lower a0 to just enter the bubble regime\n",
    "\n",
    "λ_0 = 800e-9 # laser wavelength\n",
    "print(\"Laser period = %.1es\"%(λ_0/sc.c))\n",
    "\n",
    "_A0 = 3.5\n",
    "print(\"Laser a_0 = %.2f\"%(_A0))\n",
    "\n",
    "τ_FWHM_I = 10.e-15\n",
    "print(\"FWHM duration of laser intensity = %.3ffs\"%(τ_FWHM_I * 1.e15))\n",
    "σ_I = τ_FWHM_I / ( 2.*sqrt( 2. * log(2.) ) )\n",
    "print(\"σ_I of laser intensity = %.3ffs\"%(σ_I * 1.e15))\n",
    "\n",
    "ϕ = 5. * sc.pi / 180.\n",
    "print(\"ϕ = %.1fdeg\"%(ϕ*180./pi))\n",
    "\n",
    "# beam waist in focus\n",
    "w_0x = 5.e-6\n",
    "print(\"w_0 = {:.2f} µm\".format(w_0x * 1e6))\n",
    "\n",
    "# Rayleigh length\n",
    "z_r = 1 * np.pi * w_0x**2 / λ_0\n",
    "print(\"z_r = {:.2f} µm\".format(z_r * 1e6))"
   ]
  },
  {
   "cell_type": "code",
   "execution_count": null,
   "metadata": {},
   "outputs": [],
   "source": [
    "n_c = critical_density_si(λ_0) # unit: ELEMENTS/m^3\n",
    "print(\"critical e density for λ_Laser = %.3e/m^3\"%(n_c))\n",
    "print(\"plasma frequency at critical density = %.1erad/s\"%(plasma_angular_frequency(n_c)))\n",
    "print(\"plasma period at critical density = %.1es (= laser period)\"%(2.*sc.pi/plasma_angular_frequency(n_c)))"
   ]
  },
  {
   "cell_type": "markdown",
   "metadata": {},
   "source": [
    "## Plasma parameters"
   ]
  },
  {
   "cell_type": "code",
   "execution_count": null,
   "metadata": {},
   "outputs": [],
   "source": [
    "BASE_DENSITY_SI = 2.5e+24 # unit: ELEMENTS/m^3\n",
    "print(\"BASE_DENSITY = %.2en_c\"%(BASE_DENSITY_SI / n_c))\n",
    "PLATEAU_DENSITY_SI = BASE_DENSITY_SI\n",
    "print(\"PLATEAU_DENSITY = %.2en_c\"%(PLATEAU_DENSITY_SI / n_c))"
   ]
  },
  {
   "cell_type": "code",
   "execution_count": null,
   "metadata": {},
   "outputs": [],
   "source": [
    "PLASMA_FREQUENCY_SI = plasma_angular_frequency(PLATEAU_DENSITY_SI)\n",
    "print(\"plasma frequency at plateau density = %.1erad/s\"%(PLASMA_FREQUENCY_SI))\n",
    "print(\"plasma period at plateau density = %.1es\"%(2.*sc.pi/PLASMA_FREQUENCY_SI))\n",
    "λ_plasma = plasma_oscillation_length(PLATEAU_DENSITY_SI)\n",
    "print(\"plasma oscillation length at plateau density = %.1fmum\"%(λ_plasma*1.e6))\n",
    "print(\"plasma skin depth = %.1fmum\"%(sc.c/PLASMA_FREQUENCY_SI*1.e6))"
   ]
  },
  {
   "cell_type": "code",
   "execution_count": null,
   "metadata": {},
   "outputs": [],
   "source": [
    "λ_plasma_base = plasma_oscillation_length(BASE_DENSITY_SI)\n",
    "print(\"plasma frequency at base density = %.1erad/s\"%(plasma_angular_frequency(BASE_DENSITY_SI)))\n",
    "print(\"plasma oscillation length at base density = %.1fmum\"%(λ_plasma_base*1.e6))"
   ]
  },
  {
   "cell_type": "code",
   "execution_count": null,
   "metadata": {},
   "outputs": [],
   "source": [
    "print(\"Rayleighlength / plasma oscillation length =\", z_r / λ_plasma)\n",
    "print(\"Rayleighlength / base plasma oscillation length =\", z_r / λ_plasma_base)"
   ]
  },
  {
   "cell_type": "markdown",
   "metadata": {},
   "source": [
    "Looking at the plasma oscillation lengths, it becomes clear that the laser period is the smallest structure that should be resolved."
   ]
  },
  {
   "cell_type": "markdown",
   "metadata": {},
   "source": [
    "## Mesh parameters"
   ]
  },
  {
   "cell_type": "markdown",
   "metadata": {},
   "source": [
    "As we use the 16th (or 8th) order FDTD solver, we are able to choose a low resolution of 8 cells/$\\lambda_\\mathrm{Laser}$ and keep the numerical dispersion error low with a time step of a tenth of the CFL limit. See plots in PIConGPU docu or field_solver notebook."
   ]
  },
  {
   "cell_type": "code",
   "execution_count": null,
   "metadata": {},
   "outputs": [],
   "source": [
    "dx_old = 1.60000e-7\n",
    "dy_old = 2.00000e-8\n",
    "dz_old = dx_old\n",
    "\n",
    "dt_old = 6.536577e-18\n",
    "\n",
    "n_e_old = 2.5e24 # unit: ELEMENTS/m^3\n",
    "λ_plasma_old = plasma_oscillation_length(n_e_old)\n",
    "\n",
    "print(\"λ_plasma = %.5fμm\"%(λ_plasma_old*1.e6))\n",
    "\n",
    "# 1120 2304 6144\n",
    "Lx_old = dx_old*1120\n",
    "Ly_old = dy_old*2304\n",
    "Lz_old = dz_old*6144    # Because plasma should be \"quiet\" at the boundary and\n",
    "                        # reflections where a problem and\n",
    "                        # side cavities interesting\n",
    "\n",
    "N_steps_old = 310000\n",
    "\n",
    "print(\"λ_plasma / dx =\", λ_plasma_old / dx_old )\n",
    "print(\"λ_Laser / dy =\", λ_0 / dy_old )\n",
    "print(\"λ_plasma / dz =\", λ_plasma_old / dz_old )\n",
    "print(\"x Ausdehnung\", Lx_old*1.e6, \"μm =\", Lx_old / λ_plasma_old, \"λ_plasma =\", Lx_old / w_0x, \"w_0x\")\n",
    "print(\"y Ausdehnung\", Ly_old*1.e6, \"μm =\", Ly_old / λ_plasma_old, \"λ_plasma\")\n",
    "print(\"z Ausdehnung\", Lz_old*1.e6, \"μm =\", Lz_old / λ_plasma_old, \"λ_plasma =\", Lz_old / z_r, \"z_r\")\n",
    "z_off = Lz_old/2 * sin(ϕ)\n",
    "print(\"Propagation distance of the laser along the focal mirror axis = %.2fµm = %.2fz_r\"%(z_off*1.e6, z_off))\n",
    "w_x_boundary = w_0x * sqrt(1. + (Lz_old/2)**2 / z_r**2)\n",
    "print(\"Size at simulation domain boundary = %.2fµm, size of 99%% power aperture = %.2fLx\"%(w_x_boundary*1.e6, w_x_boundary*sc.pi/Lx_old))"
   ]
  },
  {
   "cell_type": "code",
   "execution_count": null,
   "metadata": {},
   "outputs": [],
   "source": [
    "# box length in y direction, from experience with Piz Daint simulation\n",
    "L_y = 8. * λ_plasma_base\n",
    "print(\"box length in y: {:.2f} µm\".format(L_y * 1e6))\n",
    "\n",
    "# box length in z direction, from experience with Piz Daint simulation (the laser pulse is not bounded in z-direction)\n",
    "L_z = 15. * λ_plasma_base\n",
    "print(\"box length in z: %.2f µm = %.2f λ_plasma = %.2f z_Rx\"%(L_z * 1e6, L_z / λ_plasma, L_z/z_r))\n",
    "\n",
    "# box length in x direction,\n",
    "# from the typical criterion for 99% of beam power: pi * w for transversal size\n",
    "# should fit into the simulation in order to properly model the propagation of the focusing field.\n",
    "w_init = w_0x * np.sqrt(1 + (.5*L_z / z_r)**2)\n",
    "print(\"w_init = {:.2f} µm\".format(w_init * 1e6))\n",
    "print(r\"π * w_init = {:.2f} µm\".format(np.pi * w_init * 1e6))\n",
    "\n",
    "# take even more than maybe required from defocusing, also fit two plasma wavelength in the x-direction\n",
    "L_x = 8* λ_plasma_base #40.e-6 # m\n",
    "print(\"box length in x: {:.2f} µm\".format(L_x * 1e6))"
   ]
  },
  {
   "cell_type": "markdown",
   "metadata": {},
   "source": [
    "### Strict constraints"
   ]
  },
  {
   "cell_type": "markdown",
   "metadata": {},
   "source": [
    "#### Transverse and longitudinal sampling"
   ]
  },
  {
   "cell_type": "code",
   "execution_count": null,
   "metadata": {},
   "outputs": [],
   "source": [
    "## The cell length in the longitudinal direction is given by the laser wavelength\n",
    "λ_0_proj_y = λ_0 / cos(ϕ)\n",
    "dy_strict = λ_0_proj_y / 12.\n",
    "print(\"dy = {:.5e} m\".format(dy_strict))\n",
    "print(\"sanity check: longitudinal samples per laser wavelength λ_laser: %.2f\"%(λ_0/dy_strict))"
   ]
  },
  {
   "cell_type": "code",
   "execution_count": null,
   "metadata": {},
   "outputs": [],
   "source": [
    "## If the projected laser period in the transverse direction is longer than the plasma oscillation length,\n",
    "## I choose a cell size with equal length in x and z direction.\n",
    "λ_0_proj_z = λ_0 / sin(ϕ)\n",
    "print(\"Transverse laser oscillation length / plasma oscillation length =\", λ_0_proj_z / λ_plasma)"
   ]
  },
  {
   "cell_type": "code",
   "execution_count": null,
   "metadata": {},
   "outputs": [],
   "source": [
    "## Choose dz equal to dy, since the laser propagates more in z than in y direction\n",
    "dz_strict = λ_0_proj_z / 12.\n",
    "#dz_strict = λ_plasma_base / 8.\n",
    "#print(\"sanity check: transverse samples per laser wavelength λ_laser: %.2f\"%(λ_0/dz_strict))"
   ]
  },
  {
   "cell_type": "code",
   "execution_count": null,
   "metadata": {},
   "outputs": [],
   "source": [
    "## The cell length in the transverse directions is given by Courant-Friedrich-Levy condition (eq. (4.98) in Taflove)\n",
    "## and needs to be much smaller than the plasma oscillation length.\n",
    "## A large aspect ratio is also not good since we will end up with a lot of particles per cell in the region\n",
    "## of the accelerated bunch.\n",
    "## Furthermore, in the sheeth region of the bubble we expect very high density, maybe 1-2 orders of magnitude higher\n",
    "## than in the base density, and we do not want to model this region completely incorrect.\n",
    "## Therefore we assume a maximum factor for the aspect ratio.\n",
    "dx_strict = dz_strict #λ_plasma / 80.\n",
    "print(\"dx = %.5em\"%(dx_strict))\n",
    "print(\"Samples per plasma oscillation length λ_p = 2πc/ω_p: %.2f\"%(λ_plasma/dx_strict))"
   ]
  },
  {
   "cell_type": "code",
   "execution_count": null,
   "metadata": {},
   "outputs": [],
   "source": [
    "## See how spatial and temporal discretization affects dispersion along the laser propagation direction\n",
    "# CFL condition for AOFDTD with 4 neighbors\n",
    "n_h = 4\n",
    "aofdtd_coeffs = np.array([ghrist_b0(n_h, k+.5) for k in arange(n_h)])\n",
    "print(\"AOFDTD coefficients = \", aofdtd_coeffs)\n",
    "aofdtd = sum(np.array([(-1)**k * aofdtd_coeffs[k] for k in arange(n_h)]))\n",
    "print(\"AOFDTD correction factor to Yee CFL = %f\"%(aofdtd))\n",
    "\n",
    "dt_max = 0.995 / aofdtd / sc.c / sqrt(1./dx_strict**2 + 1./dy_strict**2 + 1./dz_strict**2)\n",
    "\n",
    "\n",
    "dt_range = dt_max * np.linspace(.05, 1., 20)"
   ]
  },
  {
   "cell_type": "code",
   "execution_count": null,
   "metadata": {},
   "outputs": [],
   "source": [
    "def omega(wavenumber, angle, n_h, Δt, Δx, Δy, Δz):\n",
    "    sqrt_x = sum(np.array([ghrist_b0(n_h, l) * sin(wavenumber*cos(angle)*l*Δx) / Δx for l in (arange(n_h)+.5)]))\n",
    "    sqrt_y = sum(np.array([ghrist_b0(n_h, l) * sin(wavenumber*sin(angle)*l*Δy) / Δy for l in (arange(n_h)+.5)]))\n",
    "    sqrt_z = 0.\n",
    "    ξ = sc.c * Δt * sqrt(sqrt_x**2 + sqrt_y**2 + sqrt_z**2)\n",
    "    assert all(abs(val) <= 1 for val in ξ), \"Don't Do Bullshit!\"\n",
    "    return 2.*arcsin(ξ)/Δt\n"
   ]
  },
  {
   "cell_type": "code",
   "execution_count": null,
   "metadata": {},
   "outputs": [],
   "source": [
    "k = 2.*sc.pi/λ_0\n",
    "ω = omega(k, ϕ + .5*sc.pi, n_h, dt_range, dx_strict, dy_strict, dz_strict)"
   ]
  },
  {
   "cell_type": "code",
   "execution_count": null,
   "metadata": {},
   "outputs": [],
   "source": [
    "figure(figsize=(8,6))\n",
    "\n",
    "plot(ω/k/sc.c - 1., \"o-\")\n",
    "\n",
    "xlabel(r\"Number of time step\")\n",
    "ylabel(r\"$\\tilde v_p/c - 1$\")\n",
    "title(\"Velocity error depending on timestep\\nλ=%inm, n_h=%i, ϕ=%.1f°\"%(2.*sc.pi/k*1.e9, n_h, ϕ*180./sc.pi))\n",
    "\n",
    "#legend()\n",
    "grid()\n",
    "\n",
    "#xticks(np.arange(0.1,1+0.1,0.1))\n",
    "#xlim(0,90.)\n",
    "#ylim(1.e-4, 2.e-2)\n",
    "yscale('log')\n",
    "\n",
    "show()\n",
    "close()"
   ]
  },
  {
   "cell_type": "code",
   "execution_count": null,
   "metadata": {},
   "outputs": [],
   "source": [
    "# Calculate Laser propagation length over which\n",
    "# the impact of numerical dispersion must be negligible\n",
    "L_trans_arr = array([.5 * L_z, z_r])\n",
    "i_trans = L_trans_arr.argmin()\n",
    "L_trans = L_trans_arr[i_trans]\n",
    "print(\"Transition length: index = %i, L_trans = %e\"%(i_trans, L_trans))\n",
    "L_cyc = L_trans / sin(ϕ)\n",
    "print(\"Laser propagation distance over which dispersion is of interest = %.3fmm\"%(L_cyc*1.e3))\n",
    "t_cyc = L_cyc / sc.c # corresponding time frame\n",
    "sim_steps = t_cyc/dt_range\n",
    "print(\"simulation steps depending on step size =\", sim_steps)\n",
    "\n",
    "figure(figsize=(8,6))\n",
    "\n",
    "prop_deviation = abs(ω/k/sc.c - 1.) * sc.c * sim_steps * dt_range / λ_plasma\n",
    "plot(prop_deviation, \"o-\")\n",
    "\n",
    "xlabel(r\"Number of time step\")\n",
    "ylabel(r\"$\\Delta v * t_{tot} / \\lambda_{plasma}$\")\n",
    "title(\"Propagation distance deviation after %.2eΔt_max\\nλ=%.2fµm, n_h=%i, ϕ=%.1f°\"%(t_cyc/dt_max, 2.*sc.pi/k*1.e6, n_h, ϕ*180./sc.pi))\n",
    "\n",
    "#legend()\n",
    "grid()\n",
    "\n",
    "#xticks(np.arange(0.1,1+0.1,0.1))\n",
    "#xlim(0,90.)\n",
    "#ylim(0., 1.)\n",
    "#yscale('log')\n",
    "\n",
    "show()\n",
    "close()"
   ]
  },
  {
   "cell_type": "code",
   "execution_count": null,
   "metadata": {},
   "outputs": [],
   "source": [
    "# Choose time step\n",
    "chosen_index = 8\n",
    "dt_strict = dt_range[chosen_index]\n",
    "print(\"dt_strict = %.6e\"%(dt_strict))\n",
    "print(\"propagation distance deviation after %.6eΔt = %.2e\"%(sim_steps[chosen_index], prop_deviation[chosen_index]))\n",
    "\n",
    "target_energy = 100.e9 # unit: eV\n",
    "E_acc = 1.e11 # accelerating field, unit: eV/m\n",
    "z_acc = target_energy / E_acc # acceleration distance, unit: m\n",
    "t_tot = z_acc / sc.c # acceleration time, unit: s\n",
    "simulation_time = t_tot / dt_strict\n",
    "print(\"Total simulation time = %iMΔt\"%(simulation_time*1.e-6))"
   ]
  },
  {
   "cell_type": "markdown",
   "metadata": {},
   "source": [
    "#### Sampling summary"
   ]
  },
  {
   "cell_type": "code",
   "execution_count": null,
   "metadata": {},
   "outputs": [],
   "source": [
    "print(\"sanity check: temporal samples per laser period λ_Laser / c Δt =\", λ_0 / sc.c / dt_strict)\n",
    "print(\"sanity check: Δy / c Δt =\", dy_strict / sc.c / dt_strict)\n",
    "print(\"sanity check CFL condition: c Δt =\", sc.c * dt_strict, \"<\", 1. / aofdtd /sqrt( 1./dx_strict**2 + 1./dy_strict**2 + 1./dz_strict**2 ), \"!?\")"
   ]
  },
  {
   "cell_type": "code",
   "execution_count": null,
   "metadata": {},
   "outputs": [],
   "source": [
    "print(\"Summary of sampling parameters\")\n",
    "print(\"==============================\")\n",
    "print(\"dt = %.5es = %.3f T_Laser = %.1e T_Plasma\"%(dt_strict, dt_strict/(λ_0 / sc.c), dt_strict/(2. * sc.pi / PLASMA_FREQUENCY_SI)))\n",
    "print(\"dx = %.5em = %.3f λ_Laser = %.1e λ_Plasma\"%(dx_strict, dx_strict/λ_0, dx_strict/λ_plasma_base))\n",
    "print(\"dy = %.5em = %.3f λ_Laser = %.1e λ_Plasma\"%(dy_strict, dy_strict/λ_0, dy_strict/λ_plasma_base))\n",
    "print(\"dz = %.5em = %.3f λ_Laser = %.1e λ_Plasma\"%(dz_strict, dz_strict/λ_0, dz_strict/λ_plasma_base))"
   ]
  },
  {
   "cell_type": "code",
   "execution_count": null,
   "metadata": {},
   "outputs": [],
   "source": [
    "print(\"Typical number of real electrons per cell =\", BASE_DENSITY_SI * dx_strict * dy_strict * dz_strict)"
   ]
  },
  {
   "cell_type": "markdown",
   "metadata": {},
   "source": [
    "### Evaluate correct initial temperature"
   ]
  },
  {
   "cell_type": "code",
   "execution_count": null,
   "metadata": {},
   "outputs": [],
   "source": [
    "used_density = BASE_DENSITY_SI\n",
    "T_min = dx_strict**2 * used_density * sc.e / sc.epsilon_0 # in [eV]\n",
    "print(\"Minimum intialization temperature to circumvent finite grid instability at initial preionization T_min = %.4ekeV\"%(T_min * 1.e-3))\n",
    "\n",
    "T_init = 0. #T_min\n",
    "print(\"Initialization Temperature T_init = %.4ekeV\"%(T_init*1.e-3))\n",
    "\n",
    "λ_D = sqrt(sc.epsilon_0 * T_init / ( used_density * sc.e ) )\n",
    "print(\"Debye length @ T_init λ_D(T_init) / Δx = %.4e\"%(λ_D / dx_strict))"
   ]
  },
  {
   "cell_type": "markdown",
   "metadata": {},
   "source": [
    "### Simulation window volume"
   ]
  },
  {
   "cell_type": "code",
   "execution_count": null,
   "metadata": {},
   "outputs": [],
   "source": [
    "box_cells_x_raw = int(L_x / dx_strict)\n",
    "print(\"box L_x: \",box_cells_x_raw)\n",
    "box_cells_y_raw = int(L_y / dy_strict)\n",
    "print(\"box L_y: \",box_cells_y_raw)\n",
    "box_cells_z_raw = int(L_z / dz_strict)\n",
    "print(\"box L_z: \",box_cells_z_raw)\n",
    "\n",
    "cells_norm = box_cells_x_raw\n",
    "print(\"Ratio of box dimensions [cells] : x : y : z = %.1f : %.1f : %.1f\"%(box_cells_x_raw/cells_norm, box_cells_y_raw/cells_norm, box_cells_z_raw/cells_norm))"
   ]
  },
  {
   "cell_type": "markdown",
   "metadata": {},
   "source": [
    "### Calculate the real number of cells in the box\n",
    "\n",
    "Aim for a simulation volume per GPU that has an approximately even number of cells in all directions.\n",
    "\n",
    "Berechne Verhältnis der Boxlängen zueinander und nimm selbes Verhältnis für Verteilung der Grafikkarten."
   ]
  },
  {
   "cell_type": "markdown",
   "metadata": {},
   "source": [
    "#### Estimate GPU distribution from ratio of box dimensions"
   ]
  },
  {
   "cell_type": "code",
   "execution_count": null,
   "metadata": {},
   "outputs": [],
   "source": [
    "# domain decomposition\n",
    "gpus_x = 1\n",
    "gpus_y = 8\n",
    "gpus_z = 2\n",
    "\n",
    "print(\"GPUs x : y : z = %.1f : %.1f : %.1f\"%(gpus_x, gpus_y, gpus_z))\n",
    "print(\"total number of gpus:\", gpus_x * gpus_y *gpus_z)\n",
    "\n",
    "# super cell\n",
    "super_cell = np.array([8, 8, 8])\n",
    "\n",
    "box_raw = np.array([box_cells_x_raw, box_cells_y_raw, box_cells_z_raw])\n",
    "gpu_raw = np.array([box_raw[0] / gpus_x / super_cell[0]\n",
    "                    , box_raw[1] / gpus_y / super_cell[1]\n",
    "                    , box_raw[2] / gpus_z / super_cell[2]])\n",
    "\n",
    "print(\"simulation box size raw =\", box_raw)\n",
    "print(\"super cells per gpu:\", gpu_raw)"
   ]
  },
  {
   "cell_type": "code",
   "execution_count": null,
   "metadata": {},
   "outputs": [],
   "source": [
    "box_cells_x = 28 * gpus_x * super_cell[0]\n",
    "box_cells_y = 40 * gpus_y * super_cell[1]\n",
    "box_cells_z = 28 * gpus_z * super_cell[2]\n",
    "\n",
    "box = np.array([box_cells_x, box_cells_y, box_cells_z], dtype=int)\n",
    "print(\"Simulation box size = \", box)\n",
    "window = box / array([gpus_x, gpus_y, gpus_z]) * array([gpus_x, gpus_y-1, gpus_z])\n",
    "print(\"Moving window size = \", window)\n",
    "print(\"box dimesion per gpu (x, y, z) [cells] = (%.1f, %.1f, %.1f)\"%(box_cells_x / gpus_x, box_cells_y / gpus_y, box_cells_z / gpus_z))"
   ]
  },
  {
   "cell_type": "code",
   "execution_count": null,
   "metadata": {},
   "outputs": [],
   "source": [
    "print(\"Laser start position focus_y = %iDy_SI\"%(int(window[1]*0.75)))"
   ]
  },
  {
   "cell_type": "markdown",
   "metadata": {},
   "source": [
    "## Estimate memory consumption"
   ]
  },
  {
   "cell_type": "code",
   "execution_count": null,
   "metadata": {},
   "outputs": [],
   "source": [
    "# typical number of particles per cell\n",
    "N_PPC = 25.\n",
    "\n",
    "print(\"Number of particles = %.5e\"%(box[0]*box[1]*box[2]*N_PPC))"
   ]
  },
  {
   "cell_type": "code",
   "execution_count": null,
   "metadata": {},
   "outputs": [],
   "source": [
    "n_x = int(box_cells_x / gpus_x)\n",
    "n_y = int(box_cells_y / gpus_y)\n",
    "n_z = int(box_cells_z / gpus_z)\n",
    "\n",
    "mc = MemoryCalculator(\n",
    "    n_x=n_x,\n",
    "    n_y=n_y,\n",
    "    n_z=n_z,\n",
    "    precision_bits=32\n",
    ")"
   ]
  },
  {
   "cell_type": "code",
   "execution_count": null,
   "metadata": {},
   "outputs": [],
   "source": [
    "print(\"Memory requirement per GPU:\")\n",
    "# field memory per GPU\n",
    "# * 2 Additional field in fileOutput.param: chargeDensity and energyDensity\n",
    "# * 6 additional fields due to usage of brackgroundfield implementation with double buffering\n",
    "field_gpu = mc.mem_req_by_fields(field_tmp_slots=2+6,particle_shape_order=3,sim_dim=3)\n",
    "print(\"+ fields: {:.2f} MB\".format(\n",
    "    field_gpu / (1024 * 1024)))\n",
    "# particle memory per GPU - only the target area contributes here\n",
    "e_gpu = mc.mem_req_by_particles(\n",
    "    n_x, n_y, n_z, num_additional_attributes = 0,\n",
    "    particles_per_cell = N_PPC)\n",
    "\n",
    "# memory for calorimeters\n",
    "cal_gpu = mc.mem_req_by_calorimeter(n_energy=1024, n_yaw=180, n_pitch=90\n",
    "                                     )\n",
    "\n",
    "print(\"+ species:\")\n",
    "print(\"- e: {:.2f} MB\".format(e_gpu / (1024 * 1024)))\n",
    "\n",
    "rng_gpu = mc.mem_req_by_rng(n_x, n_y, n_z)\n",
    "print(\"+ RNG states: {:.2f} MB\".format(rng_gpu / (1024 * 1024)))\n",
    "\n",
    "print(\"+ particle calorimeters: {:.2f} MB\".format(cal_gpu / (1024 * 1024)))\n",
    "\n",
    "mem_sum = field_gpu + e_gpu + rng_gpu + cal_gpu\n",
    "print(\"Sum of required GPU memory: {:.2f} MB\".format(mem_sum / (1024 * 1024)))"
   ]
  },
  {
   "cell_type": "markdown",
   "metadata": {},
   "source": [
    "**Available clusters**\n",
    "\n",
    "* taurus: *gpu2* partition: 256 x Tesla **k80 with 11441MiB memory**\n",
    "* taurus: *ml* partition: 132 x Tesla **V100 with 32256MiB memory**\n",
    "* Summit: partition: 27648 Nvidia Tesla **V100 with 16130MiB memory** (4608 nodes, in total 9216 IBM POWER9 CPUs and 27648 Nvidia Tesla GPUs)\n",
    "* hemera: *fwkt_v100* partition: 16 x 4 Tesla **V100 with 32256MiB memory**\n",
    "* spock: *caar* partition: 4 x 4 AMD **MI100 with 32GiB memory** (for 3 hours), 4 x 16 GPU/s for one hour"
   ]
  },
  {
   "cell_type": "markdown",
   "metadata": {},
   "source": [
    "# Creating the example \n",
    "\n",
    "Branch: `setup-2021-02_TWEAC-PRX-for-CAAR`"
   ]
  },
  {
   "cell_type": "markdown",
   "metadata": {},
   "source": [
    "## `grid.param`"
   ]
  },
  {
   "cell_type": "code",
   "execution_count": null,
   "metadata": {},
   "outputs": [],
   "source": [
    "print(\"dt = {:.5e} s\".format(dt_strict))\n",
    "print(\"dx = {:.5e} m\".format(dx_strict))\n",
    "print(\"dy = {:.5e} m\".format(dy_strict))\n",
    "print(\"dz = {:.5e} m\".format(dz_strict))"
   ]
  },
  {
   "cell_type": "markdown",
   "metadata": {},
   "source": [
    "## `fieldSolver.param`"
   ]
  },
  {
   "cell_type": "code",
   "execution_count": null,
   "metadata": {},
   "outputs": [],
   "source": [
    "print(\"using Solver = maxwellSolver::ArbitraryOrderFDTDPML<%i>;\"%(n_h))"
   ]
  },
  {
   "cell_type": "markdown",
   "metadata": {},
   "source": [
    "## `density.param`"
   ]
  },
  {
   "cell_type": "markdown",
   "metadata": {},
   "source": [
    "## Gas profiles"
   ]
  },
  {
   "cell_type": "code",
   "execution_count": null,
   "metadata": {},
   "outputs": [],
   "source": [
    "def richard_density(y, z):\n",
    "    CELL_WIDTH_SI = dx_strict\n",
    "    CELL_HEIGHT_SI = dy_strict\n",
    "    CELL_DEPTH_SI = dz_strict\n",
    "    \n",
    "    VACUUM_Y_SI = 100.0 * CELL_HEIGHT_SI\n",
    "    VACUUM_Z_SI = 148.0 * CELL_DEPTH_SI\n",
    "    Z_GRADIENT_SI = 32.0 * CELL_DEPTH_SI\n",
    "\n",
    "    SIM_BOX_Z = box[2] * CELL_DEPTH_SI # MATCH THIS WITH Z-COMPONENT OF \"TBG_gridsize\" IN CFG_FILE !!!                                                              \n",
    "    \n",
    "    PLASMA_Z_LENGTH_SI = SIM_BOX_Z - 2.0 * VACUUM_Z_SI\n",
    "    \n",
    "    INITIAL_UPRAMP = 0.0e-6 ##change\n",
    "    LOW_DENSITY_PLATEAU = 0.0e-6 ##change\n",
    "    TORCH_UPRAMP = 120.0e-6 ##change\n",
    "    HIGH_DENSITY_PLATEAU = 240.0e-6 ##change\n",
    "    DOWNRAMP_1 = 15.0e-6 ##change\n",
    "    DOWNRAMP_2 = 0.0e-6 ##change\n",
    "    \n",
    "    REL_DENSITY_LOW = 0.0\n",
    "    REL_DENSITY_HIGH = 2.0\n",
    "    REL_DENSITY_MEDIUM = 1.0 #sqrt(2.0)\n",
    "    REL_DENSITY_BASE = 1.0 # always one, use BASE_DENSITY_SI to change base density\n",
    "                           # just here to avoid \"magic\" 1.0s in the code\n",
    "    \n",
    "    REL_DENSITY = REL_DENSITY_BASE\n",
    "    \n",
    "    \n",
    "    # Plot of density profile                                                                  \n",
    "    #\n",
    "    #   density                                                                                  \n",
    "    #\n",
    "    # REL_DENSITY_HIGH   |        ___                                                                              \n",
    "    # REL_DENSITY_MEDIUM |       /   \\                                                                             \n",
    "    # REL_DENSITY_LOW    |    __/     `.                                                                           \n",
    "    # REL_DENSITY_BASE   |   /          `._______                                                                  \n",
    "    #                    |  /                                                                                    \n",
    "    #                    |----------------------------  y                                                       \n",
    "    #                      A B C D E  F  G   H                                                                   \n",
    "    # */\n",
    "    \n",
    "    \n",
    "    # vacuum before gas (A)                                                                    \n",
    "    if ( y < VACUUM_Y_SI ):\n",
    "        return 0.0\n",
    "    if ( z < VACUUM_Z_SI or z >= (PLASMA_Z_LENGTH_SI + VACUUM_Z_SI ) ):\n",
    "        REL_DENSITY = 0.0\n",
    "    if ( z >= VACUUM_Z_SI and z < ( VACUUM_Z_SI + Z_GRADIENT_SI ) ):\n",
    "        REL_DENSITY =  (z - VACUUM_Z_SI ) / Z_GRADIENT_SI\n",
    "    if ( z < ( PLASMA_Z_LENGTH_SI + VACUUM_Z_SI ) and z >= ( PLASMA_Z_LENGTH_SI + VACUUM_Z_SI - Z_GRADIENT_SI ) ):\n",
    "        REL_DENSITY = ( PLASMA_Z_LENGTH_SI + VACUUM_Z_SI - z) / Z_GRADIENT_SI\n",
    "    \n",
    "    # first up-ramp (B)\n",
    "    y_B = VACUUM_Y_SI + INITIAL_UPRAMP\n",
    "    if ( y >= ( VACUUM_Y_SI ) and y < y_B ):\n",
    "        return REL_DENSITY * REL_DENSITY_LOW * ( ( y - VACUUM_Y_SI ) / INITIAL_UPRAMP )\n",
    "    \n",
    "    # first plateau (C)\n",
    "    y_C = y_B + LOW_DENSITY_PLATEAU\n",
    "    if ( y >= y_B and y < y_C ):\n",
    "        return REL_DENSITY * REL_DENSITY_LOW\n",
    "    \n",
    "    # second up-ramp (D)\n",
    "    y_D = y_C + TORCH_UPRAMP\n",
    "    if ( y >= y_C and y < y_D ):\n",
    "        return REL_DENSITY * (REL_DENSITY_HIGH - REL_DENSITY_LOW) * ( ( y - y_C ) / TORCH_UPRAMP ) + REL_DENSITY_LOW\n",
    "    \n",
    "    # second plateau (E)\n",
    "    y_E = y_D + HIGH_DENSITY_PLATEAU\n",
    "    if ( y >= y_D and y < y_E ):\n",
    "        return REL_DENSITY * REL_DENSITY_HIGH\n",
    "    \n",
    "    # first down-ramp (F)\n",
    "    y_F = y_E + DOWNRAMP_1\n",
    "    if ( y >= y_E and y < y_F ):\n",
    "        return REL_DENSITY * (REL_DENSITY_MEDIUM - REL_DENSITY_HIGH) * ( y - y_E ) / DOWNRAMP_1 + REL_DENSITY * REL_DENSITY_HIGH\n",
    "\n",
    "    # second down-ramp (G)\n",
    "    y_G = y_F + DOWNRAMP_2\n",
    "    if ( y >= y_F and y < y_G ):\n",
    "        return REL_DENSITY * ( REL_DENSITY_BASE - REL_DENSITY_MEDIUM ) * ( y - y_F ) / DOWNRAMP_2 + REL_DENSITY * REL_DENSITY_MEDIUM\n",
    "        \n",
    "    # third plateau (H)\n",
    "    if ( y >= y_G):\n",
    "        return REL_DENSITY * REL_DENSITY_BASE # 0.32+e19 cm^-3                                         \n",
    "\n",
    "    return (REL_DENSITY * REL_DENSITY_BASE)"
   ]
  },
  {
   "cell_type": "code",
   "execution_count": null,
   "metadata": {},
   "outputs": [],
   "source": [
    "def density_from_array(y,z):\n",
    "    \"\"\" since the density profile functions above only work fpr single (y,z)-pairs\n",
    "        this wrapper function allows to calculate the density in a (y,z)-plane from\n",
    "        arrays of y- and z-values.\n",
    "        \n",
    "        NOTE: Adjust the density you want to plot by using the respective function in\n",
    "        the line starting with `density[j,i] = ...`\n",
    "    \"\"\"\n",
    "    density = zeros((len(z),len(y)))\n",
    "    #print(shape(density))\n",
    "    j=0\n",
    "    for z_j in z:\n",
    "        i=0\n",
    "        for y_i in y:\n",
    "            density[j,i] = richard_density(y_i, z_j) ## linear increase: 10.*y_i #2.*z_j \n",
    "                                                     ## Alex original: alex_density(y_i, z_j)\n",
    "            #print(j,i)\n",
    "            #print(y_i,z_j)\n",
    "            i+=1\n",
    "        j+=1\n",
    "    \n",
    "    return density"
   ]
  },
  {
   "cell_type": "code",
   "execution_count": null,
   "metadata": {},
   "outputs": [],
   "source": [
    "y = np.linspace(0., 400.e-6, 200)\n",
    "z = np.linspace(0., box[2]*dz_strict, 200)\n",
    "density2d = density_from_array(y,z)"
   ]
  },
  {
   "cell_type": "code",
   "execution_count": null,
   "metadata": {},
   "outputs": [],
   "source": [
    "figure(figsize=((8,6)))\n",
    "\n",
    "imshow(density2d\n",
    "       #, extent=(y[0]*1.e6, y[-1]*1.e6, z[0]*1.e6, z[-1]*1.e6)\n",
    "       , extent=(y[0]/dy_strict, y[-1]/dy_strict, z[0]/dz_strict, z[-1]/dz_strict)\n",
    "       , interpolation='none'\n",
    "       , origin='lower'\n",
    "       #, vmin = , vmax = \n",
    "       , cmap=cm.plasma\n",
    "       , aspect='auto'\n",
    ")\n",
    "\n",
    "xlabel(r\"y\")\n",
    "ylabel(r\"z\")\n",
    "\n",
    "colorbar()\n",
    "\n",
    "show()"
   ]
  },
  {
   "cell_type": "code",
   "execution_count": null,
   "metadata": {},
   "outputs": [],
   "source": [
    "figure((figsize(16,6)))\n",
    "subplot(1,2,1)\n",
    "\n",
    "plot(y*1.e6, density2d[len(z)//2,:])\n",
    "\n",
    "xlabel(\"y [mum]\")\n",
    "#xlim(0,500)\n",
    "#xticks(arange(0,501,25))\n",
    "\n",
    "ylabel(\"rel. Density\")\n",
    "grid()\n",
    "\n",
    "\n",
    "subplot(1,2,2)\n",
    "plot(y/dy_strict, density2d[len(z)//2,:])\n",
    "xlabel(\"y [cells]\")\n",
    "grid()\n",
    "\n",
    "show()"
   ]
  },
  {
   "cell_type": "markdown",
   "metadata": {},
   "source": [
    "## `species.param`"
   ]
  },
  {
   "cell_type": "markdown",
   "metadata": {},
   "source": [
    "```C++\n",
    "    using UsedParticleShape = particles::shapes::PQS;\n",
    "\n",
    "    using UsedParticleCurrentSolver = currentSolver::EmZ< UsedParticleShape >;\n",
    "\n",
    "    using UsedParticlePusher = particles::pusher::HigueraCary;\n",
    "```"
   ]
  },
  {
   "cell_type": "markdown",
   "metadata": {},
   "source": [
    "## `speciesDefinition.param`\n",
    "\n",
    "Deleted everything except electrons."
   ]
  },
  {
   "cell_type": "markdown",
   "metadata": {},
   "source": [
    "## `particle.param`\n",
    "\n",
    "Adjust minimum weighting and numbers of particles per cell.\n",
    "\n",
    "```C++\n",
    "    /** a particle with a weighting below MIN_WEIGHTING will not\n",
    "     *      be created / will be deleted\n",
    "     *\n",
    "     *  unit: none */\n",
    "    constexpr float_X MIN_WEIGHTING = 10;\n",
    "\n",
    "    /** Number of maximum particles per cell during density profile evaluation.\n",
    "     *\n",
    "     * Determines the weighting of a macro particle and with it, the number of\n",
    "     * particles \"sampling\" dynamics in phase space.\n",
    "     */\n",
    "    constexpr uint32_t TYPICAL_PARTICLES_PER_CELL = 25u;\n",
    "\n",
    "```"
   ]
  },
  {
   "cell_type": "code",
   "execution_count": null,
   "metadata": {},
   "outputs": [],
   "source": [
    "print(\"Typical number of real electrons per cell =\", BASE_DENSITY_SI * dx_strict * dy_strict * dz_strict)"
   ]
  },
  {
   "cell_type": "code",
   "execution_count": null,
   "metadata": {},
   "outputs": [],
   "source": [
    "print(\"current TYPICAL_PARTICLES_PER_CELL =\", N_PPC)"
   ]
  },
  {
   "cell_type": "markdown",
   "metadata": {},
   "source": [
    "## `particleFilters.param`\n",
    "\n",
    "Added something according to old run on Piz Daint."
   ]
  },
  {
   "cell_type": "markdown",
   "metadata": {},
   "source": [
    "## `speciesInitialization.param`"
   ]
  },
  {
   "cell_type": "markdown",
   "metadata": {},
   "source": [
    "Set density profile, start position, add drift and temperature.\n",
    "\n",
    "```C++\n",
    "using InitPipeline = bmpl::vector<\n",
    "        CreateDensity<\n",
    "            densityProfiles::FreeFormula,\n",
    "            startPosition::Random,\n",
    "            PIC_Electrons\n",
    "        >,\n",
    "        Manipulate<\n",
    "            manipulators::AssignYDriftPositive,\n",
    "            PIC_Electrons\n",
    "        >,\n",
    "        Manipulate<\n",
    "            manipulators::AddTemperature,\n",
    "            PIC_Electrons\n",
    "        >\n",
    "    >;\n",
    "```"
   ]
  },
  {
   "cell_type": "markdown",
   "metadata": {},
   "source": [
    "## `memory.param`\n",
    "\n",
    "Increase default exchange memory and introduce electron exchange memory\n",
    "```C++\n",
    "/* short namespace*/\n",
    "    namespace mCT = pmacc::math::CT;\n",
    "    /** size of a superCell\n",
    "     *\n",
    "     * volume of a superCell must be <= 1024\n",
    "     */\n",
    "    using SuperCellSize = typename mCT::shrinkTo<mCT::Int<8, 8, 8>, simDim>::type;\n",
    "\n",
    "\n",
    "struct DefaultExchangeMemCfg\n",
    "    {\n",
    "        // memory used for a direction\n",
    "        static constexpr uint32_t BYTES_EXCHANGE_X = 1 * 1024 * 1024; // 1 MiB\n",
    "        static constexpr uint32_t BYTES_EXCHANGE_Y = 3 * 1024 * 1024; // 3 MiB\n",
    "        static constexpr uint32_t BYTES_EXCHANGE_Z = 1 * 1024 * 1024; // 1 MiB\n",
    "        static constexpr uint32_t BYTES_EDGES = 32 * 1024; // 32 kiB\n",
    "        static constexpr uint32_t BYTES_CORNER = 8 * 1024; // 8 kiB\n",
    "\n",
    "        /** Reference local domain size\n",
    "         *\n",
    "         * The size of the local domain for which the exchange sizes `BYTES_*` are configured for.\n",
    "         * The required size of each exchange will be calculated at runtime based on the local domain size and the\n",
    "         * reference size. The exchange size will be scaled only up and not down. Zero means that there is no reference\n",
    "         * domain size, exchanges will not be scaled.\n",
    "         */\n",
    "        using REF_LOCAL_DOM_SIZE = mCT::Int<0, 0, 0>;\n",
    "        /** Scaling rate per direction.\n",
    "         *\n",
    "         * 1.0 means it scales linear with the ratio between the local domain size at runtime and the reference local\n",
    "         * domain size.\n",
    "         */\n",
    "        const std::array<float_X, 3> DIR_SCALING_FACTOR = {{0.0, 0.0, 0.0}};\n",
    "    };\n",
    "\n",
    "    struct ElectronExchangeMemCfg\n",
    "    {\n",
    "        // memory used for a direction\n",
    "        static constexpr uint32_t BYTES_EXCHANGE_X = 4 * 1024 * 1024; // 4 MiB\n",
    "        static constexpr uint32_t BYTES_EXCHANGE_Y = 96 * 1024 * 1024; // 96 MiB\n",
    "        static constexpr uint32_t BYTES_EXCHANGE_Z = 4 * 1024 * 1024; // 4 MiB\n",
    "        static constexpr uint32_t BYTES_EDGES = 256 * 1024; // 256 kiB\n",
    "        static constexpr uint32_t BYTES_CORNER = 256 * 1024; // 256 kiB\n",
    "\n",
    "        /** Reference local domain size\n",
    "         *\n",
    "         * The size of the local domain for which the exchange sizes `BYTES_*` are configured for.\n",
    "         * The required size of each exchange will be calculated at runtime based on the local domain size and the\n",
    "         * reference size. The exchange size will be scaled only up and not down. Zero means that there is no reference\n",
    "         * domain size, exchanges will not be scaled.\n",
    "         */\n",
    "        using REF_LOCAL_DOM_SIZE = mCT::Int<0, 0, 0>;\n",
    "        /** Scaling rate per direction.\n",
    "         *\n",
    "         * 1.0 means it scales linear with the ratio between the local domain size at runtime and the reference local\n",
    "         * domain size.\n",
    "         */\n",
    "        const std::array<float_X, 3> DIR_SCALING_FACTOR = {{0.0, 0.0, 0.0}};\n",
    "    };\n",
    "```"
   ]
  },
  {
   "cell_type": "markdown",
   "metadata": {},
   "source": [
    "## `fieldbackground.param`\n",
    "Add 4 TWTS pulses per field (E, B) in order to generate 2 pulse-front titled laser pulses with crossed polarization.\n",
    "The polarization direction calculations for the individual pulses was done by @beyondEspresso.\n",
    "\n",
    "### E-Field\n",
    "Abstracted parameters of E- and B-Field into single struct in `TwtsBackgroundLaser.param`.\n",
    "\n",
    "### B-Field\n",
    "Exactly the same as E-Field"
   ]
  },
  {
   "cell_type": "markdown",
   "metadata": {},
   "source": [
    "## `TwtsBackgroundLaser.param`"
   ]
  },
  {
   "cell_type": "code",
   "execution_count": null,
   "metadata": {},
   "outputs": [],
   "source": [
    "print(\"static constexpr float_64 WAVE_LENGTH_SI = %.3e;\"%(λ_0))\n",
    "print(\"static constexpr float_64 _A0  = %.2f;\"%(_A0))\n",
    "print(\"static constexpr float_64 PULSE_LENGTH_SI = %e / 2.354820045;\"%(τ_FWHM_I))\n",
    "print(\"static constexpr float_64 W0_SI = %.2e;\"%(w_0x))\n",
    "FOCUS_Y_Dy = int(window[1]*0.75)\n",
    "print(\"static constexpr float_64 FOCUS_Y_SI = %i * SI::CELL_HEIGHT_SI;\"%(FOCUS_Y_Dy))\n",
    "print(\"static constexpr float_64 PHI = %.2f * (PI/180.);\"%(ϕ*180./sc.pi))\n",
    "TDELAY = 0.\n",
    "print(\"static constexpr float_64 TDELAY = %e;\"%(TDELAY))\n",
    "vy = 1. / sqrt(1. + cos(2.*ϕ))\n",
    "vx = sqrt(1. - vy**2)\n",
    "print(\"static constexpr float_X NORM_E_B_12 = %f;\"%(vx))\n",
    "print(\"static constexpr float_X NORM_E_B_34 = %f;\"%(vy))"
   ]
  },
  {
   "cell_type": "markdown",
   "metadata": {},
   "source": [
    "## `png.param`\n",
    "\n",
    "Change channel settings\n",
    "```\n",
    "    /* png preview settings for each channel */\n",
    "    DINLINE float_X preChannel1(const float3_X& field_B, const float3_X& field_E, const float3_X& field_J)\n",
    "    {\n",
    "        return math::abs2(field_J);\n",
    "    }\n",
    "\n",
    "    DINLINE float_X preChannel2(const float3_X& field_B, const float3_X& field_E, const float3_X& field_J)\n",
    "    {\n",
    "        return field_E.x() * field_E.x() + field_E.y() * field_E.y() + field_E.z() * field_E.z();\n",
    "    }\n",
    " \n",
    "    DINLINE float_X preChannel3(const float3_X& field_B, const float3_X& field_E, const float3_X& field_J)\n",
    "    {\n",
    "       return -1.0_X * field_E.y();\n",
    "    }\n",
    "\n",
    "```\n",
    "\n",
    "<span style=\"font-size:xx-large; font-weight:bold; color:coral\">What about?</span>\n",
    "\n",
    "```C++\n",
    "    constexpr float_64 scale_image = 1./64.;\n",
    "```"
   ]
  },
  {
   "cell_type": "markdown",
   "metadata": {},
   "source": [
    "# Config files"
   ]
  },
  {
   "cell_type": "markdown",
   "metadata": {},
   "source": [
    "### FOM run\n",
    "\n",
    "Only:\n",
    "* periodic boundary condition\n",
    "* macroparticle counter"
   ]
  },
  {
   "cell_type": "code",
   "execution_count": null,
   "metadata": {},
   "outputs": [],
   "source": [
    "print(\"Simulation box size = \", box)"
   ]
  },
  {
   "cell_type": "code",
   "execution_count": null,
   "metadata": {},
   "outputs": [],
   "source": [
    "print(2.*sc.pi/PLASMA_FREQUENCY_SI/dt_strict)"
   ]
  },
  {
   "cell_type": "code",
   "execution_count": null,
   "metadata": {},
   "outputs": [],
   "source": [
    "print(14./15.)"
   ]
  },
  {
   "cell_type": "code",
   "execution_count": null,
   "metadata": {},
   "outputs": [],
   "source": [
    "phi = 7.*sc.pi/ 180.\n",
    "vy = 1 / sqrt(1. + cos(2.*phi))\n",
    "vx = sqrt(1. - vy**2)\n",
    "print(vy/0.7084281424758874, vx/0.7057829460593135)"
   ]
  },
  {
   "cell_type": "code",
   "execution_count": null,
   "metadata": {},
   "outputs": [],
   "source": []
  }
 ],
 "metadata": {
  "kernelspec": {
   "display_name": "PIConGPU_analysis",
   "language": "python",
   "name": "analysis"
  },
  "language_info": {
   "codemirror_mode": {
    "name": "ipython",
    "version": 3
   },
   "file_extension": ".py",
   "mimetype": "text/x-python",
   "name": "python",
   "nbconvert_exporter": "python",
   "pygments_lexer": "ipython3",
   "version": "3.8.10"
  },
  "toc": {
   "nav_menu": {},
   "number_sections": true,
   "sideBar": true,
   "skip_h1_title": false,
   "toc_cell": false,
   "toc_position": {
    "height": "646px",
    "left": "0px",
    "right": "1388px",
    "top": "111px",
    "width": "212px"
   },
   "toc_section_display": "block",
   "toc_window_display": true
  },
  "varInspector": {
   "cols": {
    "lenName": 16,
    "lenType": 16,
    "lenVar": 40
   },
   "kernels_config": {
    "python": {
     "delete_cmd_postfix": "",
     "delete_cmd_prefix": "del ",
     "library": "var_list.py",
     "varRefreshCmd": "print(var_dic_list())"
    },
    "r": {
     "delete_cmd_postfix": ") ",
     "delete_cmd_prefix": "rm(",
     "library": "var_list.r",
     "varRefreshCmd": "cat(var_dic_list()) "
    }
   },
   "position": {
    "height": "392px",
    "left": "1235px",
    "right": "20px",
    "top": "52px",
    "width": "350px"
   },
   "types_to_exclude": [
    "module",
    "function",
    "builtin_function_or_method",
    "instance",
    "_Feature"
   ],
   "window_display": true
  }
 },
 "nbformat": 4,
 "nbformat_minor": 4
}
