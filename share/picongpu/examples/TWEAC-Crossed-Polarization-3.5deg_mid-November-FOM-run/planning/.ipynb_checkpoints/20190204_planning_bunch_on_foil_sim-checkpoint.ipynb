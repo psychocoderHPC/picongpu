{
 "cells": [
  {
   "cell_type": "markdown",
   "metadata": {},
   "source": [
    "# Planning e$^-$ bunch on Kapton foil sim <a class=\"tocSkip\">\n",
    "    \n",
    "**2019/02/04 - Hackathon with Klaus**"
   ]
  },
  {
   "cell_type": "markdown",
   "metadata": {},
   "source": [
    "## Imports"
   ]
  },
  {
   "cell_type": "code",
   "execution_count": 1,
   "metadata": {},
   "outputs": [],
   "source": [
    "%matplotlib inline\n",
    "import numpy as np\n",
    "import matplotlib as mpl\n",
    "from matplotlib import pyplot as plt\n",
    "from matplotlib.colors import LogNorm\n",
    "from matplotlib.ticker import FormatStrFormatter\n",
    "import os\n",
    "import sys\n",
    "sys.path.append(\"/scratch/p_electron/2019-02_Bunch-through-foil/picongpu/lib/python/\")\n",
    "from scipy import constants as sc\n",
    "from picongpu.utils import MemoryCalculator"
   ]
  },
  {
   "cell_type": "markdown",
   "metadata": {},
   "source": [
    "## Override Matplotlib Defaults"
   ]
  },
  {
   "cell_type": "code",
   "execution_count": 2,
   "metadata": {},
   "outputs": [],
   "source": [
    "# OVERWRITE DEFAULT PLOTTING PARAMETERS\n",
    "params = {\n",
    "    'font.size' : 20,\n",
    "    'lines.linewidth' : 3,\n",
    "    'legend.fontsize' : 20,\n",
    "    'legend.frameon' : False,\n",
    "    'legend.numpoints': 1,\n",
    "    'xtick.labelsize' : 20,\n",
    "    'ytick.labelsize' : 20,\n",
    "    'figure.figsize': [12,8],\n",
    "    'axes.labelsize' : 20\n",
    "}\n",
    "mpl.rcParams.update(params)"
   ]
  },
  {
   "cell_type": "markdown",
   "metadata": {},
   "source": [
    "# Simulation Parameters"
   ]
  },
  {
   "cell_type": "markdown",
   "metadata": {},
   "source": [
    "## Laser"
   ]
  },
  {
   "cell_type": "markdown",
   "metadata": {},
   "source": [
    "### 10µm FWHM"
   ]
  },
  {
   "cell_type": "code",
   "execution_count": null,
   "metadata": {},
   "outputs": [],
   "source": [
    "# LASER\n",
    "\n",
    "# beam waist in focus\n",
    "w_0 = 10.e-6 / np.sqrt(2. * np.log(2))\n",
    "print(\"w_0 = {:.2f} µm\".format(w_0 * 1e6))\n",
    "\n",
    "λ_0 = 800e-9 # laser wavelength\n",
    "\n",
    "# Rayleigh length\n",
    "z_r = 1 * np.pi * w_0**2 / λ_0\n",
    "print(\"z_r = {:.2f} µm\".format(z_r * 1e6))\n",
    "\n",
    "# distance from focus to foil\n",
    "z_foil = 250e-6\n",
    "\n",
    "w_foil = w_0 * np.sqrt(1 + (z_foil / z_r)**2)\n",
    "print(\"w_foil = {:.2f} µm\".format(w_foil * 1e6))\n",
    "\n",
    "# laser waist curve - in PIConGPU coordinate system\n",
    "y = np.linspace(0,z_foil,1000)\n",
    "w_y = w_0 * np.sqrt(1 + (y / z_r)**2)"
   ]
  },
  {
   "cell_type": "markdown",
   "metadata": {},
   "source": [
    "### 20µm FWHM"
   ]
  },
  {
   "cell_type": "code",
   "execution_count": 3,
   "metadata": {},
   "outputs": [
    {
     "name": "stdout",
     "output_type": "stream",
     "text": [
      "w_0 = 16.99 µm\n",
      "z_r = 1133.09 µm\n",
      "w_foil = 17.39 µm\n"
     ]
    }
   ],
   "source": [
    "# LASER\n",
    "\n",
    "# beam waist in focus\n",
    "w_0 = 20.e-6 / np.sqrt(2. * np.log(2))\n",
    "print(\"w_0 = {:.2f} µm\".format(w_0 * 1e6))\n",
    "\n",
    "λ_0 = 800e-9 # laser wavelength\n",
    "\n",
    "# Rayleigh length\n",
    "z_r = 1 * np.pi * w_0**2 / λ_0\n",
    "print(\"z_r = {:.2f} µm\".format(z_r * 1e6))\n",
    "\n",
    "# distance from focus to foil\n",
    "z_foil = 250e-6\n",
    "\n",
    "w_foil = w_0 * np.sqrt(1 + (z_foil / z_r)**2)\n",
    "print(\"w_foil = {:.2f} µm\".format(w_foil * 1e6))\n",
    "\n",
    "# laser waist curve - in PIConGPU coordinate system\n",
    "y = np.linspace(0,z_foil,1000)\n",
    "w_y = w_0 * np.sqrt(1 + (y / z_r)**2)"
   ]
  },
  {
   "cell_type": "markdown",
   "metadata": {},
   "source": [
    "# Determining the resolution"
   ]
  },
  {
   "cell_type": "code",
   "execution_count": null,
   "metadata": {},
   "outputs": [],
   "source": [
    "# size of the new box for a moving window simulation?"
   ]
  },
  {
   "cell_type": "code",
   "execution_count": 4,
   "metadata": {},
   "outputs": [],
   "source": [
    "σ_to_FWHM = (2 * np.sqrt(2 * np.log(2)))\n",
    "# sigma of laser pulse\n",
    "σ_L = 4.5e-6 / σ_to_FWHM  # m\n",
    "# sigma of bunch (longitudinal)\n",
    "σ_B = 6.e-6 / σ_to_FWHM  # m\n",
    "# transversal sigma of the bunch\n",
    "σ_B_trans = 2.5e-6 / σ_to_FWHM  # m\n",
    "# delay laser and bunch\n",
    "d_L_to_B = 10e-6  # m"
   ]
  },
  {
   "cell_type": "code",
   "execution_count": 5,
   "metadata": {},
   "outputs": [
    {
     "name": "stdout",
     "output_type": "stream",
     "text": [
      "bunch-σ (longitudinal): 2.5480e-06\n",
      "bunch-σ (transversal): 1.0617e-06\n"
     ]
    }
   ],
   "source": [
    "print(\"bunch-σ (longitudinal): {:.4e}\".format(σ_B))\n",
    "print(\"bunch-σ (transversal): {:.4e}\".format(σ_B_trans))"
   ]
  },
  {
   "cell_type": "code",
   "execution_count": 6,
   "metadata": {},
   "outputs": [
    {
     "name": "stdout",
     "output_type": "stream",
     "text": [
      "box length in y: 32.29 µm\n",
      "π * w_foil = 54.65 µm\n",
      "2 * 2.576 * σ_L_trans = 63.37μm\n",
      "box length in x: 60.00 µm\n"
     ]
    }
   ],
   "source": [
    "# box length in y direction\n",
    "L_y = 5. * (σ_L + σ_B) + d_L_to_B\n",
    "print(\"box length in y: {:.2f} µm\".format(L_y * 1e6))\n",
    "\n",
    "# from the typical criterion for 99% of beam power: pi * w for transversal size\n",
    "print(r\"π * w_foil = {:.2f} µm\".format(np.pi * w_foil * 1e6))\n",
    "print(\"2 * 2.576 * σ_L_trans = %.2fμm\"%(2.*2.576*w_foil/np.sqrt(2.)*1.e6))\n",
    "\n",
    "# take even more than maybe required\n",
    "L_x = 60.e-6 # m\n",
    "print(\"box length in x: {:.2f} µm\".format(L_x * 1e6))"
   ]
  },
  {
   "cell_type": "markdown",
   "metadata": {},
   "source": [
    "## strict constraints"
   ]
  },
  {
   "cell_type": "code",
   "execution_count": 7,
   "metadata": {},
   "outputs": [
    {
     "name": "stdout",
     "output_type": "stream",
     "text": [
      "ω_p = 3.723e+16 rad/s\n",
      "dt = 6.714e-18 s\n",
      "dx = 2.848e-09 m\n",
      "Samples per plasma period T_p = 2π/ω_p: 25.13\n",
      "Samples per plasma wavelength λ_p = 2πc/ω_p: 17.76\n",
      "cells for just Kapton foil density plateau:  8777\n",
      "box L_y:  11338\n",
      "box L_x:  21065\n"
     ]
    }
   ],
   "source": [
    "# Kapton full ionization - electron density in critical densities\n",
    "#n_e_n_c = 252.02 - @TODO for future Marco ... that's the real value, I think\n",
    "#n_e_n_c = 251.63 - @TODO for future Marco ... but this is the value which was originally written in density.param! Klaus\n",
    "#n_e_n_c = 250.02 - @TODO for future Marco ... and this is the value we used in our original calculation! Klaus\n",
    "n_e_n_c = 250.02\n",
    "\n",
    "ω_p_dt = 0.25\n",
    "ω_p = np.sqrt(n_e_n_c * 1.7422e27 * sc.e**2 / (sc.m_e * sc.epsilon_0))\n",
    "print(\"ω_p = {:.3e} rad/s\".format(ω_p))\n",
    "dt_strict = ω_p_dt / ω_p\n",
    "print(\"dt = {:.3e} s\".format(dt_strict))\n",
    "dx_strict = dt_strict * (sc.c * 1.415)\n",
    "print(\"dx = {:.3e} m\".format(dx_strict))\n",
    "\n",
    "print(\"Samples per plasma period T_p = 2π/ω_p: %.2f\"%(2.*sc.pi/ω_p/dt_strict))\n",
    "print(\"Samples per plasma wavelength λ_p = 2πc/ω_p: %.2f\"%(2.*sc.pi*sc.c/ω_p/dx_strict))\n",
    "\n",
    "\n",
    "d_Kapton = 25e-6 # m\n",
    "# number of cells\n",
    "n_y_Kapton_strict = d_Kapton / dx_strict\n",
    "print(\"cells for just Kapton foil density plateau: \",np.int(n_y_Kapton_strict))\n",
    "\n",
    "box_cells_y_raw = np.int(L_y / dx_strict)\n",
    "print(\"box L_y: \",box_cells_y_raw)\n",
    "box_cells_x_raw = np.int(L_x / dx_strict)\n",
    "print(\"box L_x: \",box_cells_x_raw)"
   ]
  },
  {
   "cell_type": "markdown",
   "metadata": {},
   "source": [
    "# Calculate the real number of cells in the box"
   ]
  },
  {
   "cell_type": "code",
   "execution_count": 8,
   "metadata": {},
   "outputs": [
    {
     "name": "stdout",
     "output_type": "stream",
     "text": [
      "[21065 11338]\n",
      "super cells per gpu: [438.85416667  19.68402778]\n",
      "total number of gpus: 108\n"
     ]
    }
   ],
   "source": [
    "# domain decomposition\n",
    "gpus_x = 3\n",
    "gpus_y = 36\n",
    "# super cell\n",
    "super_cell = np.array([16, 16])\n",
    "\n",
    "box_raw = np.array([box_cells_x_raw,box_cells_y_raw])\n",
    "gpu_raw = np.array([box_cells_x_raw / gpus_x / super_cell[0], box_cells_y_raw / gpus_y / super_cell[1]])\n",
    "print(box_raw)\n",
    "print(\"super cells per gpu:\", gpu_raw)\n",
    "print(\"total number of gpus:\", gpus_x * gpus_y)"
   ]
  },
  {
   "cell_type": "code",
   "execution_count": 9,
   "metadata": {},
   "outputs": [
    {
     "name": "stdout",
     "output_type": "stream",
     "text": [
      "Simulation box size =  [21024 10944]\n"
     ]
    }
   ],
   "source": [
    "box_cells_x = 438 * gpus_x * super_cell[0]\n",
    "box_cells_y = 19 * gpus_y * super_cell[1]\n",
    "\n",
    "box = np.array([box_cells_x, box_cells_y])\n",
    "print(\"Simulation box size = \", box)"
   ]
  },
  {
   "cell_type": "code",
   "execution_count": 10,
   "metadata": {},
   "outputs": [],
   "source": [
    "n_x = np.int(box_cells_x / gpus_x)\n",
    "n_y = np.int(box_cells_y / gpus_y)\n",
    "n_z = 1\n",
    "\n",
    "mc = MemoryCalculator(\n",
    "    n_x=n_x,\n",
    "    n_y=n_y,\n",
    "    n_z=n_z,\n",
    "    precision_bits=32\n",
    ")"
   ]
  },
  {
   "cell_type": "code",
   "execution_count": 11,
   "metadata": {},
   "outputs": [
    {
     "name": "stdout",
     "output_type": "stream",
     "text": [
      "Memory requirement per GPU:\n",
      "+ fields: 100.49 MB\n",
      "+ species:\n",
      "- e: 10077.42 MB\n",
      "- H: 629.84 MB\n",
      "- C: 711.11 MB\n",
      "- O: 711.11 MB\n",
      "- N: 711.11 MB\n",
      "+ RNG states: 48.76 MB\n",
      "+ particle calorimeters: 253.12 MB\n",
      "Sum of required GPU memory: 13242.96 MB\n"
     ]
    }
   ],
   "source": [
    "# typical number of particles per cell which is multiplied later for\n",
    "# each species and its relative number of particles\n",
    "N_PPC = 10\n",
    "BUNCH_PPC = 30\n",
    "\n",
    "print(\"Memory requirement per GPU:\")\n",
    "# field memory per GPU\n",
    "field_gpu = mc.mem_req_by_fields(field_tmp_slots=2,particle_shape_order=4,sim_dim=2)\n",
    "print(\"+ fields: {:.2f} MB\".format(\n",
    "    field_gpu / (1024 * 1024)))\n",
    "# particle memory per GPU - only the target area contributes here\n",
    "e_gpu = mc.mem_req_by_particles(\n",
    "    n_x, n_y, n_z, num_additional_attributes=0,\n",
    "    # H,C,O preionization, 4 ppc\n",
    "    particles_per_cell=3 * N_PPC) \\\n",
    "    + mc.mem_req_by_particles(\n",
    "        n_x, n_y, n_z, num_additional_attributes=0,\n",
    "        # C and O are twice preionized\n",
    "        particles_per_cell=N_PPC * ((6 - 2) + (8 - 2))) \\\n",
    "    + mc.mem_req_by_particles(\n",
    "        n_x, n_y, n_z, num_additional_attributes=0,\n",
    "        particles_per_cell=BUNCH_PPC)\n",
    "H_gpu = mc.mem_req_by_particles(\n",
    "    n_x, n_y, n_z,\n",
    "    num_additional_attributes=0,\n",
    "    # no bound electrons since H is preionized\n",
    "    particles_per_cell=N_PPC)\n",
    "C_gpu = mc.mem_req_by_particles(\n",
    "    n_x, n_y, n_z,\n",
    "    num_additional_attributes=1,\n",
    "    particles_per_cell=N_PPC)\n",
    "O_gpu = mc.mem_req_by_particles(\n",
    "    n_x, n_y, n_z,\n",
    "    num_additional_attributes=1,\n",
    "    particles_per_cell=N_PPC)\n",
    "N_gpu = mc.mem_req_by_particles(\n",
    "    n_x, n_y, n_z,\n",
    "    num_additional_attributes=1,\n",
    "    particles_per_cell=N_PPC)\n",
    "# memory for calorimeters\n",
    "cal_gpu = mc.mem_req_by_calorimeter(n_energy=1024, n_yaw=180, n_pitch=90\n",
    "                                     ) * 2  # electrons and protons\n",
    "\n",
    "print(\"+ species:\")\n",
    "print(\"- e: {:.2f} MB\".format(e_gpu / (1024 * 1024)))\n",
    "print(\"- H: {:.2f} MB\".format(H_gpu / (1024 * 1024)))\n",
    "print(\"- C: {:.2f} MB\".format(C_gpu / (1024 * 1024)))\n",
    "print(\"- O: {:.2f} MB\".format(O_gpu / (1024 * 1024)))\n",
    "print(\"- N: {:.2f} MB\".format(N_gpu / (1024 * 1024)))\n",
    "rng_gpu = mc.mem_req_by_rng(n_x, n_y, n_z)\n",
    "print(\"+ RNG states: {:.2f} MB\".format(\n",
    "    rng_gpu / (1024 * 1024)))\n",
    "print(\n",
    "    \"+ particle calorimeters: {:.2f} MB\".format(\n",
    "        cal_gpu / (1024 * 1024)))\n",
    "\n",
    "mem_sum = field_gpu + e_gpu + H_gpu + C_gpu + O_gpu + N_gpu + rng_gpu + cal_gpu\n",
    "print(\"Sum of required GPU memory: {:.2f} MB\".format(\n",
    "    mem_sum / (1024 * 1024)))"
   ]
  },
  {
   "cell_type": "code",
   "execution_count": 11,
   "metadata": {},
   "outputs": [
    {
     "name": "stdout",
     "output_type": "stream",
     "text": [
      "Memory requirement per GPU assuming full ionization:\n",
      "+ fields: 100.49 MB\n",
      "+ species:\n",
      "- b: 1889.52 MB\n",
      "- H: 377.90 MB\n",
      "- C: 2559.99 MB\n",
      "- O: 3413.32 MB\n",
      "- N: 2986.66 MB\n",
      "+ RNG states: 48.76 MB\n",
      "+ particle calorimeters: 253.12 MB\n",
      "Sum of required GPU memory: 11629.76 MB\n"
     ]
    }
   ],
   "source": [
    "## Assuming full IONIZATION of Atoms\n",
    "##\n",
    "# typical number of particles per cell which is multiplied later for\n",
    "# each species and its relative number of particles\n",
    "N_PPC = 6\n",
    "BUNCH_PPC = 30\n",
    "\n",
    "print(\"Memory requirement per GPU assuming full ionization:\")\n",
    "# field memory per GPU\n",
    "field_gpu = mc.mem_req_by_fields(field_tmp_slots=2,particle_shape_order=4,sim_dim=2)\n",
    "print(\"+ fields: {:.2f} MB\".format(\n",
    "    field_gpu / (1024 * 1024)))\n",
    "# particle memory per GPU - only the target area contributes here\n",
    "b_gpu = mc.mem_req_by_particles(\n",
    "        n_x, n_y, n_z, num_additional_attributes=0,\n",
    "        particles_per_cell=BUNCH_PPC)\n",
    "H_gpu = mc.mem_req_by_particles(\n",
    "    n_x, n_y, n_z,\n",
    "    num_additional_attributes=0,\n",
    "    # no bound electrons since H is preionized\n",
    "    particles_per_cell=N_PPC)\n",
    "C_gpu = mc.mem_req_by_particles(\n",
    "    n_x, n_y, n_z,\n",
    "    num_additional_attributes=1,\n",
    "    particles_per_cell=N_PPC*6)\n",
    "O_gpu = mc.mem_req_by_particles(\n",
    "    n_x, n_y, n_z,\n",
    "    num_additional_attributes=1,\n",
    "    particles_per_cell=N_PPC*8)\n",
    "N_gpu = mc.mem_req_by_particles(\n",
    "    n_x, n_y, n_z,\n",
    "    num_additional_attributes=1,\n",
    "    particles_per_cell=N_PPC*7)\n",
    "# memory for calorimeters\n",
    "cal_gpu = mc.mem_req_by_calorimeter(n_energy=1024, n_yaw=180, n_pitch=90\n",
    "                                     ) * 2  # electrons and protons\n",
    "\n",
    "print(\"+ species:\")\n",
    "print(\"- b: {:.2f} MB\".format(b_gpu / (1024 * 1024)))\n",
    "print(\"- H: {:.2f} MB\".format(H_gpu / (1024 * 1024)))\n",
    "print(\"- C: {:.2f} MB\".format(C_gpu / (1024 * 1024)))\n",
    "print(\"- O: {:.2f} MB\".format(O_gpu / (1024 * 1024)))\n",
    "print(\"- N: {:.2f} MB\".format(N_gpu / (1024 * 1024)))\n",
    "rng_gpu = mc.mem_req_by_rng(n_x, n_y, n_z)\n",
    "print(\"+ RNG states: {:.2f} MB\".format(\n",
    "    rng_gpu / (1024 * 1024)))\n",
    "print(\n",
    "    \"+ particle calorimeters: {:.2f} MB\".format(\n",
    "        cal_gpu / (1024 * 1024)))\n",
    "\n",
    "mem_sum = field_gpu + b_gpu + H_gpu + C_gpu + O_gpu + N_gpu + rng_gpu + cal_gpu\n",
    "print(\"Sum of required GPU memory: {:.2f} MB\".format(\n",
    "    mem_sum / (1024 * 1024)))"
   ]
  },
  {
   "cell_type": "markdown",
   "metadata": {},
   "source": [
    "**Available clusters**\n",
    "\n",
    "* taurus: *gpu2* partition: 256 x Tesla **k80 with 11441MiB memory**\n",
    "* taurus: *ml* partition: 132 x Tesla **V100 with 32256MiB memory**"
   ]
  },
  {
   "cell_type": "code",
   "execution_count": 16,
   "metadata": {},
   "outputs": [
    {
     "data": {
      "image/png": "[encoded data removed]",
      "text/plain": [
       "<Figure size 720x720 with 1 Axes>"
      ]
     },
     "metadata": {
      "needs_background": "light"
     },
     "output_type": "display_data"
    }
   ],
   "source": [
    "fig,ax = plt.subplots(1,1)\n",
    "fig.set_size_inches(10,10)\n",
    "ax.set_aspect(1.0)\n",
    "\n",
    "dx = dx_strict\n",
    "\n",
    "# transversal box dimension in [x_low, x_up]\n",
    "x_up = gpus_x * dx * n_x / 2 * 1e6\n",
    "x_low = -x_up\n",
    "# longitudinal box dimension in [y_low, y_up]\n",
    "y_up = gpus_y * dx * n_y * 1e6\n",
    "y_low = 0\n",
    "# set plot limits to box limit\n",
    "plt.ylim(x_low,x_up)\n",
    "plt.xlim(y_low,y_up)\n",
    "\n",
    "# TARGET\n",
    "y_0 = 25\n",
    "y_1 = y_0 + d_Kapton * 1e6\n",
    "# show the beginning of the target (in the old, non-moving setup)\n",
    "plt.axvspan(y_0,y_1)\n",
    "\n",
    "x_GPUs = np.arange(gpus_x) * n_x * dx * 1e6 + x_low\n",
    "y_GPUs = np.arange(gpus_y) * n_y * dx * 1e6\n",
    "\n",
    "plt.vlines(y_GPUs,ymin=x_low,ymax=x_up,lw=1)\n",
    "plt.hlines(x_GPUs,xmin=y_low,xmax=y_up,lw=1)\n",
    "\n",
    "plt.xlabel(\"y (µm)\")\n",
    "plt.ylabel(\"x (µm)\")\n",
    "\n",
    "plt.show()\n",
    "#plt.plot((y - z_foil) * 1e6 + y_0, w_y * 1e6,color=\"red\")\n",
    "#plt.plot((y - z_foil) * 1e6 + y_0, -w_y * 1e6,color=\"red\")"
   ]
  },
  {
   "cell_type": "markdown",
   "metadata": {},
   "source": [
    "# Creating the example \n",
    "\n",
    "Branch: `prod-2019-02-04_LPWFA-2DBunchOnKaptonFoil_dev`"
   ]
  },
  {
   "cell_type": "markdown",
   "metadata": {},
   "source": [
    "## `dimension.param`\n",
    "```c++\n",
    "constexpr uint32_t simDim = SIMDIM;\n",
    "```"
   ]
  },
  {
   "cell_type": "markdown",
   "metadata": {},
   "source": [
    "## `grid.param`"
   ]
  },
  {
   "cell_type": "code",
   "execution_count": 17,
   "metadata": {},
   "outputs": [
    {
     "name": "stdout",
     "output_type": "stream",
     "text": [
      "dt = 6.714e-18 s 6.714475567957674e-18\n",
      "dx = 2.848e-09 m\n"
     ]
    }
   ],
   "source": [
    "print(\"dt = {:.3e} s\".format(dt_strict), dx_strict / ( 1.415 * sc.c ))\n",
    "print(\"dx = {:.3e} m\".format(dx_strict))"
   ]
  },
  {
   "cell_type": "markdown",
   "metadata": {},
   "source": [
    "```c++\n",
    "/** equals X\n",
    " *  unit: meter */\n",
    "constexpr float_64 CELL_WIDTH_SI = 2.848e-09;\n",
    "/** equals Y - the laser & moving window propagation direction\n",
    " *  unit: meter */\n",
    "constexpr float_64 CELL_HEIGHT_SI = CELL_WIDTH_SI;\n",
    "/** equals Z\n",
    " *  unit: meter */\n",
    "constexpr float_64 CELL_DEPTH_SI = CELL_WIDTH_SI;\n",
    "\n",
    "/** Duration of one timestep\n",
    " *  unit: seconds                       CFL criteria for Yee MW Solver\n",
    " *                                             2D: sqrt(2)\n",
    " *                                             3D: sqrt(3)   */\n",
    "constexpr float_64 DELTA_T_SI = CELL_WIDTH_SI / ( 1.415 * SPEED_OF_LIGHT_SI );\n",
    "\n",
    "\n",
    "/**\n",
    " *  ... ABSORBER ...\n",
    " */\n",
    "\n",
    "\n",
    "/** When to start moving the co-moving window\n",
    " *\n",
    " *  ...\n",
    " */\n",
    "constexpr float_64 movePoint = 1.012304;\n",
    "```"
   ]
  },
  {
   "cell_type": "markdown",
   "metadata": {},
   "source": [
    "### Set the correct move point for the moving window\n",
    "\n",
    "See below at `particle.param` when the laser reaches its 'starting' position"
   ]
  },
  {
   "cell_type": "markdown",
   "metadata": {},
   "source": [
    "## `components.param`\n",
    "Nothing"
   ]
  },
  {
   "cell_type": "markdown",
   "metadata": {},
   "source": [
    "## `fieldSolver.param`\n",
    "Do we want anything else than `None` for the current interpolation?\n",
    "- Yes, but later"
   ]
  },
  {
   "cell_type": "markdown",
   "metadata": {},
   "source": [
    "![](20190204_Tafelbild.jpg)"
   ]
  },
  {
   "cell_type": "markdown",
   "metadata": {},
   "source": [
    "## `laser.param`"
   ]
  },
  {
   "cell_type": "markdown",
   "metadata": {},
   "source": [
    "laser parameters:\n",
    "- a0 (focus) = 2\n",
    "- FWHM intensity transversally = 20 µm\n",
    "- intensity time FWHM = 15 fs\n",
    "- $\\lambda$ = 800 nm\n",
    "\n",
    "We still need to figure out where the focus is in absolute units.\n",
    "But to do so we need to decide how the acceleration takes place."
   ]
  },
  {
   "cell_type": "code",
   "execution_count": 18,
   "metadata": {},
   "outputs": [],
   "source": [
    "a0_focus = 2"
   ]
  },
  {
   "cell_type": "markdown",
   "metadata": {},
   "source": [
    "### Define bunch acceleration"
   ]
  },
  {
   "cell_type": "code",
   "execution_count": 21,
   "metadata": {},
   "outputs": [
    {
     "name": "stdout",
     "output_type": "stream",
     "text": [
      "beta final = 0.999998\n",
      "Accelerating field = -17.940344GV/cm\n",
      "energy gamma = 500.0\n",
      "Strahlungsvorlauf = 0.28mum\n",
      "Aufloesung des Strahlungsvorlaufs = 100.00\n",
      "exact Acceleration time = 70750.00dt\n"
     ]
    }
   ],
   "source": [
    "gamma_final = 500.\n",
    "\n",
    "beta_final = np.sqrt(1. - 1./gamma_final**2)\n",
    "\n",
    "print(\"beta final = %f\"%beta_final)\n",
    "\n",
    "# normalized accelerating field\n",
    "ν_acc = sc.c / (100.*dx_strict) # Criterion: sample distance between first radiation wave front and particles 1000 times\n",
    "\n",
    "t_final = gamma_final / ν_acc\n",
    "\n",
    "# accelerating field strenght\n",
    "E_acc = - ν_acc * sc.m_e * sc.c / sc.e\n",
    "print(\"Accelerating field = %fGV/cm\"%(E_acc*1.e-11))\n",
    "\n",
    "print(\"energy gamma =\", ν_acc*t_final)\n",
    "Delta = sc.c/ν_acc\n",
    "print(\"Strahlungsvorlauf = %.2fmum\"%(Delta*1.e6))\n",
    "print(\"Aufloesung des Strahlungsvorlaufs = %.2f\"%(Delta/dx_strict))\n",
    "print(\"exact Acceleration time = %.2fdt\"%(t_final / dt_strict)) "
   ]
  },
  {
   "cell_type": "code",
   "execution_count": 22,
   "metadata": {},
   "outputs": [
    {
     "name": "stdout",
     "output_type": "stream",
     "text": [
      "USED Acceleration time = 70800.00dt\n",
      "electron bunch acceleration length: 142.23 µm\n",
      "acceleration on 49935 cells\n"
     ]
    }
   ],
   "source": [
    "# bunch acceleration time\n",
    "steps_acc = 70800 # in this setup the electron field before the bunch amounts to 100 cells\n",
    "print(\"USED Acceleration time = %.2fdt\"%(steps_acc))\n",
    "t_bunch_acc = steps_acc * dt_strict \n",
    "\n",
    "\n",
    "\n",
    "y_bunch_acc = sc.c * (np.sqrt(1 + ν_acc**2 * t_bunch_acc**2) - 1) / ν_acc\n",
    "print(\"electron bunch acceleration length: {:.2f} µm\".format(y_bunch_acc * 1e6))\n",
    "\n",
    "cells_acc = np.int(y_bunch_acc / dx_strict)\n",
    "print(\"acceleration on {} cells\".format(cells_acc))"
   ]
  },
  {
   "cell_type": "markdown",
   "metadata": {},
   "source": [
    "1. center of electron bunch initialization in absolute units\n",
    "1. bunch acceleration length &#10004;\n",
    "1. ~~free propagation length~~\n",
    "1. distance laser and bunch\n",
    "1. distance laser focus and foil surface\n",
    "1. absolute position of foil surface"
   ]
  },
  {
   "cell_type": "markdown",
   "metadata": {},
   "source": [
    "1. **5 $\\sigma$ of bunch charge density inside box = 12.75µm**\n",
    "2. just calculated above: **56.84µm**\n",
    "3. we do not need that\n",
    "4. given by experiment: **10µm** \n",
    "5. given by experiment: **250µm**\n",
    "6. see plot below"
   ]
  },
  {
   "cell_type": "markdown",
   "metadata": {},
   "source": [
    "## Simulation box overview"
   ]
  },
  {
   "cell_type": "code",
   "execution_count": 23,
   "metadata": {},
   "outputs": [],
   "source": [
    "def pre_plasma(x, x_s):\n",
    "    \"\"\" \n",
    "        x = Distance from (initial) foil surface\n",
    "        x_s = preplasma scale length\n",
    "    \"\"\"\n",
    "    return np.exp(x / x_s) if ( x < 0 ) else 1."
   ]
  },
  {
   "cell_type": "code",
   "execution_count": 26,
   "metadata": {},
   "outputs": [
    {
     "data": {
      "image/png": "[encoded data removed]",
      "text/plain": [
       "<Figure size 864x576 with 1 Axes>"
      ]
     },
     "metadata": {
      "needs_background": "light"
     },
     "output_type": "display_data"
    }
   ],
   "source": [
    "foil_preplasma_scale_length = 10.e-9 # [μm]\n",
    "foil_preplasma_cutoff = 100.*foil_preplasma_scale_length # [μm]\n",
    "\n",
    "plt.figure()\n",
    "\n",
    "x = np.linspace(-1., 1., 200) * foil_preplasma_cutoff\n",
    "y = np.array([ n_e_n_c * pre_plasma(x_i, foil_preplasma_scale_length) for x_i in x])\n",
    "\n",
    "plt.plot(x * 1.e6, y)\n",
    "\n",
    "plt.xlabel(\"x [μm]\")\n",
    "plt.ylabel(\"density [$n_c$]\")\n",
    "plt.yscale('log')\n",
    "\n",
    "plt.show()"
   ]
  },
  {
   "cell_type": "code",
   "execution_count": 27,
   "metadata": {},
   "outputs": [
    {
     "data": {
      "text/plain": [
       "<matplotlib.legend.Legend at 0x200022e68b00>"
      ]
     },
     "execution_count": 27,
     "metadata": {},
     "output_type": "execute_result"
    },
    {
     "data": {
      "image/png": "[encoded data removed]",
      "text/plain": [
       "<Figure size 864x576 with 1 Axes>"
      ]
     },
     "metadata": {
      "needs_background": "light"
     },
     "output_type": "display_data"
    }
   ],
   "source": [
    "fig,ax = plt.subplots(1,1)\n",
    "\n",
    "ax.axvline(0, c=\"k\", label=\"box origin\")\n",
    "\n",
    "e_bunch_start = 5 * σ_B * 1e6\n",
    "ax.axvline(e_bunch_start, c=\"green\", label=\"electron start\", ls=\":\")\n",
    "\n",
    "laser_start = e_bunch_start + d_L_to_B * 1e6\n",
    "ax.axvline(laser_start, c=\"red\", label=\"laser start\", ls=\":\")\n",
    "\n",
    "e_bunch_end = e_bunch_start + y_bunch_acc * 1e6\n",
    "ax.axvline(e_bunch_end, c=\"green\", label=\"electron end\")\n",
    "\n",
    "laser_end = e_bunch_end + d_L_to_B * 1e6\n",
    "ax.axvline(laser_end, c=\"red\", label=\"laser end\")\n",
    "\n",
    "preplasma_start = laser_end + 5 * σ_L * 1e6\n",
    "ax.axvline(preplasma_start, c=\"blue\", label=\"preplasma start\", ls=\":\")\n",
    "\n",
    "foil_start = preplasma_start + foil_preplasma_cutoff * 1e6\n",
    "ax.axvline(foil_start, c=\"blue\", label=\"foil start\")\n",
    "\n",
    "laser_focus = foil_start - z_foil * 1e6\n",
    "ax.axvline(laser_focus, c=\"red\", label=\"laser focus\", ls=\"--\")\n",
    "\n",
    "plt.xticks(np.array([laser_focus,0,e_bunch_start,laser_start,e_bunch_end,laser_end, preplasma_start,foil_start]),\n",
    "           rotation='vertical')\n",
    "ax.xaxis.set_major_formatter(FormatStrFormatter('%.3f'))\n",
    "\n",
    "plt.axvspan(0,y_up,color=\"violet\",alpha=0.2)\n",
    "\n",
    "plt.xlabel(\"distance / µm\")\n",
    "plt.legend(loc=\"best\",bbox_to_anchor=(1.1, 1.05))"
   ]
  },
  {
   "cell_type": "markdown",
   "metadata": {},
   "source": [
    "We set:\n",
    "- `static constexpr float_64 FOCUS_POS_SI = -74.473e-6;`\n",
    "- `static constexpr float_64 PULSE_INIT = 5.0;`\n",
    "- `static constexpr uint32_t initPlaneY = 0;`\n",
    "\n",
    "So 5$\\sigma$ of intensity before the pulse maximum which is (likely) enough to keep the intensity below the ionization threshold and not run the laser edge into the absorber at the simulation box front."
   ]
  },
  {
   "cell_type": "markdown",
   "metadata": {},
   "source": [
    "## `particle.param`"
   ]
  },
  {
   "cell_type": "markdown",
   "metadata": {},
   "source": [
    "We need to set the acceleration pusher inactive at first, so that the laser pulse can travel from the initialization point at the boundary to its starting position through the electrons before we start accelerating them.\n",
    "Otherwise they would Coulomb-explode because of their initial temperature. "
   ]
  },
  {
   "cell_type": "code",
   "execution_count": 28,
   "metadata": {},
   "outputs": [
    {
     "data": {
      "image/png": "[encoded data removed]",
      "text/plain": [
       "<Figure size 576x432 with 1 Axes>"
      ]
     },
     "metadata": {
      "needs_background": "light"
     },
     "output_type": "display_data"
    }
   ],
   "source": [
    "plt.figure(figsize=(8,6))\n",
    "nut = np.linspace(0., 100., 512)\n",
    "\n",
    "plt.subplot(1,1,1)\n",
    "plt.plot(nut, nut - np.sqrt(1. + nut**2) + 1.)\n",
    "\n",
    "plt.xlabel(\"acceleration time [νt]\")\n",
    "plt.title(\"Distance between field front and electron [c/ν]\")\n",
    "\n",
    "plt.ylim(0,1)\n",
    "\n",
    "plt.grid()\n",
    "\n",
    "plt.tight_layout()\n",
    "\n",
    "plt.show()"
   ]
  },
  {
   "cell_type": "code",
   "execution_count": 29,
   "metadata": {},
   "outputs": [
    {
     "name": "stdout",
     "output_type": "stream",
     "text": [
      "steps till relativistic = 993\n",
      "velocity after steps_till_relativistic = 0.989999c\n",
      "Steps till pusher activation:  15050\n",
      "Move point of moving Window= 1.035984\n"
     ]
    }
   ],
   "source": [
    "# number of steps until the electron bunch becomes relativistic and moves as fast as the laser\n",
    "beta_relativistic = 0.99\n",
    "steps_till_relativistic = np.int(beta_relativistic / np.sqrt(1. - beta_relativistic**2) / ν_acc / dt_strict)\n",
    "\n",
    "#steps_till_relativistic = Delta / (sc.c*dt_strict)\n",
    "print(\"steps till relativistic = %i\"%steps_till_relativistic)\n",
    "print(\"velocity after steps_till_relativistic = %fc\"%(ν_acc*steps_till_relativistic*dt_strict / np.sqrt(1. + (ν_acc*steps_till_relativistic*dt_strict)**2)))\n",
    "\n",
    "# time until the acceleration pusher is set active\n",
    "time_till_pusher_activation = ((5 * σ_L + laser_start / 1e6 ) / sc.c) - steps_till_relativistic * dt_strict\n",
    "steps_till_pusher_activation = np.int(time_till_pusher_activation / dt_strict)\n",
    "steps_till_window_moves = steps_till_pusher_activation + steps_till_relativistic\n",
    "print(\"Steps till pusher activation: \",steps_till_pusher_activation)\n",
    "print(\"Move point of moving Window= %f\"%(steps_till_window_moves * dt_strict * sc.c / (box_cells_y * dx_strict) ))"
   ]
  },
  {
   "cell_type": "code",
   "execution_count": 30,
   "metadata": {},
   "outputs": [
    {
     "name": "stdout",
     "output_type": "stream",
     "text": [
      "1.910974050648043e-06\n",
      "6.714475567957674e-18\n"
     ]
    }
   ],
   "source": [
    "print(σ_L)\n",
    "print(dt_strict)"
   ]
  },
  {
   "cell_type": "markdown",
   "metadata": {},
   "source": [
    "We copied the `Particles.tpp` from the source code into the example, as well as the `particle.param`.\n",
    "We set\n",
    "- `constexpr uint32_t disable_pusher = 15050;`\n",
    "- `Particles.tpp`:\n",
    "```C++\n",
    "Particles<...\n",
    ">::update( uint32_t const currentStep )\n",
    "{\n",
    "    /* read `disable_pusher` from particle.param and activate pusher only after\n",
    "     * the given number of time steps\n",
    "     */\n",
    "    if(currentStep < particles::disable_pusher)\n",
    "        return;\n",
    " ```"
   ]
  },
  {
   "cell_type": "markdown",
   "metadata": {},
   "source": [
    "Uses the manipulators:\n",
    "- `OnceIonized`\n",
    "- `TwiceIonized`\n",
    "- `RandomPosition`\n",
    "- ..."
   ]
  },
  {
   "cell_type": "markdown",
   "metadata": {},
   "source": [
    "```C++\n",
    "namespace startPosition\n",
    "{\n",
    "    struct RandomParameterFoil\n",
    "    {   \n",
    "        /** Count of particles per cell at initial state\n",
    "         *\n",
    "         *  unit: none\n",
    "         */\n",
    "        static constexpr uint32_t numParticlesPerCell = 10u; \n",
    "    };  \n",
    "    using RandomFoil = RandomImpl< RandomParameterFoil >;\n",
    "\n",
    "    struct RandomParameterBunch\n",
    "    {   \n",
    "        /** Count of particles per cell at initial state in the electron bunch\n",
    "         *\n",
    "         *  unit: none\n",
    "         */\n",
    "        static constexpr uint32_t numParticlesPerCell = 30u;\n",
    "    };  \n",
    "    using RandomBunch = RandomImpl< RandomParameterBunch >;\n",
    "    \n",
    "    // more start position manipulators\n",
    "}\n",
    "\n",
    "```"
   ]
  },
  {
   "cell_type": "markdown",
   "metadata": {},
   "source": [
    "### Now we need to calculate the density distribution of the bunch to know what we will set as minimum weighting"
   ]
  },
  {
   "cell_type": "code",
   "execution_count": 32,
   "metadata": {},
   "outputs": [
    {
     "name": "stdout",
     "output_type": "stream",
     "text": [
      "Electrons in the bunch: 1.25e+09\n"
     ]
    }
   ],
   "source": [
    "# bunch charge\n",
    "Q_bunch = 200e-12 # Coulomb\n",
    "N_e_bunch = Q_bunch / sc.e\n",
    "print(\"Electrons in the bunch: {:.2e}\".format(N_e_bunch))"
   ]
  },
  {
   "cell_type": "code",
   "execution_count": 33,
   "metadata": {},
   "outputs": [
    {
     "name": "stdout",
     "output_type": "stream",
     "text": [
      "cell volume: 2.31e-26\n",
      "cell area: 8.11e-18\n"
     ]
    }
   ],
   "source": [
    "# cell volume\n",
    "V_cell = dx_strict**3 # m³\n",
    "print(\"cell volume: {:.2e}\".format(V_cell))\n",
    "\n",
    "# cell area\n",
    "A_cell = dx_strict**2 # m³\n",
    "print(\"cell area: {:.2e}\".format(A_cell))"
   ]
  },
  {
   "cell_type": "code",
   "execution_count": 34,
   "metadata": {},
   "outputs": [],
   "source": [
    "def electron_dist(x, y, z, N_e_bunch=N_e_bunch, σ_x=σ_B_trans, σ_y=σ_B, σ_z=σ_B_trans):\n",
    "    return (N_e_bunch / (2*np.pi)**(3/2) / (σ_x * σ_y * σ_z) \n",
    "            * np.exp(-(0.5*x**2/σ_x**2 + 0.5*y**2/σ_y**2 + 0.5*z**2/σ_z**2)))\n",
    "\n",
    "def electron_dist_2D(x, y, N_e_bunch=N_e_bunch, σ_x=σ_B_trans, σ_y=σ_B):\n",
    "    return (N_e_bunch / (2*np.pi) / (σ_x * σ_y) \n",
    "            * np.exp(-(0.5*x**2/σ_x**2 + 0.5*y**2/σ_y**2)))"
   ]
  },
  {
   "cell_type": "markdown",
   "metadata": {},
   "source": [
    "electron peak density"
   ]
  },
  {
   "cell_type": "code",
   "execution_count": 35,
   "metadata": {},
   "outputs": [
    {
     "name": "stdout",
     "output_type": "stream",
     "text": [
      "3D: 2.7598895832186158e+25\n",
      "2D: 7.344528596520023e+19\n"
     ]
    }
   ],
   "source": [
    "print(\"3D:\", electron_dist(0,0,0))\n",
    "\n",
    "print(\"2D:\", electron_dist_2D(0,0))"
   ]
  },
  {
   "cell_type": "code",
   "execution_count": null,
   "metadata": {},
   "outputs": [],
   "source": [
    "from scipy.integrate import dblquad, nquad"
   ]
  },
  {
   "cell_type": "code",
   "execution_count": null,
   "metadata": {},
   "outputs": [],
   "source": [
    "ranges = np.array( [ [-5.*σ_B_trans, 5.*σ_B_trans], [-5.*σ_B, 5.*σ_B],  [-5.*σ_B, 5.*σ_B]] )\n",
    "bunch_particles = nquad( electron_dist, ranges )\n",
    "print(\"bunch particles =\", bunch_particles[0] / N_e_bunch, \"supposed to be 1\" )\n",
    "print( \"bunch charge = %.4fpC\"%(bunch_particles[0] * sc.e * 1.e12) )"
   ]
  },
  {
   "cell_type": "code",
   "execution_count": null,
   "metadata": {},
   "outputs": [],
   "source": [
    "ranges = np.array( [ [-5.*σ_B_trans, 5.*σ_B_trans], [-5.*σ_B, 5.*σ_B]] )\n",
    "slice_particle_density = nquad( electron_dist, ranges, args=(0.,) )\n",
    "print(\"slice particles =\", slice_particle_density[0] * dx_strict / N_e_bunch)\n",
    "print( \"slice charge = %.4fpC\"%(slice_particle_density[0] * dx_strict * sc.e * 1.e12) )"
   ]
  },
  {
   "cell_type": "markdown",
   "metadata": {},
   "source": [
    "electron density 5$\\sigma$ away from the center"
   ]
  },
  {
   "cell_type": "code",
   "execution_count": 36,
   "metadata": {},
   "outputs": [
    {
     "name": "stdout",
     "output_type": "stream",
     "text": [
      "longitudinal distance from center = 12.74µm\n",
      "transverse distance from center = 5.31µm\n"
     ]
    }
   ],
   "source": [
    "print(\"longitudinal distance from center = %.2fµm\"%(5.*σ_B*1.e6))\n",
    "print(\"transverse distance from center = %.2fµm\"%(5.*σ_B_trans*1.e6))"
   ]
  },
  {
   "cell_type": "code",
   "execution_count": 37,
   "metadata": {},
   "outputs": [
    {
     "name": "stdout",
     "output_type": "stream",
     "text": [
      "3D: 1.0285151269888516e+20\n",
      "3D: 1.0285151269888516e+20\n",
      "2D: 273705107916438.03\n",
      "2D: 273705107916438.03\n"
     ]
    }
   ],
   "source": [
    "print(\"3D:\", electron_dist(5*σ_B_trans,0,0))\n",
    "print(\"3D:\", electron_dist(0,5*σ_B,0))\n",
    "\n",
    "print(\"2D:\", electron_dist_2D(5*σ_B_trans,0))\n",
    "print(\"2D:\", electron_dist_2D(0,5*σ_B))"
   ]
  },
  {
   "cell_type": "markdown",
   "metadata": {},
   "source": [
    "number of real electrons per cell at 4.5$\\sigma$ distance from the center\n",
    "\n",
    "this will become our new value for the minimum weighting"
   ]
  },
  {
   "cell_type": "code",
   "execution_count": 38,
   "metadata": {},
   "outputs": [
    {
     "name": "stdout",
     "output_type": "stream",
     "text": [
      "3D: 2.3767221057960887e-06\n",
      "3D: 2.5552170699053002e-05\n",
      "2D: 0.023873207795926072\n"
     ]
    }
   ],
   "source": [
    "print(\"3D:\", electron_dist(0.,5.*σ_B,0.) * V_cell)\n",
    "print(\"3D:\", electron_dist(0.,4.5*σ_B,0.) * V_cell)\n",
    "print(\"2D:\", electron_dist_2D(4.5*σ_B_trans,0) * A_cell)"
   ]
  },
  {
   "cell_type": "markdown",
   "metadata": {},
   "source": [
    "```C++\n",
    "constexpr float_X MIN_WEIGHTING = 2.5552e-05;\n",
    "```"
   ]
  },
  {
   "cell_type": "markdown",
   "metadata": {},
   "source": [
    "### Start position manipulator"
   ]
  },
  {
   "cell_type": "markdown",
   "metadata": {},
   "source": [
    "```C++\n",
    "    struct RandomParameterBunch\n",
    "    {\n",
    "        /** Count of particles per cell at initial state in the electron bunch\n",
    "         *\n",
    "         *  unit: none\n",
    "         */\n",
    "        static constexpr uint32_t numParticlesPerCell = 30u;\n",
    "    };\n",
    "    using RandomBunch = RandomImpl< RandomParameterBunch >;\n",
    "```"
   ]
  },
  {
   "cell_type": "markdown",
   "metadata": {},
   "source": [
    "### Temperature manipulator\n",
    "\n",
    "To account for the emittance of the electron bunch we assign an initial temperature to it."
   ]
  },
  {
   "cell_type": "markdown",
   "metadata": {},
   "source": [
    "### Temperature of electron distribution in bunch <a class=\"tocSkip\">\n",
    "\n",
    "From [LECTURE  2:ELECTRON  EMISSION  AND  CATHODE  EMITTANCE by Dowell](http://uspas.fnal.gov/materials/10MIT/Lecture2_EmissionStatisticsCathodeEmittance_text.pdf)\n",
    "\n",
    "Normalized emittance\n",
    "$$\n",
    "\\epsilon_N = \\beta\\gamma \\sigma_x \\sigma_{x^\\prime}\n",
    "$$\n",
    "\n",
    "The normalized rms thermal emittance is\n",
    "$$\n",
    "\\epsilon_{N,thermal} = \\sigma_x \\frac{\\sqrt{\\langle v_x^2 \\rangle}}{c}\n",
    "$$\n",
    "where for a Maxwell-Boltzmann Distribution\n",
    "$$\n",
    "\\langle v_x^2 \\rangle = \\frac{k_B T}{m}\n",
    "$$\n",
    "and thus\n",
    "$$\n",
    "\\epsilon_{N,thermal} = \\sigma_x \\sqrt{ \\frac{k_B T}{m c^2} }\n",
    "$$"
   ]
  },
  {
   "cell_type": "code",
   "execution_count": 4,
   "metadata": {},
   "outputs": [
    {
     "name": "stdout",
     "output_type": "stream",
     "text": [
      "electron temperature = 4.533728keV\n"
     ]
    }
   ],
   "source": [
    "# calculate the electron distribution due to its temperature\n",
    "eps_n = 0.1e-6 # [mm mrad] normalized emittance at full energy\n",
    "kBT = (eps_n / σ_B_trans)**2 * sc.m_e * sc.c**2\n",
    "print(\"electron temperature = %fkeV\"%(kBT/sc.e*1.e-3))"
   ]
  },
  {
   "cell_type": "markdown",
   "metadata": {},
   "source": [
    "```C++\n",
    "/** Parameter for a temperature assignment to the bunch\n",
    " */\n",
    "struct TemperatureParam\n",
    "{\n",
    "    /*Initial temperature\n",
    "     *  unit: keV\n",
    "     */\n",
    "    static constexpr float_64 temperature = 4.534;\n",
    "};\n",
    "/* definition a temperature assignment manipulator */\n",
    "using AddTemperature = unary::Temperature< TemperatureParam >;\n",
    "```"
   ]
  },
  {
   "cell_type": "markdown",
   "metadata": {},
   "source": [
    "## `pusher.param`\n",
    "\n",
    "Filled in values calculated above.\n",
    "\n",
    "```C++\n",
    "struct particlePusherAccelerationParam\n",
    "    {\n",
    "        /** Define strength of constant and homogeneous accelerating\n",
    "         *  electric field in SI per dimension.\n",
    "         */\n",
    "\n",
    "        /** unit: Volt / meter */\n",
    "        static constexpr float_64 AMPLITUDEx_SI = 0.0;\n",
    "\n",
    "        /**\n",
    "         * The moving window propagation direction\n",
    "         * unit: Volt / meter\n",
    "         * (1e11 V/m = 1 GV/cm)\n",
    "         */\n",
    "        static constexpr float_64 AMPLITUDEy_SI = -17.940344e11;\n",
    "\n",
    "        /** unit: Volt / meter */\n",
    "        static constexpr float_64 AMPLITUDEz_SI = 0.0;\n",
    "\n",
    "        /** Acceleration duration\n",
    "         *  unit: second\n",
    "         */\n",
    "        static constexpr float_64 ACCELERATION_TIME_SI = (70800 + ::picongpu::particles::disable_pusher) * ::picongpu::SI::DELTA_T_SI;\n",
    "    };\n",
    "```"
   ]
  },
  {
   "cell_type": "markdown",
   "metadata": {},
   "source": [
    "## `density.param`\n",
    "\n",
    "Need two profiles, one for the foil and one for the bunch.\n",
    "We already have the foil one from the previous branch."
   ]
  },
  {
   "cell_type": "markdown",
   "metadata": {},
   "source": [
    "### bunch profile"
   ]
  },
  {
   "cell_type": "code",
   "execution_count": 39,
   "metadata": {},
   "outputs": [
    {
     "name": "stdout",
     "output_type": "stream",
     "text": [
      "longitudinal and transverse center position:\n",
      "------------------------------\n",
      "12.739827004320286\n",
      "2.9941571645097242e-05\n",
      "\n",
      "\n",
      "longitudinal and transverse sigma:\n",
      "------------------------------\n",
      "2.5479654008640573e-06\n",
      "1.0616522503600239e-06\n"
     ]
    }
   ],
   "source": [
    "print(\"longitudinal and transverse center position:\")\n",
    "print(30*\"-\")\n",
    "print(e_bunch_start)\n",
    "print(box_cells_x*dx_strict/2)\n",
    "print(\"\\n\")\n",
    "print(\"longitudinal and transverse sigma:\")\n",
    "print(30*\"-\")\n",
    "print(σ_B)\n",
    "print(σ_B_trans)"
   ]
  },
  {
   "cell_type": "markdown",
   "metadata": {},
   "source": [
    "```C++\n",
    "\n",
    "namespace SI\n",
    "{\n",
    "    /** Base density in particles per m^3 in the density profiles.\n",
    "     *\n",
    "     * This is often taken as reference maximum density in normalized profiles.\n",
    "     * Individual particle species can define a `densityRatio` flag relative\n",
    "     * to this value.\n",
    "     *\n",
    "     * unit: ELEMENTS/m^3\n",
    "     *\n",
    "     * We take n_e (\"fully ionized\") as reference density.\n",
    "     * Our target material (see speciesDefinition) is a liquid crystal called\n",
    "     * 8CB (4'-octyl-4-cyanobiphenyl).\n",
    "     * \n",
    "     * Critical density nc = nc(lambda_laser=1.e-6) / lambda_laser[mu m]^2\n",
    "     */\n",
    "     constexpr float_64 nc = 1.114854e27 / 0.8 / 0.8;\n",
    "    constexpr float_64 BASE_DENSITY_SI = 250.02 * nc; \n",
    "\n",
    "} // namespace SI\n",
    "\n",
    "\n",
    "namespace densityProfiles\n",
    "{\n",
    "\n",
    "// ... Foil profile ...\n",
    "\n",
    "PMACC_STRUCT(GaussianCloudParam,\n",
    "    /** Profile Formula:\n",
    "     *     exponent = |globalCellPos - center| / sigma\n",
    "     *     density = e^[ gasFactor * exponent^gasPower ]\n",
    "     */\n",
    "    (PMACC_C_VALUE(float_X, gasFactor, -0.5))\n",
    "    (PMACC_C_VALUE(float_X, gasPower, 2.0))\n",
    "\n",
    "    /** height of vacuum area on top border\n",
    "     *\n",
    "     * this vacuum is important because of the laser initialization,\n",
    "     * which is done in the first cell of the simulation\n",
    "     * unit: cells\n",
    "     *\n",
    "     * in this case we would like no particles inside our absorbers\n",
    "     */\n",
    "    (PMACC_C_VALUE(uint32_t, vacuumCellsY, 132))\n",
    "\n",
    "    /** The central position of the density distribution\n",
    "     *  unit: meter\n",
    "     */\n",
    "    (PMACC_C_VECTOR_DIM(float_64, simDim, center_SI, 29.99416e-6, 12.7398e-6))\n",
    "\n",
    "    /** the distance from gasCenter_SI until the density decreases to its 1/e-th part\n",
    "      *  unit: meter */\n",
    "    (PMACC_C_VECTOR_DIM(float_64, simDim, sigma_SI, 1.0617e-06, 2.5480e-06))\n",
    "); /* struct GaussianCloudParam */\n",
    "\n",
    "/* definition of cloud profile */\n",
    "using GaussianCloud = GaussianCloudImpl< GaussianCloudParam >;\n",
    "\n",
    "} //namespace density profiles\n",
    "```"
   ]
  },
  {
   "cell_type": "markdown",
   "metadata": {},
   "source": [
    "#### for mini example"
   ]
  },
  {
   "cell_type": "code",
   "execution_count": null,
   "metadata": {},
   "outputs": [],
   "source": [
    "box_cells_x_mini = box_cells_x / 4\n",
    "print(\"Box size = %.2f cells\"%(box_cells_x_mini))\n",
    "print(\"Electron bunch center x:\", box_cells_x_mini//2 * dx_strict)"
   ]
  },
  {
   "cell_type": "markdown",
   "metadata": {},
   "source": [
    "### foil profile"
   ]
  },
  {
   "cell_type": "code",
   "execution_count": 40,
   "metadata": {},
   "outputs": [
    {
     "name": "stdout",
     "output_type": "stream",
     "text": [
      "175.52694832255372\n"
     ]
    }
   ],
   "source": [
    "print(foil_start)"
   ]
  },
  {
   "cell_type": "markdown",
   "metadata": {},
   "source": [
    "```C++\n",
    "struct FlatFoilWithRampFunctor\n",
    "{\n",
    "    /** This formula uses SI quantities only.\n",
    "     *  The profile will be multiplied by BASE_DENSITY_SI.\n",
    "     *\n",
    "     * @param position_SI total offset including all slides [meter]\n",
    "     * @param cellSize_SI cell sizes [meter]\n",
    "     *\n",
    "     * @return float_X density [normalized to 1.0]\n",
    "     */\n",
    "    HDINLINE float_X\n",
    "    operator()(\n",
    "        const floatD_64& position_SI,\n",
    "        const float3_64& cellSize_SI\n",
    "    )\n",
    "    {\n",
    "        // m -> mu\n",
    "        const float_64 y( position_SI.y() * 1.e6 );\n",
    "\n",
    "        // target begin & end (plateau)\n",
    "        constexpr float_64 y0( 175.527 );\n",
    "        constexpr float_64 y1( y0 + PARAM_THICKNESS );\n",
    "        // exponential pre-expanded density\n",
    "        constexpr float_64 L_pre( PARAM_PRE_SCALE );\n",
    "        constexpr float_64 L_cutoff_pre( PARAM_PRE_CUTOFF * L_pre );\n",
    "\n",
    "        // exponential post-expanded density\n",
    "        constexpr float_64 L_post( PARAM_POST_SCALE );\n",
    "        constexpr float_64 L_cutoff_post( PARAM_POST_CUTOFF * L_post );\n",
    "\n",
    "        float_64 dens = 0.0;\n",
    "\n",
    "        // upramp\n",
    "        if( y < y0 && (y0 - y) < L_cutoff_pre )\n",
    "            dens = math::exp( ( y - y0 ) / L_pre );\n",
    "        // downramp\n",
    "        if( y > y1 && (y - y1) < L_cutoff_post )\n",
    "            dens = math::exp( ( y1 - y ) / L_post );\n",
    "        // plateau\n",
    "        if( y >= y0 && y <= y1 )\n",
    "            dens = 1.0;\n",
    "\n",
    "        // safety check: all parts of the function MUST be > 0\n",
    "        dens *= float_64( dens >= 0.0 );\n",
    "        return dens;\n",
    "    }\n",
    "};\n",
    "\n",
    "// definition of free formula profile\n",
    "using FlatFoilWithRamp = FreeFormulaImpl< FlatFoilWithRampFunctor >;\n",
    "```"
   ]
  },
  {
   "cell_type": "markdown",
   "metadata": {},
   "source": [
    "## `speciesAttributes.param`"
   ]
  },
  {
   "cell_type": "markdown",
   "metadata": {},
   "source": [
    "Nothing to be done here"
   ]
  },
  {
   "cell_type": "markdown",
   "metadata": {},
   "source": [
    "## `speciesConstants.param`"
   ]
  },
  {
   "cell_type": "markdown",
   "metadata": {},
   "source": [
    "Nope"
   ]
  },
  {
   "cell_type": "markdown",
   "metadata": {},
   "source": [
    "## `species.param`"
   ]
  },
  {
   "cell_type": "markdown",
   "metadata": {},
   "source": [
    "```C++\n",
    "using UsedParticleShape = particles::shapes::P4S;\n",
    "\n",
    "using UsedParticleCurrentSolver = currentSolver::EmZ< UsedParticleShape >;\n",
    "\n",
    "using UsedParticlePusher = particles::pusher::Boris;\n",
    "```"
   ]
  },
  {
   "cell_type": "markdown",
   "metadata": {},
   "source": [
    "## `speciesDefinition.param`"
   ]
  },
  {
   "cell_type": "markdown",
   "metadata": {},
   "source": [
    "#### We need a new electron species for the bunch <a class=\"tocSkip\">"
   ]
  },
  {
   "cell_type": "code",
   "execution_count": null,
   "metadata": {
    "code_folding": []
   },
   "outputs": [],
   "source": [
    "n_c = sc.epsilon_0 * sc.m_e / sc.e**2 * (2.*sc.pi*sc.c / 0.8e-6)**2\n",
    "print(n_c)\n",
    "\n",
    "n_e_bunch_max = electron_dist(0,0,0)/n_c\n",
    "# maximum bunch density value in the center in n_c\n",
    "print(\"Max. electron density in bunch: %.2e n_c\"%(n_e_bunch_max))"
   ]
  },
  {
   "cell_type": "code",
   "execution_count": null,
   "metadata": {},
   "outputs": [],
   "source": [
    "# density ratio for speciesInitialization for the bunch\n",
    "density_ratio_bunch = n_e_bunch_max / n_e_n_c\n",
    "print(density_ratio_bunch)"
   ]
  },
  {
   "cell_type": "markdown",
   "metadata": {},
   "source": [
    "### TODO: possibly add index to bunch electrons for tracking"
   ]
  },
  {
   "cell_type": "markdown",
   "metadata": {},
   "source": [
    "```C++\n",
    "/*--------------------------- bunch electrons ---------------------------------*/\n",
    "/* ratio relative to BASE_DENSITY (n_e) */\n",
    "value_identifier( float_X, DensityRatioBunch, 6.337e-5 );\n",
    "\n",
    "using ParticleFlagsBunch = bmpl::vector<\n",
    "    particlePusher< particles::pusher::Acceleration >,\n",
    "    shape< UsedParticleShape >,\n",
    "    interpolation< UsedField2Particle >,\n",
    "    current< UsedParticleCurrentSolver >,\n",
    "    densityRatio< DensityRatioBunch >,\n",
    "    massRatio< MassRatioElectrons >,\n",
    "    chargeRatio< ChargeRatioElectrons >\n",
    ">;\n",
    "\n",
    "/* define species electrons */\n",
    "using Bunch = Particles<\n",
    "    PMACC_CSTRING( \"b\" ),\n",
    "    ParticleFlagsBunch,\n",
    "    DefaultParticleAttributes\n",
    ">;\n",
    "\n",
    "...\n",
    "    \n",
    "using VectorAllSpecies = MakeSeq_t<\n",
    "    Bunch,\n",
    "    Electrons,\n",
    "    Hydrogen,\n",
    "    Carbon,\n",
    "    Nitrogen,\n",
    "    Oxygen\n",
    "    /* Probes // we leave out Probes for now */\n",
    ">;\n",
    "```"
   ]
  },
  {
   "cell_type": "markdown",
   "metadata": {},
   "source": [
    "## `speciesInitialization.param`"
   ]
  },
  {
   "cell_type": "markdown",
   "metadata": {},
   "source": [
    "```C++\n",
    "using InitPipeline = mpl::vector<\n",
    "    /* create the electron bunch at rest */\n",
    "    CreateDensity<\n",
    "        densityProfiles::GaussianCloud,\n",
    "        startPosition::RandomBunch,\n",
    "        Bunch\n",
    "    >,\n",
    "    /* add the initial temperature to the electron bunch */\n",
    "    Manipulate<\n",
    "        manipulators::AddTemperature,\n",
    "        Bunch\n",
    "    >,\n",
    "    /* ... and the foil ... */\n",
    ">\n",
    "```"
   ]
  },
  {
   "cell_type": "markdown",
   "metadata": {},
   "source": [
    "## `png.param`\n",
    "```C++\n",
    "constexpr float_64 scale_image = 1./64.;\n",
    "```"
   ]
  },
  {
   "cell_type": "markdown",
   "metadata": {},
   "source": [
    "## Intermezzo: transversal bunch temperature distribution"
   ]
  },
  {
   "cell_type": "code",
   "execution_count": null,
   "metadata": {},
   "outputs": [],
   "source": [
    "energies = np.linspace(0,1e5,1000) # eV\n",
    "# temperature calculated from emittance by Klaus\n",
    "T = 4e3 # eV\n",
    "\n",
    "f_e = 200 * 1e-12 / sc.e * np.exp(-energies / T)"
   ]
  },
  {
   "cell_type": "code",
   "execution_count": null,
   "metadata": {},
   "outputs": [],
   "source": [
    "fig,ax = plt.subplots(1,1)\n",
    "ax.plot(f_e)\n",
    "ax.set_yscale(\"log\")\n",
    "ax.set_ylim(1e5,1e10)"
   ]
  },
  {
   "cell_type": "markdown",
   "metadata": {},
   "source": [
    "## `memory.param`\n",
    "```C++\n",
    "constexpr size_t reservedGpuMemorySize = 600 * 1024 * 1024;\n",
    "\n",
    "/** bytes reserved for species exchange buffer\n",
    " *\n",
    " * This is the default configuration for species exchanges buffer sizes.\n",
    " * The default exchange buffer sizes can be changed per species by adding\n",
    " * the alias exchangeMemCfg with similar members like in DefaultExchangeMemCfg\n",
    " * to its flag list.\n",
    " */\n",
    "struct DefaultExchangeMemCfg\n",
    "{   \n",
    "    // memory used for a direction\n",
    "    static constexpr uint32_t BYTES_EXCHANGE_X = 2 * 3 * 1024 * 1024; // 6 MiB, orig: 3 MiB\n",
    "    static constexpr uint32_t BYTES_EXCHANGE_Y = 5 * 16 * 1024 * 1024; // 80 MiB, orig: 6 MiB\n",
    "    static constexpr uint32_t BYTES_EXCHANGE_Z = 2 * 3 * 1024 * 1024; // 6 MiB, orig: 3 MiB\n",
    "    static constexpr uint32_t BYTES_EDGES = 128 * 1024; // 128 kiB\n",
    "    static constexpr uint32_t BYTES_CORNER = 32 * 1024; // 32 kiB\n",
    "};\n",
    "\n",
    "```"
   ]
  },
  {
   "cell_type": "markdown",
   "metadata": {},
   "source": [
    "# Config files"
   ]
  },
  {
   "cell_type": "markdown",
   "metadata": {},
   "source": [
    "## Names\n",
    "\n",
    "- 128_V100_1000nm_pre_plasma.cfg <font color=\"green\" size=6>&#10004;</font>\n",
    "- 128_V100_100nm_pre_plasma.cfg <font color=\"green\" size=6>&#10004;</font>\n",
    "- 128_V100_10nm_pre_plasma.cfg <font color=\"green\" size=6>&#10004;</font>\n",
    "\n",
    "Still need a configuration for the smaller `k80` GPUs"
   ]
  },
  {
   "cell_type": "markdown",
   "metadata": {},
   "source": [
    "## What we need to address\n",
    "\n",
    "- checkpoint times:\n",
    "    - restart and change from acceleration pusher to normal pusher for bunch <font color=\"green\" size=6>&#10004;</font>\n",
    "    - laser pulse maximum on foil (critical density) surface (or slightly before) <font color=\"green\" size=6>&#10004;</font>\n",
    "    - start of bunch-pulse interaction for inverse compton scattering <font color=\"green\" size=6>&#10004;</font> (basically same as laser max on foil)\n",
    "    - electrons entering the foil <font color=\"green\" size=6>&#10004;</font>\n",
    "    - rough period of checkpoints for restarting in case of crash <font color=\"green\" size=6>&#10004;</font>\n",
    "    - electron peak leaves the foil <font color=\"green\" size=6>&#10004;</font>\n",
    "    \n",
    "- **all foil species** diagnostics:\n",
    "    - start them only shortly before the foil slides into the box \n",
    "    - stop them / decrease output period drastically after all of the foil has left the box (only track protons or other particles that might fly along with the bunch electrons)\n",
    "    \n",
    "- `energyHistogram`\n",
    "    - add for bunch \n",
    "    - change all output times\n",
    "    - define the energy ranges\n",
    "    \n",
    "- `phaseSpace`\n",
    "    - add for bunch\n",
    "    - output times\n",
    "    - momentum ranges\n",
    "    \n",
    "- `countParticles`\n",
    "    - all species: lets us see when some of them vanish\n",
    "\n",
    "- `sumEnergy`\n",
    "    - all species\n",
    "    \n",
    "- `chargeConservation`\n",
    "    - output times\n",
    "    \n",
    "- `hdf5` or `adios`?\n",
    "    - it's 2D and the last time I wrote 84GB in 3s $\\Longrightarrow$ `hdf5`\n",
    "    - separate bunch output and foil output and fields and choose reasonable output times\n",
    "\n",
    "- `png`\n",
    "    - add for foil electrons\n",
    "    - ... bunch\n",
    "    - protons\n",
    "    \n",
    "- emittance plugin\n",
    "    - find out out to configure by executing `picongpu -h` or checking the `tpp`\n",
    "    - set it up for the bunch species only\n",
    "    "
   ]
  },
  {
   "cell_type": "markdown",
   "metadata": {},
   "source": [
    "### Checkpoint times"
   ]
  },
  {
   "cell_type": "code",
   "execution_count": 41,
   "metadata": {},
   "outputs": [
    {
     "name": "stdout",
     "output_type": "stream",
     "text": [
      "15050\n"
     ]
    }
   ],
   "source": [
    "print(steps_till_pusher_activation)"
   ]
  },
  {
   "cell_type": "code",
   "execution_count": 42,
   "metadata": {},
   "outputs": [
    {
     "name": "stdout",
     "output_type": "stream",
     "text": [
      "steps till bunch relativistic 16043\n"
     ]
    }
   ],
   "source": [
    "print(\"steps till bunch relativistic\", steps_till_pusher_activation+steps_till_relativistic)"
   ]
  },
  {
   "cell_type": "code",
   "execution_count": 43,
   "metadata": {},
   "outputs": [
    {
     "name": "stdout",
     "output_type": "stream",
     "text": [
      "85850\n"
     ]
    }
   ],
   "source": [
    "# time in steps until the checkpoint and pusher change\n",
    "steps_change_pusher = steps_acc + steps_till_pusher_activation\n",
    "print(steps_change_pusher)"
   ]
  },
  {
   "cell_type": "code",
   "execution_count": 44,
   "metadata": {},
   "outputs": [
    {
     "name": "stdout",
     "output_type": "stream",
     "text": [
      "87259\n"
     ]
    }
   ],
   "source": [
    "# number of steps until the preplasma of the foil slides into the box\n",
    "# moving WIndow right edge: L_box + ( n_steps - n_steps_till_window_moves) * c * dt != preplasma_start\n",
    "steps_foil_slides_into_box = ( int( ( preplasma_start*1e-6 - box_cells_y * dx_strict ) / sc.c / dt_strict ) \n",
    "                              + steps_till_window_moves )\n",
    "print(steps_foil_slides_into_box)"
   ]
  },
  {
   "cell_type": "code",
   "execution_count": 45,
   "metadata": {},
   "outputs": [
    {
     "name": "stdout",
     "output_type": "stream",
     "text": [
      "89732\n"
     ]
    }
   ],
   "source": [
    "# the edge of the electron bunch starts interacting with the foil\n",
    "steps_bunch_enters_foil = np.int(((foil_start - e_bunch_end) * 1e-6 - 5 * σ_B) / sc.c / dt_strict) + steps_change_pusher\n",
    "print(steps_bunch_enters_foil)"
   ]
  },
  {
   "cell_type": "code",
   "execution_count": 46,
   "metadata": {},
   "outputs": [
    {
     "name": "stdout",
     "output_type": "stream",
     "text": [
      "91093\n"
     ]
    }
   ],
   "source": [
    "steps_laser_max_on_foil = np.int((foil_start-laser_end)*1e-6 / sc.c / dt_strict) + steps_change_pusher\n",
    "print(steps_laser_max_on_foil)"
   ]
  },
  {
   "cell_type": "code",
   "execution_count": 47,
   "metadata": {},
   "outputs": [
    {
     "name": "stdout",
     "output_type": "stream",
     "text": [
      "5 sigma electron bunch:  12.739827004320286 µm\n"
     ]
    }
   ],
   "source": [
    "print(\"5 sigma electron bunch: \",5 * σ_B * 1e6,\"µm\")"
   ]
  },
  {
   "cell_type": "code",
   "execution_count": 48,
   "metadata": {},
   "outputs": [
    {
     "name": "stdout",
     "output_type": "stream",
     "text": [
      "108480\n"
     ]
    }
   ],
   "source": [
    "steps_bunch_max_leaves_foil = np.int(steps_bunch_enters_foil + ((5 * σ_B + d_Kapton)/sc.c / dt_strict))\n",
    "print(steps_bunch_max_leaves_foil)"
   ]
  },
  {
   "cell_type": "code",
   "execution_count": 49,
   "metadata": {},
   "outputs": [
    {
     "name": "stdout",
     "output_type": "stream",
     "text": [
      "114808\n"
     ]
    }
   ],
   "source": [
    "steps_bunch_rear_leaves_foil = np.int(steps_bunch_max_leaves_foil + (5 * σ_B) / sc.c / dt_strict)\n",
    "print(steps_bunch_rear_leaves_foil)"
   ]
  },
  {
   "cell_type": "code",
   "execution_count": null,
   "metadata": {},
   "outputs": [],
   "source": [
    "200000 / 60 / 60 / 24"
   ]
  },
  {
   "cell_type": "markdown",
   "metadata": {},
   "source": [
    "### Histograms"
   ]
  },
  {
   "cell_type": "code",
   "execution_count": null,
   "metadata": {},
   "outputs": [],
   "source": [
    "# foil electron average gamma\n",
    "γ_e_foil = np.sqrt(1 + 0.5*a0_focus**2)\n",
    "# foil electron average kinetic energy\n",
    "kBT_e_foil = (γ_e_foil - 1) * sc.m_e * sc.c**2 / sc.e\n",
    "print(\"electron average kinetic energy at foil front: \",kBT_e_foil,\" keV\")"
   ]
  },
  {
   "cell_type": "code",
   "execution_count": null,
   "metadata": {},
   "outputs": [],
   "source": [
    "E_e_foil = np.linspace(0,50e6,1000)\n",
    "dN_dE_e_foil = 1e11 * np.exp(-E_e_foil/kBT_e_foil)"
   ]
  },
  {
   "cell_type": "code",
   "execution_count": null,
   "metadata": {},
   "outputs": [],
   "source": [
    "fig,ax = plt.subplots(1,1)\n",
    "ax.plot(E_e_foil / 1e6,dN_dE_e_foil)\n",
    "ax.set_yscale(\"log\")\n",
    "plt.xlabel(\"kinetic energy / MeV\")\n",
    "plt.ylabel()\n",
    "plt.title(\"foil \\'prompt\\' electron energy distribution\")"
   ]
  },
  {
   "cell_type": "markdown",
   "metadata": {},
   "source": [
    "### phase space"
   ]
  },
  {
   "cell_type": "code",
   "execution_count": null,
   "metadata": {},
   "outputs": [],
   "source": []
  },
  {
   "cell_type": "markdown",
   "metadata": {},
   "source": [
    "\n",
    "### HDF5"
   ]
  },
  {
   "cell_type": "markdown",
   "metadata": {},
   "source": [
    "```Shell\n",
    "# time until the laser has traveled to its starting position and we enable the bunch acceleration pusher\n",
    "# @see particle.param\n",
    "TBG_disable_pusher=\"39155\"\n",
    "# time when the bunch electrons should be relativistic\n",
    "TBG_bunch_relativistic=\"40155\"\n",
    "# time at which the foil (preplasma) slides into\n",
    "TBG_foil_enters_box=\"103738\"\n",
    "# time at which we will write a checkpoint and restart for change from the acceleration pusher\n",
    "# to the normal pusher for the bunch electrons\n",
    "TBG_change_pusher=\"109955\"\n",
    "# time at which the bunch edge (5 sigma) enters the foil\n",
    "TBG_bunch_enters_foil=\"118427\"\n",
    "# time at which the laser maximum hits the cold, unexpanded foil surface\n",
    "TBG_laser_max_on_foil=\"121833\"\n",
    "# time at which the bunch maximum leaves the foil\n",
    "TBG_bunch_max_leaves_foil=\"165345\"\n",
    "# time at which the bunch rear edge leaves the foil\n",
    "TBG_bunch_rear_leaves_foil=\"181183\"\n",
    "```"
   ]
  },
  {
   "cell_type": "markdown",
   "metadata": {},
   "source": [
    "```Shell\n",
    "TBG_hdf5_fields_period=\" \n",
    "0:!TBG_bunch_enters_foil:10000,\n",
    "!TBG_change_pusher:!TBG_change_pusher,\n",
    "!TBG_bunch_enters_foil:!TBG_bunch_enters_foil,\n",
    "!TBG_laser_max_on_foil:!TBG_laser_max_on_foil,\n",
    "!TBG_bunch_enters_foil:!TBG_bunch_max_leaves_foil:2500,\n",
    "!TBG_bunch_max_leaves_foil:!TBG_bunch_max_leaves_foil,\n",
    "!TBG_bunch_max_leaves_foil:!TBG_bunch_rear_leaves_foil:5000,\n",
    "!TBG_bunch_rear_leaves_foil:!TBG_bunch_rear_leaves_foil,\n",
    "!TBG_bunch_rear_leaves_foil::10000\n",
    "\"\n",
    "TBG_hdf5_foil_particles_period=\"\n",
    "!TBG_foil_enters_box:!TBG_bunch_enters_foil:2500,\n",
    "!TBG_bunch_enters_foil:!TBG_bunch_max_leaves_foil:2500,\n",
    "!TBG_bunch_max_leaves_foil:!TBG_bunch_rear_leaves_foil:5000,\n",
    "!TBG_bunch_rear_leaves_foil::10000 \n",
    "\"\n",
    "\n",
    "TBG_bunch_particles=\n",
    "0:0,\n",
    "!TBG_disable_pusher:!TBG_bunch_relativistic:250,\n",
    "!TBG_bunch_relativistic:!TBG_change_pusher:10000,\n",
    "!TBG_change_pusher:!TBG_bunch_enters_foil:5000,\n",
    "!TBG_bunch_enters_foil:!TBG_bunch_max_leaves_foil:500,\n",
    "!TBG_bunch_max_leaves_foil:!TBG_bunch_rear_leaves_foil:2500,\n",
    "!TBG_bunch_rear_leaves_foil::5000\n",
    "```"
   ]
  },
  {
   "cell_type": "code",
   "execution_count": null,
   "metadata": {},
   "outputs": [],
   "source": [
    "\n"
   ]
  }
 ],
 "metadata": {
  "kernelspec": {
   "display_name": "Python 3",
   "language": "python",
   "name": "python3"
  },
  "language_info": {
   "codemirror_mode": {
    "name": "ipython",
    "version": 3
   },
   "file_extension": ".py",
   "mimetype": "text/x-python",
   "name": "python",
   "nbconvert_exporter": "python",
   "pygments_lexer": "ipython3",
   "version": "3.7.3"
  },
  "toc": {
   "nav_menu": {},
   "number_sections": true,
   "sideBar": true,
   "skip_h1_title": false,
   "toc_cell": false,
   "toc_position": {
    "height": "646px",
    "left": "0px",
    "right": "1388px",
    "top": "111px",
    "width": "212px"
   },
   "toc_section_display": "block",
   "toc_window_display": true
  },
  "varInspector": {
   "cols": {
    "lenName": 16,
    "lenType": 16,
    "lenVar": 40
   },
   "kernels_config": {
    "python": {
     "delete_cmd_postfix": "",
     "delete_cmd_prefix": "del ",
     "library": "var_list.py",
     "varRefreshCmd": "print(var_dic_list())"
    },
    "r": {
     "delete_cmd_postfix": ") ",
     "delete_cmd_prefix": "rm(",
     "library": "var_list.r",
     "varRefreshCmd": "cat(var_dic_list()) "
    }
   },
   "position": {
    "height": "392px",
    "left": "1235px",
    "right": "20px",
    "top": "52px",
    "width": "350px"
   },
   "types_to_exclude": [
    "module",
    "function",
    "builtin_function_or_method",
    "instance",
    "_Feature"
   ],
   "window_display": true
  }
 },
 "nbformat": 4,
 "nbformat_minor": 2
}
