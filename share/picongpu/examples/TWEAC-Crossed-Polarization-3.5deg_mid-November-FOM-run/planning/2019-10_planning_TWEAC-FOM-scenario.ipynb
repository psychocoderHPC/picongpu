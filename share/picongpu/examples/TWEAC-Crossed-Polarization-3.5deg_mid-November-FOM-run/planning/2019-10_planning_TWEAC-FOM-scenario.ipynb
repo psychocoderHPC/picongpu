{
 "cells": [
  {
   "cell_type": "markdown",
   "metadata": {},
   "source": [
    "# Planning TWEAC Setup for Figure-of-Merit Run"
   ]
  },
  {
   "cell_type": "markdown",
   "metadata": {},
   "source": [
    "## Imports"
   ]
  },
  {
   "cell_type": "code",
   "execution_count": 1,
   "metadata": {},
   "outputs": [
    {
     "name": "stdout",
     "output_type": "stream",
     "text": [
      "Populating the interactive namespace from numpy and matplotlib\n"
     ]
    }
   ],
   "source": [
    "%pylab inline\n",
    "import numpy as np\n",
    "import matplotlib as mpl\n",
    "from matplotlib.colors import LogNorm\n",
    "from matplotlib.ticker import FormatStrFormatter\n",
    "import os\n",
    "import sys\n",
    "sys.path.append(\"/home/s7470087/2019-10_TWEAC-for-Summit/picsrc/lib/python/\")\n",
    "from scipy import constants as sc\n",
    "from picongpu.utils import MemoryCalculator"
   ]
  },
  {
   "cell_type": "markdown",
   "metadata": {},
   "source": [
    "## Override Matplotlib Defaults"
   ]
  },
  {
   "cell_type": "code",
   "execution_count": 2,
   "metadata": {},
   "outputs": [],
   "source": [
    "# OVERWRITE DEFAULT PLOTTING PARAMETERS\n",
    "params = {\n",
    "    'font.size' : 20,\n",
    "    'lines.linewidth' : 3,\n",
    "    'legend.fontsize' : 20,\n",
    "    'legend.frameon' : False,\n",
    "    'legend.numpoints': 1,\n",
    "    'xtick.labelsize' : 20,\n",
    "    'ytick.labelsize' : 20,\n",
    "    'figure.figsize': [12,8],\n",
    "    'axes.labelsize' : 20\n",
    "}\n",
    "mpl.rcParams.update(params)"
   ]
  },
  {
   "cell_type": "markdown",
   "metadata": {},
   "source": [
    "# Simulation Parameters"
   ]
  },
  {
   "cell_type": "markdown",
   "metadata": {},
   "source": [
    "## Function definitions"
   ]
  },
  {
   "cell_type": "code",
   "execution_count": 3,
   "metadata": {},
   "outputs": [],
   "source": [
    "def critical_density_si(lambda_laser):\n",
    "    \"\"\" Critical electron number density at which an \n",
    "        incident light wave is reflected from a surface.\n",
    "        Units [1/m^3]\n",
    "    \"\"\"\n",
    "    return (sc.epsilon_0*sc.m_e/sc.e**2)*(2.*pi*sc.c/lambda_laser)**2\n",
    "\n",
    "def critical_density(lambda_laser):\n",
    "    \"\"\" Critical electron number density in [1/cm^3]\n",
    "    \"\"\"\n",
    "    return critical_density_si(lambda_laser)*1.e-6\n",
    "\n",
    "def plasma_angular_frequency(n_e):\n",
    "    \"\"\" \n",
    "    \"\"\"\n",
    "    return sqrt( n_e * sc.e**2 / ( sc.epsilon_0 * sc.m_e ) )\n",
    "\n",
    "def plasma_oscillation_length(n_e):\n",
    "    \"\"\" Assuming the driver propagates at the speed of light\n",
    "    \"\"\"\n",
    "    omega_p = plasma_angular_frequency(n_e)\n",
    "    return 2.*sc.pi*sc.c/omega_p\n",
    "\n",
    "def debye_length(n_e, T , Z):\n",
    "    \"\"\" electron temperature [T] = eV\n",
    "        electron density [n_e] = cm^-3\n",
    "    \"\"\"\n",
    "    return 743.*sqrt(T/(1.+Z)/n_e)  # sqrt(epsilon_0*k_B*T/n_e/e_charge**2/(1.+Z))"
   ]
  },
  {
   "cell_type": "markdown",
   "metadata": {},
   "source": [
    "## Laser parameters"
   ]
  },
  {
   "cell_type": "markdown",
   "metadata": {},
   "source": [
    "```c++\n",
    "twtsFieldE1(\n",
    "    /* focus_y [m], the distance to the laser focus in y-direction */\n",
    "    30.0e-6,\n",
    "    /* wavelength [m] */\n",
    "    0.8e-6,\n",
    "    /* pulselength [s], sigma of std. gauss for intensity (E^2) */\n",
    "    10.0e-15 / 2.3548200450309493820231386529194,\n",
    "    /* w_x [m], cylindrically focused spot size */\n",
    "    1.2e-6,\n",
    "    /* w_y [m] */\n",
    "    0.1,\n",
    "    /* interaction angle between TWTS laser propagation vector and the y-axis [rad] */\n",
    "    3.5 * (PI/180.),\n",
    "    /* propagation speed of overlap [speed of light]. */\n",
    "    1.0,\n",
    "    /* manual time delay [s] if auto_tdelay is false */\n",
    "    50.0e-6 / SI::SPEED_OF_LIGHT_SI,\n",
    "    /* Should PIConGPU automatically choose a suitable time delay? [true/false] */\n",
    "    false,\n",
    "    /* Polarization of TWTS laser field */\n",
    "    templates::twts::EField::LINEAR_X\n",
    "),\n",
    "```"
   ]
  },
  {
   "cell_type": "markdown",
   "metadata": {},
   "source": [
    "```c++\n",
    "/** Specify your background field E(r,t) here\n",
    "*\n",
    "* \\param cellIdx The total cell id counted from the start at t=0\n",
    "* \\param currentStep The current time step */\n",
    "HDINLINE float3_X\n",
    "operator()( const DataSpace<simDim>& cellIdx,\n",
    "        const uint32_t currentStep ) const\n",
    "{\n",
    "    \n",
    "    //\n",
    "    // Calculation of amplitude\n",
    "    //\n",
    "\n",
    "    /* Note: twtsFieldE(...) is normalized, such that peak amplitude equals unity. */\n",
    "    return    float3_X::create(0.7057829460593135) * amplitude * twtsFieldE1( cellIdx, currentStep )\n",
    "            - float3_X::create(0.7057829460593135) * amplitude * twtsFieldE2( cellIdx, currentStep )\n",
    "            + float3_X::create(0.7084281424758874) * amplitude * twtsFieldE3( cellIdx, currentStep )\n",
    "            + float3_X::create(0.7084281424758874) * amplitude * twtsFieldE4( cellIdx, currentStep );\n",
    "}\n",
    "```"
   ]
  },
  {
   "cell_type": "code",
   "execution_count": 4,
   "metadata": {},
   "outputs": [
    {
     "name": "stdout",
     "output_type": "stream",
     "text": [
      "Laser period = 2.7e-15s\n",
      "ϕ = 3.5deg\n",
      "w_0 = 5.50 µm\n",
      "z_r = 118.79 µm\n"
     ]
    }
   ],
   "source": [
    "# LASER\n",
    "\n",
    "## Change w_0x to Rayleighlength >~ Plasma oscillation length\n",
    "## Change pulse duration to tau_FWHM,I = 30fs -> sigma_t,E = tau_FWHM,I / sqrt(2. * log(2.)) / sqrt(2)\n",
    "## sigma_t,E = tau_FWHM,I / 1.6651 = 18.0168\n",
    "## lower a0 to just enter the bubble regime\n",
    "\n",
    "λ_0 = 800e-9 # laser wavelength\n",
    "print(\"Laser period = %.1es\"%(λ_0/sc.c))\n",
    "\n",
    "ϕ = 3.5 * sc.pi / 180.\n",
    "print(\"ϕ = %.1fdeg\"%(ϕ*180./pi))\n",
    "\n",
    "# beam waist in focus\n",
    "w_0x = 5.5e-6\n",
    "print(\"w_0 = {:.2f} µm\".format(w_0x * 1e6))\n",
    "\n",
    "# Rayleigh length\n",
    "z_r = 1 * np.pi * w_0x**2 / λ_0\n",
    "print(\"z_r = {:.2f} µm\".format(z_r * 1e6))"
   ]
  },
  {
   "cell_type": "code",
   "execution_count": 5,
   "metadata": {},
   "outputs": [
    {
     "name": "stdout",
     "output_type": "stream",
     "text": [
      "critical e density for λ_Laser = 1.7e+27/m^3\n",
      "plasma frequency at critical density = 2.4e+15rad/s\n",
      "plasma period at critical density = 2.7e-15s (= laser period)\n"
     ]
    }
   ],
   "source": [
    "n_c = critical_density(λ_0)*1.e6\n",
    "print(\"critical e density for λ_Laser = %.1e/m^3\"%(n_c))\n",
    "print(\"plasma frequency at critical density = %.1erad/s\"%(plasma_angular_frequency(n_c)))\n",
    "print(\"plasma period at critical density = %.1es (= laser period)\"%(2.*sc.pi/plasma_angular_frequency(n_c)))"
   ]
  },
  {
   "cell_type": "markdown",
   "metadata": {},
   "source": [
    "## Plasma parameters"
   ]
  },
  {
   "cell_type": "code",
   "execution_count": 6,
   "metadata": {},
   "outputs": [],
   "source": [
    "BASE_DENSITY_SI = 0.8e+23 #0.25e+25 #0.8e+23 # unit: ELEMENTS/m^3\n",
    "PLATEAU_DENSITY_SI = 2. * BASE_DENSITY_SI"
   ]
  },
  {
   "cell_type": "code",
   "execution_count": 7,
   "metadata": {},
   "outputs": [
    {
     "name": "stdout",
     "output_type": "stream",
     "text": [
      "plasma frequency at plateau density = 2.3e+13rad/s\n",
      "plasma period at plateau density = 2.8e-13s\n",
      "plasma oscillation length at plateau density = 83.5mum\n",
      "plasma skin depth = 13.3mum\n"
     ]
    }
   ],
   "source": [
    "PLASMA_FREQUENCY_SI = plasma_angular_frequency(PLATEAU_DENSITY_SI)\n",
    "print(\"plasma frequency at plateau density = %.1erad/s\"%(PLASMA_FREQUENCY_SI))\n",
    "print(\"plasma period at plateau density = %.1es\"%(2.*sc.pi/PLASMA_FREQUENCY_SI))\n",
    "λ_plasma = plasma_oscillation_length(PLATEAU_DENSITY_SI)\n",
    "print(\"plasma oscillation length at plateau density = %.1fmum\"%(λ_plasma*1.e6))\n",
    "print(\"plasma skin depth = %.1fmum\"%(sc.c/PLASMA_FREQUENCY_SI*1.e6))"
   ]
  },
  {
   "cell_type": "code",
   "execution_count": 8,
   "metadata": {},
   "outputs": [
    {
     "name": "stdout",
     "output_type": "stream",
     "text": [
      "plasma frequency at base density = 1.6e+13rad/s\n",
      "plasma oscillation length at base density = 118.0mum\n"
     ]
    }
   ],
   "source": [
    "λ_plasma_base = plasma_oscillation_length(BASE_DENSITY_SI)\n",
    "print(\"plasma frequency at base density = %.1erad/s\"%(plasma_angular_frequency(BASE_DENSITY_SI)))\n",
    "print(\"plasma oscillation length at base density = %.1fmum\"%(λ_plasma_base*1.e6))"
   ]
  },
  {
   "cell_type": "code",
   "execution_count": 9,
   "metadata": {},
   "outputs": [
    {
     "name": "stdout",
     "output_type": "stream",
     "text": [
      "Rayleighlength / plasma oscillation length = 1.4231026107584621\n",
      "Rayleighlength / base plasma oscillation length = 1.0062855063915883\n"
     ]
    }
   ],
   "source": [
    "print(\"Rayleighlength / plasma oscillation length =\", z_r / λ_plasma)\n",
    "print(\"Rayleighlength / base plasma oscillation length =\", z_r / λ_plasma_base)"
   ]
  },
  {
   "cell_type": "markdown",
   "metadata": {},
   "source": [
    "## Mesh parameters"
   ]
  },
  {
   "cell_type": "code",
   "execution_count": 10,
   "metadata": {},
   "outputs": [
    {
     "name": "stdout",
     "output_type": "stream",
     "text": [
      "λ_plasma = 21.11733μm\n",
      "λ_plasma / dx = 1256.1863328444522\n",
      "λ_Laser / dy = 20.85239372447211\n",
      "λ_plasma / dz = 2175.7799920634184\n",
      "x Ausdehnung 74.424 μm = 3.524308940864691 λ_plasma = 13.531636363636364 w_0x\n",
      "y Ausdehnung 88.39272960000001 μm = 4.1857907024174335 λ_plasma\n",
      "z Ausdehnung 235.71394560000002 μm = 11.162108539779823 λ_plasma = 1.9842665572461022 z_r\n"
     ]
    }
   ],
   "source": [
    "dx_old = 0.6645e-7\n",
    "dy_old = 0.383649e-7\n",
    "dz_old = dy_old\n",
    "\n",
    "n_e_old = 0.25e25 # unit: ELEMENTS/m^3\n",
    "λ_plasma_old = plasma_oscillation_length(n_e_old)\n",
    "\n",
    "print(\"λ_plasma = %.5fμm\"%(λ_plasma_old*1.e6))\n",
    "\n",
    "Lx_old = dx_old*1120\n",
    "Ly_old = dy_old*2304\n",
    "Lz_old = dz_old*6144\n",
    "print(\"λ_plasma / dx =\", λ_plasma / dx_old )\n",
    "print(\"λ_Laser / dy =\", λ_0 / dy_old )\n",
    "print(\"λ_plasma / dz =\", λ_plasma / dz_old )\n",
    "print(\"x Ausdehnung\", Lx_old*1.e6, \"μm =\", Lx_old / λ_plasma_old, \"λ_plasma =\", Lx_old / w_0x, \"w_0x\")\n",
    "print(\"y Ausdehnung\", Ly_old*1.e6, \"μm =\", Ly_old / λ_plasma_old, \"λ_plasma\")\n",
    "print(\"z Ausdehnung\", Lz_old*1.e6, \"μm =\", Lz_old / λ_plasma_old, \"λ_plasma =\", Lz_old / z_r, \"z_r\")"
   ]
  },
  {
   "cell_type": "code",
   "execution_count": 11,
   "metadata": {},
   "outputs": [
    {
     "name": "stdout",
     "output_type": "stream",
     "text": [
      "box length in y: 944.40 µm\n",
      "box length in z: 1781.87 µm = 21.35 λ_plasma\n",
      "w_init = 41.62 µm\n",
      "π * w_init = 130.74 µm\n",
      "box length in x: 240.00 µm\n"
     ]
    }
   ],
   "source": [
    "# box length in y direction, from experience with Piz Daint simulation\n",
    "L_y = 8. * λ_plasma_base\n",
    "print(\"box length in y: {:.2f} µm\".format(L_y * 1e6))\n",
    "\n",
    "# box length in z direction, from experience with Piz Daint simulation (the laser pulse is not bounded in z-direction)\n",
    "L_z = 15. * z_r\n",
    "print(\"box length in z: %.2f µm = %.2f λ_plasma\"%(L_z * 1e6, L_z / λ_plasma))\n",
    "\n",
    "# box length in x direction,\n",
    "# from the typical criterion for 99% of beam power: pi * w for transversal size\n",
    "# should fit into the simulation in order to properly model the propagation of the focusing field.\n",
    "w_init = w_0x * np.sqrt(1 + (.5*L_z / z_r)**2)\n",
    "print(\"w_init = {:.2f} µm\".format(w_init * 1e6))\n",
    "print(r\"π * w_init = {:.2f} µm\".format(np.pi * w_init * 1e6))\n",
    "\n",
    "# take even more than maybe required from defocusing, also fit two plasma wavelength in the x-direction\n",
    "L_x = 240.e-6 # m\n",
    "print(\"box length in x: {:.2f} µm\".format(L_x * 1e6))"
   ]
  },
  {
   "cell_type": "markdown",
   "metadata": {},
   "source": [
    "### Strict constraints"
   ]
  },
  {
   "cell_type": "markdown",
   "metadata": {},
   "source": [
    "#### Transverse and longitudinal sampling"
   ]
  },
  {
   "cell_type": "code",
   "execution_count": 12,
   "metadata": {},
   "outputs": [
    {
     "name": "stdout",
     "output_type": "stream",
     "text": [
      "Transverse laser oscillation length / plasma oscillation length = 0.000585081298352031\n"
     ]
    }
   ],
   "source": [
    "## If the projected laser period in the transverse direction is longer than the plasma oscillation length,\n",
    "## I choose a cell size with equal length in x and z direction.\n",
    "print(\"Transverse laser oscillation length / plasma oscillation length =\", λ_0 * sin(ϕ) / λ_plasma)"
   ]
  },
  {
   "cell_type": "markdown",
   "metadata": {},
   "source": [
    "<span style=\"color:red;font-size:xlarge;font-face:bold\">Vergleiche für Z-Auflösung besser den Fehler der numerischen Group velocity während der propagation durch das Gas (L_cyc/sin(phi)) relativ zur Plasmawellenlaenge und halte es im Promillebereich!</span>\n",
    "\n",
    "Die numerische Gruppengeschwindigkeit ist gegeben aus der Ableitung der numerischen Phasengeschwindigkeit.\n",
    "Die numerische Phasengeschwindigkeit wird ermittelt aus der Dispersionsrelation (4.12) im Taflove\n",
    "$$\n",
    "  \\left [\\frac{1}{c\\Delta t}\\sin\\left( \\frac{\\omega \\Delta t}{2} \\right) \\right]^2 =\n",
    "      \\left [\\frac{1}{\\Delta x}\\sin\\left( \\frac{k_x \\Delta x}{2} \\right) \\right]^2\n",
    "      + \\left [\\frac{1}{\\Delta y}\\sin\\left( \\frac{k_y \\Delta y}{2} \\right) \\right]^2\n",
    "      + \\left [\\frac{1}{\\Delta z}\\sin\\left( \\frac{k_z \\Delta z}{2} \\right) \\right]^2\n",
    "$$\n",
    "in dem diese nach $\\omega$ aufgelöst wird und \n",
    "$$\n",
    "  v_\\mathrm{phase} = \\frac{\\omega}{k}\\,.\n",
    "$$\n",
    "Die Gruppengeschwindigkeit ist definiert als\n",
    "$$\n",
    "  v_\\mathrm{group} = \\frac{\\partial \\omega}{\\partial k}\\,.\n",
    "$$\n",
    "Es gilt\n",
    "$$\n",
    "  \\frac{\\partial}{\\partial k} \\left[ \\frac{1}{c\\Delta t} \\sin\\left( \\frac{\\omega \\Delta t}{2} \\right) \\right]^2\n",
    "  = \\frac{1}{c^2\\Delta t^2} 2 \\sin\\left( \\frac{\\omega \\Delta t}{2} \\right)\n",
    "    \\cos\\left( \\frac{\\omega \\Delta t}{2} \\right)\n",
    "    \\frac{\\Delta t}{2} \\frac{\\partial \\omega}{\\partial k}\n",
    "$$\n",
    "Deswegen\n",
    "$$\n",
    "  \\frac{\\partial \\omega}{\\partial k} =\n",
    "  \\frac{c^2\\Delta t^2}{ 2 \\sin\\left( \\frac{\\omega \\Delta t}{2} \\right)\n",
    "    \\cos\\left( \\frac{\\omega \\Delta t}{2} \\right)\n",
    "    \\frac{\\Delta t}{2}}\n",
    "  \\frac{\\partial}{\\partial k} \\left[ \\frac{1}{c\\Delta t} \\sin\\left( \\frac{\\omega \\Delta t}{2} \\right) \\right]^2\n",
    "$$\n",
    "\n",
    "$$\n",
    "  \\frac{\\partial \\omega}{\\partial k} =\n",
    "  \\frac{c^2\\Delta t}{ \\sin\\left( \\frac{\\omega \\Delta t}{2} \\right)\n",
    "    \\cos\\left( \\frac{\\omega \\Delta t}{2} \\right)\n",
    "    }\n",
    "  \\frac{\\partial}{\\partial k} \\left[ \\frac{1}{c\\Delta t} \\sin\\left( \\frac{\\omega \\Delta t}{2} \\right) \\right]^2\n",
    "$$\n",
    "\n",
    "Dort die rechte Seite der Dispersionsrelation einsetzen und für die karthesischen $k_i$ diese Darstellung für $k$ einsetzen\n",
    "\n",
    "$$\n",
    "  (k_x, k_y, k_z) = k ( \\sin\\vartheta \\cos\\varphi, \\sin\\vartheta \\sin\\varphi, \\cos\\vartheta)\n",
    "$$\n",
    "\n",
    "und ableiten.\n",
    "\n",
    "Für unsere Propagation in der $y$-$z$-Ebene entlang einer Richtung die einen Winkel von $3.5^\\circ$ mit der $y$-Achse einschliesst ist $\\varphi = 90^\\circ$ und $\\vartheta = 86.5^\\circ$.\n",
    "\n",
    "Nutze ausserdem die Relationen \n",
    "$$\n",
    "  S = c\\Delta t \\sqrt{\\frac{1}{\\Delta x^2}\n",
    "                      + \\frac{1}{\\Delta y^2}\n",
    "                      + \\frac{1}{\\Delta z^2}}\n",
    "    =: \\frac{c \\Delta t}{\\Delta}\n",
    "  \\qquad \\text{Courant stabilty factor (Taflove (4.98))}\\,,\n",
    "$$\n",
    "$$\n",
    "  \\omega \\Delta t = \\frac{2\\pi c \\Delta t}{\\lambda} \n",
    "  = \\frac{2 \\pi S}{\\lambda \\sqrt{\\frac{1}{\\Delta x^2} + \\frac{1}{\\Delta y^2} + \\frac{1}{\\Delta z^2}} }\n",
    "  = 2 \\pi S \\frac{\\Delta}{\\lambda}\\,.\n",
    "$$"
   ]
  },
  {
   "cell_type": "markdown",
   "metadata": {},
   "source": [
    "$$\n",
    "\\sin\\left( \\frac{\\omega \\Delta t}{2} \\right) =\n",
    "      c\\Delta t\n",
    "      \\sqrt{\n",
    "      \\left [\\frac{1}{\\Delta x}\\sin\\left( \\frac{k_x \\Delta x}{2} \\right) \\right]^2\n",
    "      + \\left [\\frac{1}{\\Delta y}\\sin\\left( \\frac{k_y \\Delta y}{2} \\right) \\right]^2\n",
    "      + \\left [\\frac{1}{\\Delta z}\\sin\\left( \\frac{k_z \\Delta z}{2} \\right) \\right]^2\n",
    "      }\n",
    "$$\n",
    "$$\n",
    "\\frac{\\omega \\Delta t}{2} =\n",
    "      \\mathrm{Arcsin}\\left(\n",
    "      c\\Delta t\n",
    "      \\sqrt{\n",
    "      \\left [\\frac{1}{\\Delta x}\\sin\\left( \\frac{k_x \\Delta x}{2} \\right) \\right]^2\n",
    "      + \\left [\\frac{1}{\\Delta y}\\sin\\left( \\frac{k_y \\Delta y}{2} \\right) \\right]^2\n",
    "      + \\left [\\frac{1}{\\Delta z}\\sin\\left( \\frac{k_z \\Delta z}{2} \\right) \\right]^2\n",
    "      }\n",
    "      \\right)\n",
    "$$\n",
    "$$\n",
    "\\omega =\n",
    "      \\frac{2}{\\Delta t}\n",
    "      \\mathrm{Arcsin}\\left(\n",
    "      c\\Delta t\n",
    "      \\sqrt{\n",
    "      \\left [\\frac{1}{\\Delta x}\\sin\\left( \\frac{k_x \\Delta x}{2} \\right) \\right]^2\n",
    "      + \\left [\\frac{1}{\\Delta y}\\sin\\left( \\frac{k_y \\Delta y}{2} \\right) \\right]^2\n",
    "      + \\left [\\frac{1}{\\Delta z}\\sin\\left( \\frac{k_z \\Delta z}{2} \\right) \\right]^2\n",
    "      }\n",
    "      \\right)\n",
    "$$\n",
    "\n",
    "Das Ding kann man auch ableiten. Dann unseren Dall mit $k_x = 0$ und $k=2\\pi/\\lambda_\\mathrm{Laser}$ einsetzen und eine interessante Größe in Abhängigkeit von $\\Delta z$ auftragen und dann ein passendes $\\Delta z$ bestimmen.\n",
    "\n",
    "Dann noch mit der CFL Bedingung das $\\Delta x$ ausrechnen und schauen ob es die Plasmawellenlänge gut auflöst. Oder $\\Delta x$ auch noch vorgeben und mit CFL den Zeitschritt ausrechnen."
   ]
  },
  {
   "cell_type": "markdown",
   "metadata": {},
   "source": [
    "$$\n",
    "  \\frac{\\partial \\omega}{\\partial k} =\n",
    "  \\frac{c S \\Delta}{ \\sin\\left( \\pi S \\frac{\\Delta}{\\lambda} \\right)\n",
    "    \\cos\\left( \\pi S \\frac{\\Delta}{\\lambda} \\right)\n",
    "    }\n",
    "  \\left[ \\frac{1}{\\Delta x} \\sin\\left( \\pi \\sin\\vartheta \\cos\\varphi \\frac{\\Delta x}{\\lambda} \\right)\n",
    "           \\cos\\left( \\pi \\sin\\vartheta \\cos\\varphi \\frac{\\Delta x}{\\lambda} \\right)\n",
    "           \\sin\\vartheta \\cos\\varphi\n",
    "         + \\frac{1}{\\Delta y} \\sin\\left( \\pi \\sin\\vartheta \\sin\\varphi \\frac{\\Delta y}{\\lambda} \\right)\n",
    "           \\cos\\left( \\pi \\sin\\vartheta \\sin\\varphi \\frac{\\Delta y}{\\lambda} \\right)\n",
    "           \\sin\\vartheta \\sin\\varphi\n",
    "         + \\frac{1}{\\Delta z} \\sin\\left( \\pi \\cos\\vartheta \\frac{\\Delta z}{\\lambda} \\right)\n",
    "           \\cos\\left( \\pi \\cos\\vartheta \\frac{\\Delta z}{\\lambda} \\right)\n",
    "           \\cos\\vartheta\n",
    "  \\right]\n",
    "$$"
   ]
  },
  {
   "cell_type": "code",
   "execution_count": 13,
   "metadata": {},
   "outputs": [],
   "source": [
    "def Delta(Dx, Dy, Dz):\n",
    "    return 1./np.sqrt(1./Dx**2 + 1./Dy**2 + 1./Dz**2)\n",
    "\n",
    "\n",
    "def v_g(wavel, theta, phi, Dx, Dy, Dz, S):\n",
    "    Dd = Delta(Dx, Dy, Dz)\n",
    "    omega_dt_2 = sc.pi * S * Dd / wavel\n",
    "    \n",
    "    arg_ekx = np.sin(theta) * np.cos(phi)\n",
    "    arg_x = sc.pi * arg_ekx * Dx / wavel\n",
    "    \n",
    "    arg_eky = np.sin(theta) * np.sin(phi)\n",
    "    arg_y = sc.pi * arg_eky * Dy / wavel\n",
    "    \n",
    "    arg_ekz = np.cos(theta)\n",
    "    arg_z = sc.pi * arg_ekz * Dz / wavel\n",
    "    \n",
    "    return ( sc.c * S * Dd / ( np.sin(omega_dt_2) * np.cos(omega_dt_2) ) \n",
    "             * ( np.sin(arg_x) * np.cos(arg_x) * arg_ekx / Dx\n",
    "                 + np.sin(arg_y) * np.cos(arg_y) * arg_eky / Dy\n",
    "                 + np.sin(arg_z) * np.cos(arg_z) * arg_ekz / Dz\n",
    "               )\n",
    "           )\n",
    "\n",
    "\n",
    "#def v_g_phys(λ, a_0, n_e):\n",
    "#    ''' Aus Esarey RoMP 2009 (?)\n",
    "#    '''\n",
    "#    ω_p = plasma_angular_frequency(n_e)\n",
    "#    ω = 2.*sc.pi*sc.c/λ\n",
    "#    γ_g = ω / ω_p\n",
    "#    return np.sqrt( 1. - 1./γ_g**2 ) * sc.c"
   ]
  },
  {
   "cell_type": "code",
   "execution_count": 14,
   "metadata": {},
   "outputs": [
    {
     "name": "stdout",
     "output_type": "stream",
     "text": [
      "dy = 2.00000e-08 m\n",
      "sanity check: longitudinal samples per laser wavelength λ_laser: 40.00\n"
     ]
    }
   ],
   "source": [
    "## The cell length in the longitudinal direction is given by the laser wavelength\n",
    "dy_strict = λ_0 / 40.\n",
    "print(\"dy = {:.5e} m\".format(dy_strict))\n",
    "print(\"sanity check: longitudinal samples per laser wavelength λ_laser: %.2f\"%(λ_0/dy_strict))"
   ]
  },
  {
   "cell_type": "code",
   "execution_count": 15,
   "metadata": {},
   "outputs": [
    {
     "name": "stdout",
     "output_type": "stream",
     "text": [
      "dx = 1.60000e-07m\n",
      "Samples per plasma oscillation length λ_p = 2πc/ω_p: 521.71\n"
     ]
    }
   ],
   "source": [
    "## The cell length in the transverse directions is given by Courant-Friedrich-Levy condition (eq. (4.98) in Taflove)\n",
    "## and needs to be much smaller than the plasma oscillation length.\n",
    "## A large aspect ratio is also not good since we will end up with a lot of particles per cell in the region\n",
    "## of the accelerated bunch.\n",
    "## Furthermore, in the sheeth region of the bubble we expect very high density, maybe 1-2 orders of magnitude higher\n",
    "## than in the base density, and we do not want to model this region completely incorrect.\n",
    "## Therefore we assume a maximum factor for the aspect ratio.\n",
    "dx_strict = 8. * dy_strict #λ_plasma / 80.\n",
    "print(\"dx = %.5em\"%(dx_strict))\n",
    "print(\"Samples per plasma oscillation length λ_p = 2πc/ω_p: %.2f\"%(λ_plasma/dx_strict))"
   ]
  },
  {
   "cell_type": "code",
   "execution_count": 16,
   "metadata": {},
   "outputs": [
    {
     "name": "stdout",
     "output_type": "stream",
     "text": [
      "ϕ = 3.5deg\n",
      "theta = 86.5deg\n",
      "phi = 90.0deg\n"
     ]
    }
   ],
   "source": [
    "## Define Courant factor S and laser strength a_0 for Dz determination\n",
    "S = 0.995\n",
    "print(\"ϕ = %.1fdeg\"%(ϕ*180./pi))\n",
    "theta = .5 * sc.pi - ϕ\n",
    "print(\"theta = %.1fdeg\"%(theta*180./pi))\n",
    "phi = .5 * sc.pi\n",
    "print(\"phi = %.1fdeg\"%(phi*180./pi))\n",
    "a_0 = 3.0\n",
    "\n",
    "dz = np.linspace(dy_strict, 5.*dx_strict, 500)"
   ]
  },
  {
   "cell_type": "code",
   "execution_count": 17,
   "metadata": {},
   "outputs": [
    {
     "name": "stdout",
     "output_type": "stream",
     "text": [
      "dz[0] / dy = 1.0\n",
      "numerical group velocity v_g / c = 0.99793771\n",
      "physical group velocity error Δv_g / c = -0.00206229\n"
     ]
    }
   ],
   "source": [
    "print(\"dz[0] / dy =\", dz[0] / dy_strict)\n",
    "print(\"numerical group velocity v_g / c = %.8f\"%(v_g(λ_0, theta, phi, dx_strict, dy_strict, dz[0], S)/sc.c))\n",
    "print(\"physical group velocity error Δv_g / c = %.8f\"%(v_g(λ_0, theta, phi, dx_strict, dy_strict, dz[0], S)/sc.c - 1.))"
   ]
  },
  {
   "cell_type": "code",
   "execution_count": 18,
   "metadata": {},
   "outputs": [
    {
     "data": {
      "image/png": "[encoded data removed]",
      "text/plain": [
       "<Figure size 1152x864 with 1 Axes>"
      ]
     },
     "metadata": {
      "needs_background": "light"
     },
     "output_type": "display_data"
    }
   ],
   "source": [
    "ΔT_prop = L_z / np.sin(ϕ) * ( 1./v_g(λ_0, theta, phi, dx_strict, dy_strict, dz, S) - 1./sc.c)\n",
    "T_plasma = 2.*sc.pi/PLASMA_FREQUENCY_SI\n",
    "\n",
    "figure(figsize=(16,12))\n",
    "\n",
    "plot(dz/dy_strict, ΔT_prop / T_plasma)\n",
    "\n",
    "xlabel(\"Δz [Δy]\")\n",
    "ylabel(\"ΔT_prop / T_plasma\")\n",
    "\n",
    "#xticks(np.arange(0., dz[-1] / dy_strict, 2))\n",
    "\n",
    "#xlim(0,50)\n",
    "\n",
    "grid()\n",
    "\n",
    "show()"
   ]
  },
  {
   "cell_type": "markdown",
   "metadata": {},
   "source": [
    "There is a minimum in the physical group-velocity error $\\Delta v_\\mathrm{g}$!"
   ]
  },
  {
   "cell_type": "code",
   "execution_count": 19,
   "metadata": {},
   "outputs": [
    {
     "name": "stdout",
     "output_type": "stream",
     "text": [
      "Minimum at 194: Dz = 16 Dy\n"
     ]
    }
   ],
   "source": [
    "dz_min = np.argmin(ΔT_prop / T_plasma)\n",
    "print(\"Minimum at %i: Dz = %i Dy\"%(dz_min, dz[dz_min]/dy_strict))"
   ]
  },
  {
   "cell_type": "code",
   "execution_count": 20,
   "metadata": {},
   "outputs": [],
   "source": [
    "## Choose dz to have the numerical group velocity error at a minimum\n",
    "dz_strict = 8.*dy_strict"
   ]
  },
  {
   "cell_type": "markdown",
   "metadata": {},
   "source": [
    "#### Temporal sampling"
   ]
  },
  {
   "cell_type": "code",
   "execution_count": 21,
   "metadata": {},
   "outputs": [],
   "source": [
    "## Calculate the time sampling from the CFL condition\n",
    "dt_strict = S * Delta(dx_strict, dy_strict, dz_strict) / sc.c"
   ]
  },
  {
   "cell_type": "code",
   "execution_count": 22,
   "metadata": {},
   "outputs": [
    {
     "name": "stdout",
     "output_type": "stream",
     "text": [
      "sanity check: temporal samples per laser period λ_Laser / c Δt = 40.82431359113547\n",
      "sanity check: Δy / c Δt = 1.0206078397783866\n",
      "sanity check CFL condition: c Δt = 1.9596165363909774e-08 < 1.969463855669324e-08 !?\n"
     ]
    }
   ],
   "source": [
    "print(\"sanity check: temporal samples per laser period λ_Laser / c Δt =\", λ_0 / sc.c / dt_strict)\n",
    "print(\"sanity check: Δy / c Δt =\", dy_strict / sc.c / dt_strict)\n",
    "print(\"sanity check CFL condition: c Δt =\", sc.c * dt_strict, \"<\", 1./sqrt( 1./dx_strict**2 + 1./dy_strict**2 + 1./dz_strict**2 ), \"!?\")"
   ]
  },
  {
   "cell_type": "code",
   "execution_count": 23,
   "metadata": {},
   "outputs": [
    {
     "name": "stdout",
     "output_type": "stream",
     "text": [
      "Summary of sampling parameters\n",
      "==============================\n",
      "dt = 6.53658e-17s = 0.024 T_Laser = 2.3e-04 T_Plasma\n",
      "dx = 1.60000e-07m = 0.200 λ_Laser = 1.4e-03 λ_Plasma\n",
      "dy = 2.00000e-08m = 0.025 λ_Laser = 1.7e-04 λ_Plasma\n",
      "dz = 1.60000e-07m = 0.200 λ_Laser = 1.4e-03 λ_Plasma\n"
     ]
    }
   ],
   "source": [
    "print(\"Summary of sampling parameters\")\n",
    "print(\"==============================\")\n",
    "print(\"dt = %.5es = %.3f T_Laser = %.1e T_Plasma\"%(dt_strict, dt_strict/(λ_0 / sc.c), dt_strict/(2. * sc.pi / PLASMA_FREQUENCY_SI)))\n",
    "print(\"dx = %.5em = %.3f λ_Laser = %.1e λ_Plasma\"%(dx_strict, dx_strict/λ_0, dx_strict/λ_plasma_base))\n",
    "print(\"dy = %.5em = %.3f λ_Laser = %.1e λ_Plasma\"%(dy_strict, dy_strict/λ_0, dy_strict/λ_plasma_base))\n",
    "print(\"dz = %.5em = %.3f λ_Laser = %.1e λ_Plasma\"%(dz_strict, dz_strict/λ_0, dz_strict/λ_plasma_base))"
   ]
  },
  {
   "cell_type": "code",
   "execution_count": 24,
   "metadata": {},
   "outputs": [
    {
     "name": "stdout",
     "output_type": "stream",
     "text": [
      "Typical particles per cell = 40.96\n"
     ]
    }
   ],
   "source": [
    "print(\"Typical particles per cell =\", BASE_DENSITY_SI * dx_strict * dy_strict * dz_strict)"
   ]
  },
  {
   "cell_type": "markdown",
   "metadata": {},
   "source": [
    "### Simulation window volume"
   ]
  },
  {
   "cell_type": "code",
   "execution_count": 25,
   "metadata": {},
   "outputs": [
    {
     "name": "stdout",
     "output_type": "stream",
     "text": [
      "box L_x:  1500\n",
      "box L_y:  47219\n",
      "box L_z:  11136\n",
      "Ratio of box dimensions [cells] : x : y : z = 1.0 : 31.5 : 7.4\n"
     ]
    }
   ],
   "source": [
    "box_cells_x_raw = np.int(L_x / dx_strict)\n",
    "print(\"box L_x: \",box_cells_x_raw)\n",
    "box_cells_y_raw = np.int(L_y / dy_strict)\n",
    "print(\"box L_y: \",box_cells_y_raw)\n",
    "box_cells_z_raw = np.int(L_z / dz_strict)\n",
    "print(\"box L_z: \",box_cells_z_raw)\n",
    "\n",
    "cells_norm = box_cells_x_raw\n",
    "print(\"Ratio of box dimensions [cells] : x : y : z = %.1f : %.1f : %.1f\"%(box_cells_x_raw/cells_norm, box_cells_y_raw/cells_norm, box_cells_z_raw/cells_norm))"
   ]
  },
  {
   "cell_type": "markdown",
   "metadata": {},
   "source": [
    "### Calculate the real number of cells in the box\n",
    "\n",
    "Aim for a simulation volume per GPU that has an approximately even number of cells in all directions.\n",
    "\n",
    "Berechne Verhältnis der Boxlängen zueinander und nimm selbes Verhältnis für Verteilung der Grafikkarten."
   ]
  },
  {
   "cell_type": "markdown",
   "metadata": {},
   "source": [
    "#### Estimate GPU distribution from ratio of box dimensions"
   ]
  },
  {
   "cell_type": "code",
   "execution_count": 26,
   "metadata": {},
   "outputs": [
    {
     "name": "stdout",
     "output_type": "stream",
     "text": [
      "GPUs raw x : y : z = 4.7 : 150.4 : 37.6\n",
      "total number of gpus raw: 26578.688000000006\n"
     ]
    }
   ],
   "source": [
    "# domain decomposition\n",
    "n_scale = 4.7\n",
    "gpus_x_raw = 1 * n_scale\n",
    "gpus_y_raw = 32 * n_scale\n",
    "gpus_z_raw = 8. * n_scale\n",
    "\n",
    "print(\"GPUs raw x : y : z = %.1f : %.1f : %.1f\"%(gpus_x_raw, gpus_y_raw, gpus_z_raw))\n",
    "print(\"total number of gpus raw:\", gpus_x_raw * gpus_y_raw * gpus_z_raw)"
   ]
  },
  {
   "cell_type": "markdown",
   "metadata": {},
   "source": [
    "#### Calculate GPU distribution"
   ]
  },
  {
   "cell_type": "code",
   "execution_count": 27,
   "metadata": {},
   "outputs": [
    {
     "name": "stdout",
     "output_type": "stream",
     "text": [
      "5520.0\n"
     ]
    }
   ],
   "source": [
    "## Set number of GPUs in one direction \n",
    "gpus_total = 27600.\n",
    "gpus_i = 5. \n",
    "\n",
    "gpus_remain = gpus_total / gpus_i\n",
    "print(gpus_remain)"
   ]
  },
  {
   "cell_type": "code",
   "execution_count": 28,
   "metadata": {},
   "outputs": [
    {
     "data": {
      "image/png": "[encoded data removed]",
      "text/plain": [
       "<Figure size 864x576 with 1 Axes>"
      ]
     },
     "metadata": {
      "needs_background": "light"
     },
     "output_type": "display_data"
    }
   ],
   "source": [
    "## Acceptable range of GPUs in the second direction\n",
    "gpus_j_array = np.arange(10, 50, dtype=float)\n",
    "\n",
    "## Plot the remainder of gpus_remain / gpus_j in order to find integral divisors\n",
    "## which result in an integral number of GPUs in the third direction\n",
    "figure()\n",
    "\n",
    "plot(gpus_j_array, gpus_remain%gpus_j_array, 'o')\n",
    "\n",
    "grid()\n",
    "\n",
    "show()"
   ]
  },
  {
   "cell_type": "code",
   "execution_count": 29,
   "metadata": {},
   "outputs": [
    {
     "name": "stdout",
     "output_type": "stream",
     "text": [
      "40.0\n",
      "138.0\n"
     ]
    }
   ],
   "source": [
    "gpus_j = 40.\n",
    "print(gpus_j)\n",
    "gpus_k = gpus_remain / gpus_j\n",
    "print(gpus_k)"
   ]
  },
  {
   "cell_type": "code",
   "execution_count": 30,
   "metadata": {},
   "outputs": [
    {
     "name": "stdout",
     "output_type": "stream",
     "text": [
      "GPUs x : y : z = 5.0 : 138.0 : 40.0\n",
      "total number of gpus: 27600.0\n",
      "simulation box size raw = [ 1190.55078898 37477.74513644  8838.64905736]\n",
      "super cells per gpu: [29.76376972 33.94723291 55.24155661]\n"
     ]
    }
   ],
   "source": [
    "# domain decomposition\n",
    "gpus_x = gpus_i\n",
    "gpus_y = gpus_k\n",
    "gpus_z = gpus_j\n",
    "\n",
    "print(\"GPUs x : y : z = %.1f : %.1f : %.1f\"%(gpus_x, gpus_y, gpus_z))\n",
    "print(\"total number of gpus:\", gpus_x * gpus_y * gpus_z)\n",
    "\n",
    "# super cell\n",
    "super_cell = np.array([8, 8, 4])\n",
    "\n",
    "#box_raw = np.array([box_cells_x_raw, box_cells_y_raw, box_cells_z_raw])\n",
    "## Scale to smaller volume for Summit\n",
    "box_raw = np.array([box_cells_x_raw, box_cells_y_raw, box_cells_z_raw]) / 2**(1./3.)\n",
    "gpu_raw = np.array([box_raw[0] / gpus_x / super_cell[0]\n",
    "                    , box_raw[1] / gpus_y / super_cell[1]\n",
    "                    , box_raw[2] / gpus_z / super_cell[2]])\n",
    "\n",
    "print(\"simulation box size raw =\", box_raw)\n",
    "print(\"super cells per gpu:\", gpu_raw)"
   ]
  },
  {
   "cell_type": "code",
   "execution_count": 31,
   "metadata": {},
   "outputs": [
    {
     "name": "stdout",
     "output_type": "stream",
     "text": [
      "Simulation box size =  [ 1200. 37536.  8960.]\n",
      "box dimesion per gpu (x, y, z) [cells] = (240.0, 272.0, 224.0)\n"
     ]
    }
   ],
   "source": [
    "box_cells_x = 30. * gpus_x * super_cell[0]\n",
    "box_cells_y = 34. * gpus_y * super_cell[1]\n",
    "box_cells_z = 56. * gpus_z * super_cell[2]\n",
    "\n",
    "box = np.array([box_cells_x, box_cells_y, box_cells_z])\n",
    "print(\"Simulation box size = \", box)\n",
    "print(\"box dimesion per gpu (x, y, z) [cells] = (%.1f, %.1f, %.1f)\"%(box_cells_x / gpus_x, box_cells_y / gpus_y, box_cells_z / gpus_z))"
   ]
  },
  {
   "cell_type": "markdown",
   "metadata": {},
   "source": [
    "## Estimate memory consumption"
   ]
  },
  {
   "cell_type": "code",
   "execution_count": 32,
   "metadata": {},
   "outputs": [
    {
     "name": "stdout",
     "output_type": "stream",
     "text": [
      "Number of particles = 1.00897e+13\n"
     ]
    }
   ],
   "source": [
    "# typical number of particles per cell\n",
    "N_PPC = 25.\n",
    "\n",
    "print(\"Number of particles = %.5e\"%(box[0]*box[1]*box[2]*N_PPC))"
   ]
  },
  {
   "cell_type": "code",
   "execution_count": 33,
   "metadata": {},
   "outputs": [],
   "source": [
    "n_x = np.int(box_cells_x / gpus_x)\n",
    "n_y = np.int(box_cells_y / gpus_y)\n",
    "n_z = np.int(box_cells_z / gpus_z)\n",
    "\n",
    "mc = MemoryCalculator(\n",
    "    n_x=n_x,\n",
    "    n_y=n_y,\n",
    "    n_z=n_z,\n",
    "    precision_bits=32\n",
    ")"
   ]
  },
  {
   "cell_type": "code",
   "execution_count": 34,
   "metadata": {},
   "outputs": [
    {
     "name": "stdout",
     "output_type": "stream",
     "text": [
      "Memory requirement per GPU:\n",
      "+ fields: 740.68 MB\n",
      "+ species:\n",
      "- e: 10807.62 MB\n",
      "+ RNG states: 334.69 MB\n",
      "+ particle calorimeters: 126.56 MB\n",
      "Sum of required GPU memory: 12009.55 MB\n"
     ]
    }
   ],
   "source": [
    "print(\"Memory requirement per GPU:\")\n",
    "# field memory per GPU\n",
    "field_gpu = mc.mem_req_by_fields(field_tmp_slots=2,particle_shape_order=3,sim_dim=3)\n",
    "print(\"+ fields: {:.2f} MB\".format(\n",
    "    field_gpu / (1024 * 1024)))\n",
    "# particle memory per GPU - only the target area contributes here\n",
    "e_gpu = mc.mem_req_by_particles(\n",
    "    n_x, n_y, n_z, num_additional_attributes = 0,\n",
    "    particles_per_cell = N_PPC)\n",
    "\n",
    "# memory for calorimeters\n",
    "cal_gpu = mc.mem_req_by_calorimeter(n_energy=1024, n_yaw=180, n_pitch=90\n",
    "                                     )\n",
    "\n",
    "print(\"+ species:\")\n",
    "print(\"- e: {:.2f} MB\".format(e_gpu / (1024 * 1024)))\n",
    "\n",
    "rng_gpu = mc.mem_req_by_rng(n_x, n_y, n_z)\n",
    "print(\"+ RNG states: {:.2f} MB\".format(rng_gpu / (1024 * 1024)))\n",
    "\n",
    "print(\"+ particle calorimeters: {:.2f} MB\".format(cal_gpu / (1024 * 1024)))\n",
    "\n",
    "mem_sum = field_gpu + e_gpu + rng_gpu + cal_gpu\n",
    "print(\"Sum of required GPU memory: {:.2f} MB\".format(mem_sum / (1024 * 1024)))"
   ]
  },
  {
   "cell_type": "markdown",
   "metadata": {},
   "source": [
    "**Available clusters**\n",
    "\n",
    "* taurus: *gpu2* partition: 256 x Tesla **k80 with 11441MiB memory**\n",
    "* taurus: *ml* partition: 132 x Tesla **V100 with 32256MiB memory**\n",
    "* Summit: ** partition: 27648 Nvidia Tesla **V100 with 16130MiB memory** (4608 nodes, in total 9216 IBM POWER9 CPUs and 27648 Nvidia Tesla GPUs)"
   ]
  },
  {
   "cell_type": "markdown",
   "metadata": {},
   "source": [
    "# Creating the example \n",
    "\n",
    "Branch: `topic-2019-10_TWEAC-for-Summit_0.4.3dev`"
   ]
  },
  {
   "cell_type": "markdown",
   "metadata": {},
   "source": [
    "## `grid.param`"
   ]
  },
  {
   "cell_type": "code",
   "execution_count": 35,
   "metadata": {},
   "outputs": [
    {
     "name": "stdout",
     "output_type": "stream",
     "text": [
      "dt = 6.53658e-17 s\n",
      "dx = 1.60000e-07 m\n",
      "dy = 2.00000e-08 m\n",
      "dz = 1.60000e-07 m\n"
     ]
    }
   ],
   "source": [
    "print(\"dt = {:.5e} s\".format(dt_strict))\n",
    "print(\"dx = {:.5e} m\".format(dx_strict))\n",
    "print(\"dy = {:.5e} m\".format(dy_strict))\n",
    "print(\"dz = {:.5e} m\".format(dz_strict))"
   ]
  },
  {
   "cell_type": "markdown",
   "metadata": {},
   "source": [
    "### Set the correct move point for the moving window\n",
    "<span style=\"font-weight:bold; font-size:xx-large; color:coral\">TODO</span>\n",
    "\n",
    "Depends on simulation window size (take into account that there is on row of GPUs less for moving window simulations), as well as `time_delay` and `focus_y` in `fieldBackground.param`."
   ]
  },
  {
   "cell_type": "markdown",
   "metadata": {},
   "source": [
    "## `fieldSolver.param`\n",
    "\n",
    "\n",
    "```C++\n",
    "    using CurrentInterpolation = currentInterpolation::Binomial;\n",
    "    using Solver = maxwellSolver::Yee< CurrentInterpolation >;\n",
    "```"
   ]
  },
  {
   "cell_type": "markdown",
   "metadata": {},
   "source": [
    "## `density.param`"
   ]
  },
  {
   "cell_type": "markdown",
   "metadata": {},
   "source": [
    "## Gas profiles"
   ]
  },
  {
   "cell_type": "code",
   "execution_count": 152,
   "metadata": {},
   "outputs": [],
   "source": [
    "def richard_density(y, z):\n",
    "    CELL_WIDTH_SI = dx_strict\n",
    "    CELL_HEIGHT_SI = dy_strict\n",
    "    CELL_DEPTH_SI = dz_strict\n",
    "    \n",
    "    VACUUM_Y_SI = 100.0 * CELL_HEIGHT_SI\n",
    "    VACUUM_Z_SI = 148.0 * CELL_DEPTH_SI\n",
    "    Z_GRADIENT_SI = 32.0 * CELL_DEPTH_SI\n",
    "\n",
    "    SIM_BOX_Z = box[2] * CELL_DEPTH_SI # MATCH THIS WITH Z-COMPONENT OF \"TBG_gridsize\" IN CFG_FILE !!!                                                              \n",
    "    \n",
    "    PLASMA_Z_LENGTH_SI = SIM_BOX_Z - 2.0 * VACUUM_Z_SI\n",
    "    \n",
    "    INITIAL_UPRAMP = 0.0e-6 ##change\n",
    "    LOW_DENSITY_PLATEAU = 0.0e-6 ##change\n",
    "    TORCH_UPRAMP = 120.0e-6 ##change\n",
    "    HIGH_DENSITY_PLATEAU = 240.0e-6 ##change\n",
    "    DOWNRAMP_1 = 15.0e-6 ##change\n",
    "    DOWNRAMP_2 = 0.0e-6 ##change\n",
    "    \n",
    "    REL_DENSITY_LOW = 0.0\n",
    "    REL_DENSITY_HIGH = 2.0\n",
    "    REL_DENSITY_MEDIUM = 1.0 #sqrt(2.0)\n",
    "    REL_DENSITY_BASE = 1.0 # always one, use BASE_DENSITY_SI to change base density\n",
    "                           # just here to avoid \"magic\" 1.0s in the code\n",
    "    \n",
    "    REL_DENSITY = REL_DENSITY_BASE\n",
    "    \n",
    "    \n",
    "    # Plot of density profile                                                                  \n",
    "    #\n",
    "    #   density                                                                                  \n",
    "    #\n",
    "    # REL_DENSITY_HIGH   |        ___                                                                              \n",
    "    # REL_DENSITY_MEDIUM |       /   \\                                                                             \n",
    "    # REL_DENSITY_LOW    |    __/     `.                                                                           \n",
    "    # REL_DENSITY_BASE   |   /          `._______                                                                  \n",
    "    #                    |  /                                                                                    \n",
    "    #                    |----------------------------  y                                                       \n",
    "    #                      A B C D E  F  G   H                                                                   \n",
    "    # */\n",
    "    \n",
    "    \n",
    "    # vacuum before gas (A)                                                                    \n",
    "    if ( y < VACUUM_Y_SI ):\n",
    "        return 0.0\n",
    "    if ( z < VACUUM_Z_SI or z >= (PLASMA_Z_LENGTH_SI + VACUUM_Z_SI ) ):\n",
    "        REL_DENSITY = 0.0\n",
    "    if ( z >= VACUUM_Z_SI and z < ( VACUUM_Z_SI + Z_GRADIENT_SI ) ):\n",
    "        REL_DENSITY =  (z - VACUUM_Z_SI ) / Z_GRADIENT_SI\n",
    "    if ( z < ( PLASMA_Z_LENGTH_SI + VACUUM_Z_SI ) and z >= ( PLASMA_Z_LENGTH_SI + VACUUM_Z_SI - Z_GRADIENT_SI ) ):\n",
    "        REL_DENSITY = ( PLASMA_Z_LENGTH_SI + VACUUM_Z_SI - z) / Z_GRADIENT_SI\n",
    "    \n",
    "    # first up-ramp (B)\n",
    "    y_B = VACUUM_Y_SI + INITIAL_UPRAMP\n",
    "    if ( y >= ( VACUUM_Y_SI ) and y < y_B ):\n",
    "        return REL_DENSITY * REL_DENSITY_LOW * ( ( y - VACUUM_Y_SI ) / INITIAL_UPRAMP )\n",
    "    \n",
    "    # first plateau (C)\n",
    "    y_C = y_B + LOW_DENSITY_PLATEAU\n",
    "    if ( y >= y_B and y < y_C ):\n",
    "        return REL_DENSITY * REL_DENSITY_LOW\n",
    "    \n",
    "    # second up-ramp (D)\n",
    "    y_D = y_C + TORCH_UPRAMP\n",
    "    if ( y >= y_C and y < y_D ):\n",
    "        return REL_DENSITY * (REL_DENSITY_HIGH - REL_DENSITY_LOW) * ( ( y - y_C ) / TORCH_UPRAMP ) + REL_DENSITY_LOW\n",
    "    \n",
    "    # second plateau (E)\n",
    "    y_E = y_D + HIGH_DENSITY_PLATEAU\n",
    "    if ( y >= y_D and y < y_E ):\n",
    "        return REL_DENSITY * REL_DENSITY_HIGH\n",
    "    \n",
    "    # first down-ramp (F)\n",
    "    y_F = y_E + DOWNRAMP_1\n",
    "    if ( y >= y_E and y < y_F ):\n",
    "        return REL_DENSITY * (REL_DENSITY_MEDIUM - REL_DENSITY_HIGH) * ( y - y_E ) / DOWNRAMP_1 + REL_DENSITY * REL_DENSITY_HIGH\n",
    "\n",
    "    # second down-ramp (G)\n",
    "    y_G = y_F + DOWNRAMP_2\n",
    "    if ( y >= y_F and y < y_G ):\n",
    "        return REL_DENSITY * ( REL_DENSITY_BASE - REL_DENSITY_MEDIUM ) * ( y - y_F ) / DOWNRAMP_2 + REL_DENSITY * REL_DENSITY_MEDIUM\n",
    "        \n",
    "    # third plateau (H)\n",
    "    if ( y >= y_G):\n",
    "        return REL_DENSITY * REL_DENSITY_BASE # 0.32+e19 cm^-3                                         \n",
    "\n",
    "    return (REL_DENSITY * REL_DENSITY_BASE)"
   ]
  },
  {
   "cell_type": "code",
   "execution_count": 153,
   "metadata": {},
   "outputs": [],
   "source": [
    "def density_from_array(y,z):\n",
    "    \"\"\" since the density profile functions above only work fpr single (y,z)-pairs\n",
    "        this wrapper function allows to calculate the density in a (y,z)-plane from\n",
    "        arrays of y- and z-values.\n",
    "        \n",
    "        NOTE: Adjust the density you want to plot by using the respective function in\n",
    "        the line starting with `density[j,i] = ...`\n",
    "    \"\"\"\n",
    "    density = zeros((len(z),len(y)))\n",
    "    #print(shape(density))\n",
    "    j=0\n",
    "    for z_j in z:\n",
    "        i=0\n",
    "        for y_i in y:\n",
    "            density[j,i] = richard_density(y_i, z_j) ## linear increase: 10.*y_i #2.*z_j \n",
    "                                                     ## Alex original: alex_density(y_i, z_j)\n",
    "            #print(j,i)\n",
    "            #print(y_i,z_j)\n",
    "            i+=1\n",
    "        j+=1\n",
    "    \n",
    "    return density"
   ]
  },
  {
   "cell_type": "code",
   "execution_count": 154,
   "metadata": {},
   "outputs": [],
   "source": [
    "y = np.linspace(0., 400.e-6, 200)\n",
    "z = np.linspace(0., box[2]*dz_strict, 200)\n",
    "density2d = density_from_array(y,z)"
   ]
  },
  {
   "cell_type": "code",
   "execution_count": 156,
   "metadata": {},
   "outputs": [
    {
     "data": {
      "image/png": "[encoded data removed]",
      "text/plain": [
       "<Figure size 576x432 with 2 Axes>"
      ]
     },
     "metadata": {
      "needs_background": "light"
     },
     "output_type": "display_data"
    }
   ],
   "source": [
    "figure(figsize=((8,6)))\n",
    "\n",
    "imshow(density2d\n",
    "       #, extent=(y[0]*1.e6, y[-1]*1.e6, z[0]*1.e6, z[-1]*1.e6)\n",
    "       , extent=(y[0]/dy_strict, y[-1]/dy_strict, z[0]/dz_strict, z[-1]/dz_strict)\n",
    "       , interpolation='none'\n",
    "       , origin='lower'\n",
    "       #, vmin = , vmax = \n",
    "       , cmap=cm.plasma\n",
    "       , aspect='auto'\n",
    ")\n",
    "\n",
    "xlabel(r\"y\")\n",
    "ylabel(r\"z\")\n",
    "\n",
    "colorbar()\n",
    "\n",
    "show()"
   ]
  },
  {
   "cell_type": "code",
   "execution_count": 157,
   "metadata": {
    "scrolled": false
   },
   "outputs": [
    {
     "data": {
      "image/png": "[encoded data removed]",
      "text/plain": [
       "<Figure size 1152x432 with 2 Axes>"
      ]
     },
     "metadata": {
      "needs_background": "light"
     },
     "output_type": "display_data"
    }
   ],
   "source": [
    "figure((figsize(16,6)))\n",
    "subplot(1,2,1)\n",
    "\n",
    "plot(y*1.e6, density2d[len(z)//2,:])\n",
    "\n",
    "xlabel(\"y [mum]\")\n",
    "#xlim(0,500)\n",
    "#xticks(arange(0,501,25))\n",
    "\n",
    "ylabel(\"rel. Density\")\n",
    "grid()\n",
    "\n",
    "\n",
    "subplot(1,2,2)\n",
    "plot(y/dy_strict, density2d[len(z)//2,:])\n",
    "xlabel(\"y [cells]\")\n",
    "grid()\n",
    "\n",
    "show()"
   ]
  },
  {
   "cell_type": "markdown",
   "metadata": {},
   "source": [
    "## `species.param`"
   ]
  },
  {
   "cell_type": "markdown",
   "metadata": {},
   "source": [
    "```C++\n",
    "    using UsedParticleShape = particles::shapes::PCS;\n",
    "\n",
    "    using UsedParticleCurrentSolver = currentSolver::EmZ< UsedParticleShape >;\n",
    "\n",
    "    using UsedParticlePusher = particles::pusher::Vay;\n",
    "```"
   ]
  },
  {
   "cell_type": "markdown",
   "metadata": {},
   "source": [
    "## `speciesDefinition.param`\n",
    "\n",
    "Deleted everything except electrons."
   ]
  },
  {
   "cell_type": "markdown",
   "metadata": {},
   "source": [
    "## `particle.param`\n",
    "\n",
    "Adjust minimum weighting and numbers of particles per cell.\n",
    "\n",
    "```C++\n",
    "    /** a particle with a weighting below MIN_WEIGHTING will not\n",
    "     *      be created / will be deleted\n",
    "     *\n",
    "     *  unit: none */\n",
    "    constexpr float_X MIN_WEIGHTING = 0.001;\n",
    "\n",
    "    /** Number of maximum particles per cell during density profile evaluation.\n",
    "     *\n",
    "     * Determines the weighting of a macro particle and with it, the number of\n",
    "     * particles \"sampling\" dynamics in phase space.\n",
    "     */\n",
    "    constexpr uint32_t TYPICAL_PARTICLES_PER_CELL = 25u;\n",
    "\n",
    "```"
   ]
  },
  {
   "cell_type": "code",
   "execution_count": 38,
   "metadata": {},
   "outputs": [
    {
     "name": "stdout",
     "output_type": "stream",
     "text": [
      "current TYPICAL_PARTICLES_PER_CELL = 25.0\n"
     ]
    }
   ],
   "source": [
    "print(\"current TYPICAL_PARTICLES_PER_CELL =\", N_PPC)"
   ]
  },
  {
   "cell_type": "markdown",
   "metadata": {},
   "source": [
    "## `particleFilters.param`\n",
    "\n",
    "Added something according to old run on Piz Daint."
   ]
  },
  {
   "cell_type": "markdown",
   "metadata": {},
   "source": [
    "## `speciesInitialization.param`"
   ]
  },
  {
   "cell_type": "markdown",
   "metadata": {},
   "source": [
    "Set density profile, start position, add drift and temperature.\n",
    "\n",
    "```C++\n",
    "using InitPipeline = bmpl::vector<\n",
    "        CreateDensity<\n",
    "            densityProfiles::FreeFormula,\n",
    "            startPosition::Random,\n",
    "            PIC_Electrons\n",
    "        >,\n",
    "        Manipulate<\n",
    "            manipulators::AssignYDriftPositive,\n",
    "            PIC_Electrons\n",
    "        >,\n",
    "        Manipulate<\n",
    "            manipulators::AddTemperature,\n",
    "            PIC_Electrons\n",
    "        >\n",
    "    >;\n",
    "```"
   ]
  },
  {
   "cell_type": "markdown",
   "metadata": {},
   "source": [
    "## `memory.param`\n",
    "\n",
    "Increase default exchange memory.\n",
    "```C++\n",
    "    struct DefaultExchangeMemCfg\n",
    "    {\n",
    "        // memory used for a direction\n",
    "        static constexpr uint32_t BYTES_EXCHANGE_X = 6 * 1024 * 1024; // 6 MiB\n",
    "        static constexpr uint32_t BYTES_EXCHANGE_Y = 96 * 1024 * 1024; // 96 MiB\n",
    "        static constexpr uint32_t BYTES_EXCHANGE_Z = 6 * 1024 * 1024; // 6 MiB\n",
    "        static constexpr uint32_t BYTES_EDGES = 256 * 1024; // 256 kiB\n",
    "        static constexpr uint32_t BYTES_CORNER = 64 * 1024; // 64 kiB\n",
    "    };\n",
    "\n",
    "```"
   ]
  },
  {
   "cell_type": "markdown",
   "metadata": {},
   "source": [
    "## `fieldbackground.param`\n",
    "Add 4 TWTS pulses per field (E, B) in order to generate 2 pulse-front titled laser pulses with crossed polarization.\n",
    "The polarization direction calculations for the individual pulses was done by @beyondEspresso.\n",
    "\n",
    "### E-Field\n",
    "```C++\n",
    "    // Parameters of a single TWTS pulse\n",
    "    twtsFieldE1(\n",
    "        /* focus_y [m], the distance to the laser focus in y-direction */\n",
    "        30.0e-6,\n",
    "        /* wavelength [m] */\n",
    "        0.8e-6,\n",
    "        /* pulselength [s], sigma of std. gauss for intensity (E^2) */\n",
    "        10.0e-15 / 2.3548200450309493820231386529194,\n",
    "        /* w_x [m], cylindrically focused spot size */\n",
    "        1.2e-6,\n",
    "        /* w_y [m] */\n",
    "        0.1,\n",
    "        /* interaction angle between TWTS laser propagation vector and the y-axis [rad] */\n",
    "        3.5 * (PI/180.),\n",
    "        /* propagation speed of overlap [speed of light]. */\n",
    "        1.0,\n",
    "        /* manual time delay [s] if auto_tdelay is false */\n",
    "        50.0e-6 / SI::SPEED_OF_LIGHT_SI,\n",
    "        /* Should PIConGPU automatically choose a suitable time delay? [true/false] */\n",
    "        false,\n",
    "        /* Polarization of TWTS laser field */\n",
    "        templates::twts::EField::LINEAR_X ),\n",
    "```\n",
    "`twtsFieldE2` has an interaction angle of `- 3.5 * (PI/180.)`.\n",
    "\n",
    "`twtsFieldE3` has polarization `templates::twts::EField::LINEAR_YZ`.\n",
    "\n",
    "`twtsFieldE4` has polarization `templates::twts::EField::LINEAR_YZ` and interaction angle of `- 3.5 * (PI/180.)`.\n",
    "\n",
    "\n",
    "In\n",
    "```C++\n",
    "    HDINLINE float3_X operator()( const DataSpace<simDim>& cellIdx, const uint32_t currentStep ) const\n",
    "```\n",
    "The wavelength definition appears again (<span style=\"font-size:xx-large; font-weight:bold; color:coral\">Why?</span>)\n",
    "```C++\n",
    "    constexpr float_64 WAVE_LENGTH_SI = 0.8e-6;\n",
    "```\n",
    "And later in that function\n",
    "```C++\n",
    "    const float_64 _A0  = 3.25 * 0.01; //reduced for FOM benchmark\n",
    "```\n",
    "\n",
    "### B-Field\n",
    "Exactly the same as E-Field"
   ]
  },
  {
   "cell_type": "markdown",
   "metadata": {},
   "source": [
    "## `png.param`\n",
    "\n",
    "Change channel settings\n",
    "```\n",
    "    /* png preview settings for each channel */\n",
    "    DINLINE float_X preChannel1(const float3_X& field_B, const float3_X& field_E, const float3_X& field_J)\n",
    "    {\n",
    "        return math::abs2(field_J);\n",
    "    }\n",
    "\n",
    "    DINLINE float_X preChannel2(const float3_X& field_B, const float3_X& field_E, const float3_X& field_J)\n",
    "    {\n",
    "        return field_E.x() * field_E.x() + field_E.y() * field_E.y() + field_E.z() * field_E.z();\n",
    "    }\n",
    " \n",
    "    DINLINE float_X preChannel3(const float3_X& field_B, const float3_X& field_E, const float3_X& field_J)\n",
    "    {\n",
    "       return -1.0_X * field_E.y();\n",
    "    }\n",
    "\n",
    "```\n",
    "\n",
    "<span style=\"font-size:xx-large; font-weight:bold; color:coral\">What about?</span>\n",
    "\n",
    "```C++\n",
    "    constexpr float_64 scale_image = 1./64.;\n",
    "```"
   ]
  },
  {
   "cell_type": "markdown",
   "metadata": {},
   "source": [
    "# Config files"
   ]
  },
  {
   "cell_type": "markdown",
   "metadata": {},
   "source": [
    "### FOM run\n",
    "\n",
    "Only:\n",
    "* periodic boundary condition\n",
    "* macroparticle counter"
   ]
  },
  {
   "cell_type": "code",
   "execution_count": null,
   "metadata": {},
   "outputs": [],
   "source": []
  }
 ],
 "metadata": {
  "kernelspec": {
   "display_name": "Python 3",
   "language": "python",
   "name": "python3"
  },
  "language_info": {
   "codemirror_mode": {
    "name": "ipython",
    "version": 3
   },
   "file_extension": ".py",
   "mimetype": "text/x-python",
   "name": "python",
   "nbconvert_exporter": "python",
   "pygments_lexer": "ipython3",
   "version": "3.7.3"
  },
  "toc": {
   "nav_menu": {},
   "number_sections": true,
   "sideBar": true,
   "skip_h1_title": false,
   "toc_cell": false,
   "toc_position": {
    "height": "646px",
    "left": "0px",
    "right": "1388px",
    "top": "111px",
    "width": "212px"
   },
   "toc_section_display": "block",
   "toc_window_display": true
  },
  "varInspector": {
   "cols": {
    "lenName": 16,
    "lenType": 16,
    "lenVar": 40
   },
   "kernels_config": {
    "python": {
     "delete_cmd_postfix": "",
     "delete_cmd_prefix": "del ",
     "library": "var_list.py",
     "varRefreshCmd": "print(var_dic_list())"
    },
    "r": {
     "delete_cmd_postfix": ") ",
     "delete_cmd_prefix": "rm(",
     "library": "var_list.r",
     "varRefreshCmd": "cat(var_dic_list()) "
    }
   },
   "position": {
    "height": "392px",
    "left": "1235px",
    "right": "20px",
    "top": "52px",
    "width": "350px"
   },
   "types_to_exclude": [
    "module",
    "function",
    "builtin_function_or_method",
    "instance",
    "_Feature"
   ],
   "window_display": true
  }
 },
 "nbformat": 4,
 "nbformat_minor": 2
}
