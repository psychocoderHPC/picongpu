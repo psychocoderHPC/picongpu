{
 "cells": [
  {
   "cell_type": "markdown",
   "metadata": {},
   "source": [
    "# Planning TWEAC Setup for Figure-of-Merit Run<a class=\"tocSkip\">"
   ]
  },
  {
   "cell_type": "markdown",
   "metadata": {},
   "source": [
    "## Imports"
   ]
  },
  {
   "cell_type": "code",
   "execution_count": 1,
   "metadata": {},
   "outputs": [
    {
     "name": "stdout",
     "output_type": "stream",
     "text": [
      "Populating the interactive namespace from numpy and matplotlib\n"
     ]
    }
   ],
   "source": [
    "%pylab inline\n",
    "import numpy as np\n",
    "import matplotlib as mpl\n",
    "from matplotlib.colors import LogNorm\n",
    "from matplotlib.ticker import FormatStrFormatter\n",
    "import os\n",
    "import sys\n",
    "sys.path.append(\"/home/s7470087/2019-10_TWEAC-for-Summit/picsrc/lib/python/\")\n",
    "from scipy import constants as sc\n",
    "from picongpu.utils import MemoryCalculator"
   ]
  },
  {
   "cell_type": "markdown",
   "metadata": {},
   "source": [
    "## Override Matplotlib Defaults"
   ]
  },
  {
   "cell_type": "code",
   "execution_count": 2,
   "metadata": {},
   "outputs": [],
   "source": [
    "# OVERWRITE DEFAULT PLOTTING PARAMETERS\n",
    "params = {\n",
    "    'font.size' : 20,\n",
    "    'lines.linewidth' : 3,\n",
    "    'legend.fontsize' : 20,\n",
    "    'legend.frameon' : False,\n",
    "    'legend.numpoints': 1,\n",
    "    'xtick.labelsize' : 20,\n",
    "    'ytick.labelsize' : 20,\n",
    "    'figure.figsize': [12,8],\n",
    "    'axes.labelsize' : 20\n",
    "}\n",
    "mpl.rcParams.update(params)"
   ]
  },
  {
   "cell_type": "markdown",
   "metadata": {},
   "source": [
    "# Simulation Parameters"
   ]
  },
  {
   "cell_type": "markdown",
   "metadata": {},
   "source": [
    "## Function definitions"
   ]
  },
  {
   "cell_type": "code",
   "execution_count": 3,
   "metadata": {},
   "outputs": [],
   "source": [
    "def critical_density_si(lambda_laser):\n",
    "    \"\"\" Critical electron number density at which an \n",
    "        incident light wave is reflected from a surface.\n",
    "        Units [1/m^3]\n",
    "    \"\"\"\n",
    "    return (sc.epsilon_0*sc.m_e/sc.e**2)*(2.*pi*sc.c/lambda_laser)**2\n",
    "\n",
    "def critical_density(lambda_laser):\n",
    "    \"\"\" Critical electron number density in [1/cm^3]\n",
    "    \"\"\"\n",
    "    return critical_density_si(lambda_laser)*1.e-6\n",
    "\n",
    "def plasma_angular_frequency(n_e):\n",
    "    \"\"\" \n",
    "    \"\"\"\n",
    "    return sqrt( n_e * sc.e**2 / ( sc.epsilon_0 * sc.m_e ) )\n",
    "\n",
    "def plasma_oscillation_length(n_e):\n",
    "    \"\"\" Assuming the driver propagates at the speed of light\n",
    "    \"\"\"\n",
    "    omega_p = plasma_angular_frequency(n_e)\n",
    "    return 2.*sc.pi*sc.c/omega_p\n",
    "\n",
    "def debye_length(n_e, T , Z):\n",
    "    \"\"\" electron temperature [T] = eV\n",
    "        electron density [n_e] = cm^-3\n",
    "    \"\"\"\n",
    "    return 743.*sqrt(T/(1.+Z)/n_e)  # sqrt(epsilon_0*k_B*T/n_e/e_charge**2/(1.+Z))"
   ]
  },
  {
   "cell_type": "markdown",
   "metadata": {},
   "source": [
    "## Laser parameters"
   ]
  },
  {
   "cell_type": "markdown",
   "metadata": {},
   "source": [
    "```c++\n",
    "twtsFieldE1(\n",
    "    /* focus_y [m], the distance to the laser focus in y-direction */\n",
    "    30.0e-6,\n",
    "    /* wavelength [m] */\n",
    "    0.8e-6,\n",
    "    /* pulselength [s], sigma of std. gauss for intensity (E^2) */\n",
    "    10.0e-15 / 2.3548200450309493820231386529194,\n",
    "    /* w_x [m], cylindrically focused spot size */\n",
    "    1.2e-6,\n",
    "    /* w_y [m] */\n",
    "    0.1,\n",
    "    /* interaction angle between TWTS laser propagation vector and the y-axis [rad] */\n",
    "    3.5 * (PI/180.),\n",
    "    /* propagation speed of overlap [speed of light]. */\n",
    "    1.0,\n",
    "    /* manual time delay [s] if auto_tdelay is false */\n",
    "    50.0e-6 / SI::SPEED_OF_LIGHT_SI,\n",
    "    /* Should PIConGPU automatically choose a suitable time delay? [true/false] */\n",
    "    false,\n",
    "    /* Polarization of TWTS laser field */\n",
    "    templates::twts::EField::LINEAR_X\n",
    "),\n",
    "```"
   ]
  },
  {
   "cell_type": "markdown",
   "metadata": {},
   "source": [
    "```c++\n",
    "/** Specify your background field E(r,t) here\n",
    "*\n",
    "* \\param cellIdx The total cell id counted from the start at t=0\n",
    "* \\param currentStep The current time step */\n",
    "HDINLINE float3_X\n",
    "operator()( const DataSpace<simDim>& cellIdx,\n",
    "        const uint32_t currentStep ) const\n",
    "{\n",
    "    \n",
    "    //\n",
    "    // Calculation of amplitude\n",
    "    //\n",
    "\n",
    "    /* Note: twtsFieldE(...) is normalized, such that peak amplitude equals unity. */\n",
    "    return    float3_X::create(0.7057829460593135) * amplitude * twtsFieldE1( cellIdx, currentStep )\n",
    "            - float3_X::create(0.7057829460593135) * amplitude * twtsFieldE2( cellIdx, currentStep )\n",
    "            + float3_X::create(0.7084281424758874) * amplitude * twtsFieldE3( cellIdx, currentStep )\n",
    "            + float3_X::create(0.7084281424758874) * amplitude * twtsFieldE4( cellIdx, currentStep );\n",
    "}\n",
    "```"
   ]
  },
  {
   "cell_type": "code",
   "execution_count": 4,
   "metadata": {},
   "outputs": [
    {
     "name": "stdout",
     "output_type": "stream",
     "text": [
      "Laser period = 2.7e-15s\n",
      "ϕ = 3.5deg\n",
      "w_0 = 5.50 µm\n",
      "z_r = 118.79 µm\n"
     ]
    }
   ],
   "source": [
    "# LASER\n",
    "\n",
    "## Change w_0x to Rayleighlength >~ Plasma oscillation length\n",
    "## Change pulse duration to tau_FWHM,I = 30fs -> sigma_t,E = tau_FWHM,I / sqrt(2. * log(2.)) / sqrt(2)\n",
    "## sigma_t,E = tau_FWHM,I / 1.6651 = 18.0168\n",
    "## lower a0 to just enter the bubble regime\n",
    "\n",
    "λ_0 = 800e-9 # laser wavelength\n",
    "print(\"Laser period = %.1es\"%(λ_0/sc.c))\n",
    "\n",
    "ϕ = 3.5 * sc.pi / 180.\n",
    "print(\"ϕ = %.1fdeg\"%(ϕ*180./pi))\n",
    "\n",
    "# beam waist in focus\n",
    "w_0x = 5.5e-6\n",
    "print(\"w_0 = {:.2f} µm\".format(w_0x * 1e6))\n",
    "\n",
    "# Rayleigh length\n",
    "z_r = 1 * np.pi * w_0x**2 / λ_0\n",
    "print(\"z_r = {:.2f} µm\".format(z_r * 1e6))"
   ]
  },
  {
   "cell_type": "code",
   "execution_count": 5,
   "metadata": {},
   "outputs": [
    {
     "name": "stdout",
     "output_type": "stream",
     "text": [
      "critical e density for λ_Laser = 1.7e+27/m^3\n",
      "plasma frequency at critical density = 2.4e+15rad/s\n",
      "plasma period at critical density = 2.7e-15s (= laser period)\n"
     ]
    }
   ],
   "source": [
    "n_c = critical_density(λ_0)*1.e6\n",
    "print(\"critical e density for λ_Laser = %.1e/m^3\"%(n_c))\n",
    "print(\"plasma frequency at critical density = %.1erad/s\"%(plasma_angular_frequency(n_c)))\n",
    "print(\"plasma period at critical density = %.1es (= laser period)\"%(2.*sc.pi/plasma_angular_frequency(n_c)))"
   ]
  },
  {
   "cell_type": "markdown",
   "metadata": {},
   "source": [
    "## Plasma parameters"
   ]
  },
  {
   "cell_type": "code",
   "execution_count": 6,
   "metadata": {},
   "outputs": [],
   "source": [
    "BASE_DENSITY_SI = 0.8e+23 #0.25e+25 #0.8e+23 # unit: ELEMENTS/m^3\n",
    "PLATEAU_DENSITY_SI = 2. * BASE_DENSITY_SI"
   ]
  },
  {
   "cell_type": "code",
   "execution_count": 7,
   "metadata": {},
   "outputs": [
    {
     "name": "stdout",
     "output_type": "stream",
     "text": [
      "plasma frequency at plateau density = 2.3e+13rad/s\n",
      "plasma period at plateau density = 2.8e-13s\n",
      "plasma oscillation length at plateau density = 83.5mum\n",
      "plasma skin depth = 13.3mum\n"
     ]
    }
   ],
   "source": [
    "PLASMA_FREQUENCY_SI = plasma_angular_frequency(PLATEAU_DENSITY_SI)\n",
    "print(\"plasma frequency at plateau density = %.1erad/s\"%(PLASMA_FREQUENCY_SI))\n",
    "print(\"plasma period at plateau density = %.1es\"%(2.*sc.pi/PLASMA_FREQUENCY_SI))\n",
    "λ_plasma = plasma_oscillation_length(PLATEAU_DENSITY_SI)\n",
    "print(\"plasma oscillation length at plateau density = %.1fmum\"%(λ_plasma*1.e6))\n",
    "print(\"plasma skin depth = %.1fmum\"%(sc.c/PLASMA_FREQUENCY_SI*1.e6))"
   ]
  },
  {
   "cell_type": "code",
   "execution_count": 8,
   "metadata": {},
   "outputs": [
    {
     "name": "stdout",
     "output_type": "stream",
     "text": [
      "plasma frequency at base density = 1.6e+13rad/s\n",
      "plasma oscillation length at base density = 118.0mum\n"
     ]
    }
   ],
   "source": [
    "λ_plasma_base = plasma_oscillation_length(BASE_DENSITY_SI)\n",
    "print(\"plasma frequency at base density = %.1erad/s\"%(plasma_angular_frequency(BASE_DENSITY_SI)))\n",
    "print(\"plasma oscillation length at base density = %.1fmum\"%(λ_plasma_base*1.e6))"
   ]
  },
  {
   "cell_type": "code",
   "execution_count": 9,
   "metadata": {},
   "outputs": [
    {
     "name": "stdout",
     "output_type": "stream",
     "text": [
      "Rayleighlength / plasma oscillation length = 1.4231026107584621\n",
      "Rayleighlength / base plasma oscillation length = 1.0062855063915883\n"
     ]
    }
   ],
   "source": [
    "print(\"Rayleighlength / plasma oscillation length =\", z_r / λ_plasma)\n",
    "print(\"Rayleighlength / base plasma oscillation length =\", z_r / λ_plasma_base)"
   ]
  },
  {
   "cell_type": "markdown",
   "metadata": {},
   "source": [
    "## Mesh parameters"
   ]
  },
  {
   "cell_type": "code",
   "execution_count": 162,
   "metadata": {},
   "outputs": [
    {
     "name": "stdout",
     "output_type": "stream",
     "text": [
      "λ_plasma = 21.11733μm\n",
      "λ_plasma / dx = 1256.1863328444522\n",
      "λ_Laser / dy = 20.85239372447211\n",
      "λ_plasma / dz = 2175.7799920634184\n",
      "x Ausdehnung 74.424 μm = 3.524308940864691 λ_plasma = 13.531636363636364 w_0x\n",
      "y Ausdehnung 88.39272960000001 μm = 4.1857907024174335 λ_plasma\n",
      "z Ausdehnung 235.71394560000002 μm = 11.162108539779823 λ_plasma = 1.9842665572461022 z_r\n"
     ]
    }
   ],
   "source": [
    "dx_old = 0.6645e-7\n",
    "dy_old = 0.383649e-7\n",
    "dz_old = dy_old\n",
    "\n",
    "n_e_old = 0.25e25 # unit: ELEMENTS/m^3\n",
    "λ_plasma_old = plasma_oscillation_length(n_e_old)\n",
    "\n",
    "print(\"λ_plasma = %.5fμm\"%(λ_plasma_old*1.e6))\n",
    "\n",
    "Lx_old = dx_old*1120\n",
    "Ly_old = dy_old*2304\n",
    "Lz_old = dz_old*6144\n",
    "print(\"λ_plasma / dx =\", λ_plasma / dx_old )\n",
    "print(\"λ_Laser / dy =\", λ_0 / dy_old )\n",
    "print(\"λ_plasma / dz =\", λ_plasma / dz_old )\n",
    "print(\"x Ausdehnung\", Lx_old*1.e6, \"μm =\", Lx_old / λ_plasma_old, \"λ_plasma =\", Lx_old / w_0x, \"w_0x\")\n",
    "print(\"y Ausdehnung\", Ly_old*1.e6, \"μm =\", Ly_old / λ_plasma_old, \"λ_plasma\")\n",
    "print(\"z Ausdehnung\", Lz_old*1.e6, \"μm =\", Lz_old / λ_plasma_old, \"λ_plasma =\", Lz_old / z_r, \"z_r\")"
   ]
  },
  {
   "cell_type": "code",
   "execution_count": 10,
   "metadata": {},
   "outputs": [
    {
     "name": "stdout",
     "output_type": "stream",
     "text": [
      "box length in y: 944.40 µm\n",
      "box length in z: 1781.87 µm = 21.35 λ_plasma\n",
      "w_init = 41.62 µm\n",
      "π * w_init = 130.74 µm\n",
      "box length in x: 240.00 µm\n"
     ]
    }
   ],
   "source": [
    "# box length in y direction, from experience with Piz Daint simulation\n",
    "L_y = 8. * λ_plasma_base\n",
    "print(\"box length in y: {:.2f} µm\".format(L_y * 1e6))\n",
    "\n",
    "# box length in z direction, from experience with Piz Daint simulation (the laser pulse is not bounded in z-direction)\n",
    "L_z = 15. * z_r\n",
    "print(\"box length in z: %.2f µm = %.2f λ_plasma\"%(L_z * 1e6, L_z / λ_plasma))\n",
    "\n",
    "# box length in x direction,\n",
    "# from the typical criterion for 99% of beam power: pi * w for transversal size\n",
    "# should fit into the simulation in order to properly model the propagation of the focusing field.\n",
    "w_init = w_0x * np.sqrt(1 + (.5*L_z / z_r)**2)\n",
    "print(\"w_init = {:.2f} µm\".format(w_init * 1e6))\n",
    "print(r\"π * w_init = {:.2f} µm\".format(np.pi * w_init * 1e6))\n",
    "\n",
    "# take even more than maybe required from defocusing, also fit two plasma wavelength in the x-direction\n",
    "L_x = 240.e-6 # m\n",
    "print(\"box length in x: {:.2f} µm\".format(L_x * 1e6))"
   ]
  },
  {
   "cell_type": "markdown",
   "metadata": {},
   "source": [
    "### Strict constraints"
   ]
  },
  {
   "cell_type": "markdown",
   "metadata": {},
   "source": [
    "#### Transverse and longitudinal sampling"
   ]
  },
  {
   "cell_type": "code",
   "execution_count": 11,
   "metadata": {},
   "outputs": [
    {
     "name": "stdout",
     "output_type": "stream",
     "text": [
      "Transverse laser oscillation length / plasma oscillation length = 0.000585081298352031\n"
     ]
    }
   ],
   "source": [
    "## If the projected laser period in the transverse direction is longer than the plasma oscillation length,\n",
    "## I choose a cell size with equal length in x and z direction.\n",
    "print(\"Transverse laser oscillation length / plasma oscillation length =\", λ_0 * sin(ϕ) / λ_plasma)"
   ]
  },
  {
   "cell_type": "markdown",
   "metadata": {},
   "source": [
    "<span style=\"color:red;font-size:xlarge;font-face:bold\">Vergleiche für Z-Auflösung besser den Fehler der numerischen Group velocity während der propagation durch das Gas (L_cyc/sin(phi)) relativ zur Plasmawellenlaenge und halte es im Promillebereich!</span>\n",
    "\n",
    "Die numerische Gruppengeschwindigkeit ist gegeben aus der Ableitung der numerischen Phasengeschwindigkeit.\n",
    "Die numerische Phasengeschwindigkeit wird ermittelt aus der Dispersionsrelation (4.12) im Taflove\n",
    "$$\n",
    "  \\left [\\frac{1}{c\\Delta t}\\sin\\left( \\frac{\\omega \\Delta t}{2} \\right) \\right]^2 =\n",
    "      \\left [\\frac{1}{\\Delta x}\\sin\\left( \\frac{k_x \\Delta x}{2} \\right) \\right]^2\n",
    "      + \\left [\\frac{1}{\\Delta y}\\sin\\left( \\frac{k_y \\Delta y}{2} \\right) \\right]^2\n",
    "      + \\left [\\frac{1}{\\Delta z}\\sin\\left( \\frac{k_z \\Delta z}{2} \\right) \\right]^2\n",
    "$$\n",
    "in dem diese nach $\\omega$ aufgelöst wird und \n",
    "$$\n",
    "  v_\\mathrm{phase} = \\frac{\\omega}{k}\\,.\n",
    "$$\n",
    "Die Gruppengeschwindigkeit ist definiert als\n",
    "$$\n",
    "  v_\\mathrm{group} = \\frac{\\partial \\omega}{\\partial k}\\,.\n",
    "$$\n",
    "Es gilt\n",
    "$$\n",
    "  \\frac{\\partial}{\\partial k} \\left[ \\frac{1}{c\\Delta t} \\sin\\left( \\frac{\\omega \\Delta t}{2} \\right) \\right]^2\n",
    "  = \\frac{1}{c^2\\Delta t^2} 2 \\sin\\left( \\frac{\\omega \\Delta t}{2} \\right)\n",
    "    \\cos\\left( \\frac{\\omega \\Delta t}{2} \\right)\n",
    "    \\frac{\\Delta t}{2} \\frac{\\partial \\omega}{\\partial k}\n",
    "$$\n",
    "Deswegen\n",
    "$$\n",
    "  \\frac{\\partial \\omega}{\\partial k} =\n",
    "  \\frac{c^2\\Delta t^2}{ 2 \\sin\\left( \\frac{\\omega \\Delta t}{2} \\right)\n",
    "    \\cos\\left( \\frac{\\omega \\Delta t}{2} \\right)\n",
    "    \\frac{\\Delta t}{2}}\n",
    "  \\frac{\\partial}{\\partial k} \\left[ \\frac{1}{c\\Delta t} \\sin\\left( \\frac{\\omega \\Delta t}{2} \\right) \\right]^2\n",
    "$$\n",
    "\n",
    "$$\n",
    "  \\frac{\\partial \\omega}{\\partial k} =\n",
    "  \\frac{c^2\\Delta t}{ \\sin\\left( \\frac{\\omega \\Delta t}{2} \\right)\n",
    "    \\cos\\left( \\frac{\\omega \\Delta t}{2} \\right)\n",
    "    }\n",
    "  \\frac{\\partial}{\\partial k} \\left[ \\frac{1}{c\\Delta t} \\sin\\left( \\frac{\\omega \\Delta t}{2} \\right) \\right]^2\n",
    "$$\n",
    "\n",
    "Dort die rechte Seite der Dispersionsrelation einsetzen und für die karthesischen $k_i$ diese Darstellung für $k$ einsetzen\n",
    "\n",
    "$$\n",
    "  (k_x, k_y, k_z) = k ( \\sin\\vartheta \\cos\\varphi, \\sin\\vartheta \\sin\\varphi, \\cos\\vartheta)\n",
    "$$\n",
    "\n",
    "und ableiten.\n",
    "\n",
    "Für unsere Propagation in der $y$-$z$-Ebene entlang einer Richtung die einen Winkel von $3.5^\\circ$ mit der $y$-Achse einschliesst ist $\\varphi = 90^\\circ$ und $\\vartheta = 86.5^\\circ$.\n",
    "\n",
    "Nutze ausserdem die Relationen \n",
    "$$\n",
    "  S = c\\Delta t \\sqrt{\\frac{1}{\\Delta x^2}\n",
    "                      + \\frac{1}{\\Delta y^2}\n",
    "                      + \\frac{1}{\\Delta z^2}}\n",
    "    =: \\frac{c \\Delta t}{\\Delta}\n",
    "  \\qquad \\text{Courant stabilty factor (Taflove (4.98))}\\,,\n",
    "$$\n",
    "$$\n",
    "  \\omega \\Delta t = \\frac{2\\pi c \\Delta t}{\\lambda} \n",
    "  = \\frac{2 \\pi S}{\\lambda \\sqrt{\\frac{1}{\\Delta x^2} + \\frac{1}{\\Delta y^2} + \\frac{1}{\\Delta z^2}} }\n",
    "  = 2 \\pi S \\frac{\\Delta}{\\lambda}\\,.\n",
    "$$"
   ]
  },
  {
   "cell_type": "markdown",
   "metadata": {},
   "source": [
    "$$\n",
    "\\sin\\left( \\frac{\\omega \\Delta t}{2} \\right) =\n",
    "      c\\Delta t\n",
    "      \\sqrt{\n",
    "      \\left [\\frac{1}{\\Delta x}\\sin\\left( \\frac{k_x \\Delta x}{2} \\right) \\right]^2\n",
    "      + \\left [\\frac{1}{\\Delta y}\\sin\\left( \\frac{k_y \\Delta y}{2} \\right) \\right]^2\n",
    "      + \\left [\\frac{1}{\\Delta z}\\sin\\left( \\frac{k_z \\Delta z}{2} \\right) \\right]^2\n",
    "      }\n",
    "$$\n",
    "$$\n",
    "\\frac{\\omega \\Delta t}{2} =\n",
    "      \\mathrm{Arcsin}\\left(\n",
    "      c\\Delta t\n",
    "      \\sqrt{\n",
    "      \\left [\\frac{1}{\\Delta x}\\sin\\left( \\frac{k_x \\Delta x}{2} \\right) \\right]^2\n",
    "      + \\left [\\frac{1}{\\Delta y}\\sin\\left( \\frac{k_y \\Delta y}{2} \\right) \\right]^2\n",
    "      + \\left [\\frac{1}{\\Delta z}\\sin\\left( \\frac{k_z \\Delta z}{2} \\right) \\right]^2\n",
    "      }\n",
    "      \\right)\n",
    "$$\n",
    "$$\n",
    "\\omega =\n",
    "      \\frac{2}{\\Delta t}\n",
    "      \\mathrm{Arcsin}\\left(\n",
    "      c\\Delta t\n",
    "      \\sqrt{\n",
    "      \\left [\\frac{1}{\\Delta x}\\sin\\left( \\frac{k_x \\Delta x}{2} \\right) \\right]^2\n",
    "      + \\left [\\frac{1}{\\Delta y}\\sin\\left( \\frac{k_y \\Delta y}{2} \\right) \\right]^2\n",
    "      + \\left [\\frac{1}{\\Delta z}\\sin\\left( \\frac{k_z \\Delta z}{2} \\right) \\right]^2\n",
    "      }\n",
    "      \\right)\n",
    "$$\n",
    "\n",
    "Das Ding kann man auch ableiten. Dann unseren Dall mit $k_x = 0$ und $k=2\\pi/\\lambda_\\mathrm{Laser}$ einsetzen und eine interessante Größe in Abhängigkeit von $\\Delta z$ auftragen und dann ein passendes $\\Delta z$ bestimmen.\n",
    "\n",
    "Dann noch mit der CFL Bedingung das $\\Delta x$ ausrechnen und schauen ob es die Plasmawellenlänge gut auflöst. Oder $\\Delta x$ auch noch vorgeben und mit CFL den Zeitschritt ausrechnen."
   ]
  },
  {
   "cell_type": "markdown",
   "metadata": {},
   "source": [
    "$$\n",
    "  \\frac{\\partial \\omega}{\\partial k} =\n",
    "  \\frac{c S \\Delta}{ \\sin\\left( \\pi S \\frac{\\Delta}{\\lambda} \\right)\n",
    "    \\cos\\left( \\pi S \\frac{\\Delta}{\\lambda} \\right)\n",
    "    }\n",
    "  \\left[ \\frac{1}{\\Delta x} \\sin\\left( \\pi \\sin\\vartheta \\cos\\varphi \\frac{\\Delta x}{\\lambda} \\right)\n",
    "           \\cos\\left( \\pi \\sin\\vartheta \\cos\\varphi \\frac{\\Delta x}{\\lambda} \\right)\n",
    "           \\sin\\vartheta \\cos\\varphi\n",
    "         + \\frac{1}{\\Delta y} \\sin\\left( \\pi \\sin\\vartheta \\sin\\varphi \\frac{\\Delta y}{\\lambda} \\right)\n",
    "           \\cos\\left( \\pi \\sin\\vartheta \\sin\\varphi \\frac{\\Delta y}{\\lambda} \\right)\n",
    "           \\sin\\vartheta \\sin\\varphi\n",
    "         + \\frac{1}{\\Delta z} \\sin\\left( \\pi \\cos\\vartheta \\frac{\\Delta z}{\\lambda} \\right)\n",
    "           \\cos\\left( \\pi \\cos\\vartheta \\frac{\\Delta z}{\\lambda} \\right)\n",
    "           \\cos\\vartheta\n",
    "  \\right]\n",
    "$$"
   ]
  },
  {
   "cell_type": "code",
   "execution_count": 12,
   "metadata": {},
   "outputs": [],
   "source": [
    "def Delta(Dx, Dy, Dz):\n",
    "    return 1./np.sqrt(1./Dx**2 + 1./Dy**2 + 1./Dz**2)\n",
    "\n",
    "\n",
    "def v_g(wavel, theta, phi, Dx, Dy, Dz, S):\n",
    "    Dd = Delta(Dx, Dy, Dz)\n",
    "    omega_dt_2 = sc.pi * S * Dd / wavel\n",
    "    \n",
    "    arg_ekx = np.sin(theta) * np.cos(phi)\n",
    "    arg_x = sc.pi * arg_ekx * Dx / wavel\n",
    "    \n",
    "    arg_eky = np.sin(theta) * np.sin(phi)\n",
    "    arg_y = sc.pi * arg_eky * Dy / wavel\n",
    "    \n",
    "    arg_ekz = np.cos(theta)\n",
    "    arg_z = sc.pi * arg_ekz * Dz / wavel\n",
    "    \n",
    "    return ( sc.c * S * Dd / ( np.sin(omega_dt_2) * np.cos(omega_dt_2) ) \n",
    "             * ( np.sin(arg_x) * np.cos(arg_x) * arg_ekx / Dx\n",
    "                 + np.sin(arg_y) * np.cos(arg_y) * arg_eky / Dy\n",
    "                 + np.sin(arg_z) * np.cos(arg_z) * arg_ekz / Dz\n",
    "               )\n",
    "           )\n",
    "\n",
    "\n",
    "#def v_g_phys(λ, a_0, n_e):\n",
    "#    ''' Aus Esarey RoMP 2009 (?)\n",
    "#    '''\n",
    "#    ω_p = plasma_angular_frequency(n_e)\n",
    "#    ω = 2.*sc.pi*sc.c/λ\n",
    "#    γ_g = ω / ω_p\n",
    "#    return np.sqrt( 1. - 1./γ_g**2 ) * sc.c"
   ]
  },
  {
   "cell_type": "code",
   "execution_count": 13,
   "metadata": {},
   "outputs": [
    {
     "name": "stdout",
     "output_type": "stream",
     "text": [
      "dy = 2.00000e-08 m\n",
      "sanity check: longitudinal samples per laser wavelength λ_laser: 40.00\n"
     ]
    }
   ],
   "source": [
    "## The cell length in the longitudinal direction is given by the laser wavelength\n",
    "dy_strict = λ_0 / 40.\n",
    "print(\"dy = {:.5e} m\".format(dy_strict))\n",
    "print(\"sanity check: longitudinal samples per laser wavelength λ_laser: %.2f\"%(λ_0/dy_strict))"
   ]
  },
  {
   "cell_type": "code",
   "execution_count": 14,
   "metadata": {},
   "outputs": [
    {
     "name": "stdout",
     "output_type": "stream",
     "text": [
      "dx = 1.60000e-07m\n",
      "Samples per plasma oscillation length λ_p = 2πc/ω_p: 521.71\n"
     ]
    }
   ],
   "source": [
    "## The cell length in the transverse directions is given by Courant-Friedrich-Levy condition (eq. (4.98) in Taflove)\n",
    "## and needs to be much smaller than the plasma oscillation length.\n",
    "## A large aspect ratio is also not good since we will end up with a lot of particles per cell in the region\n",
    "## of the accelerated bunch.\n",
    "## Furthermore, in the sheeth region of the bubble we expect very high density, maybe 1-2 orders of magnitude higher\n",
    "## than in the base density, and we do not want to model this region completely incorrect.\n",
    "## Therefore we assume a maximum factor for the aspect ratio.\n",
    "dx_strict = 8. * dy_strict #λ_plasma / 80.\n",
    "print(\"dx = %.5em\"%(dx_strict))\n",
    "print(\"Samples per plasma oscillation length λ_p = 2πc/ω_p: %.2f\"%(λ_plasma/dx_strict))"
   ]
  },
  {
   "cell_type": "code",
   "execution_count": 15,
   "metadata": {},
   "outputs": [
    {
     "name": "stdout",
     "output_type": "stream",
     "text": [
      "ϕ = 3.5deg\n",
      "theta = 86.5deg\n",
      "phi = 90.0deg\n"
     ]
    }
   ],
   "source": [
    "## Define Courant factor S and laser strength a_0 for Dz determination\n",
    "S = 0.995\n",
    "print(\"ϕ = %.1fdeg\"%(ϕ*180./pi))\n",
    "theta = .5 * sc.pi - ϕ\n",
    "print(\"theta = %.1fdeg\"%(theta*180./pi))\n",
    "phi = .5 * sc.pi\n",
    "print(\"phi = %.1fdeg\"%(phi*180./pi))\n",
    "a_0 = 3.0\n",
    "\n",
    "dz = np.linspace(dy_strict, 5.*dx_strict, 500)"
   ]
  },
  {
   "cell_type": "code",
   "execution_count": 16,
   "metadata": {},
   "outputs": [
    {
     "name": "stdout",
     "output_type": "stream",
     "text": [
      "dz[0] / dy = 1.0\n",
      "numerical group velocity v_g / c = 0.99793771\n",
      "physical group velocity error Δv_g / c = -0.00206229\n"
     ]
    }
   ],
   "source": [
    "print(\"dz[0] / dy =\", dz[0] / dy_strict)\n",
    "print(\"numerical group velocity v_g / c = %.8f\"%(v_g(λ_0, theta, phi, dx_strict, dy_strict, dz[0], S)/sc.c))\n",
    "print(\"physical group velocity error Δv_g / c = %.8f\"%(v_g(λ_0, theta, phi, dx_strict, dy_strict, dz[0], S)/sc.c - 1.))"
   ]
  },
  {
   "cell_type": "code",
   "execution_count": 17,
   "metadata": {},
   "outputs": [
    {
     "data": {
      "image/png": "[encoded data removed]",
      "text/plain": [
       "<Figure size 1152x864 with 1 Axes>"
      ]
     },
     "metadata": {
      "needs_background": "light"
     },
     "output_type": "display_data"
    }
   ],
   "source": [
    "ΔT_prop = L_z / np.sin(ϕ) * ( 1./v_g(λ_0, theta, phi, dx_strict, dy_strict, dz, S) - 1./sc.c)\n",
    "T_plasma = 2.*sc.pi/PLASMA_FREQUENCY_SI\n",
    "\n",
    "figure(figsize=(16,12))\n",
    "\n",
    "plot(dz/dy_strict, ΔT_prop / T_plasma)\n",
    "\n",
    "xlabel(\"Δz [Δy]\")\n",
    "ylabel(\"ΔT_prop / T_plasma\")\n",
    "\n",
    "#xticks(np.arange(0., dz[-1] / dy_strict, 2))\n",
    "\n",
    "#xlim(0,50)\n",
    "\n",
    "grid()\n",
    "\n",
    "show()"
   ]
  },
  {
   "cell_type": "markdown",
   "metadata": {},
   "source": [
    "There is a minimum in the physical group-velocity error $\\Delta v_\\mathrm{g}$!"
   ]
  },
  {
   "cell_type": "code",
   "execution_count": 18,
   "metadata": {},
   "outputs": [
    {
     "name": "stdout",
     "output_type": "stream",
     "text": [
      "Minimum at 194: Dz = 16 Dy\n"
     ]
    }
   ],
   "source": [
    "dz_min = np.argmin(ΔT_prop / T_plasma)\n",
    "print(\"Minimum at %i: Dz = %i Dy\"%(dz_min, dz[dz_min]/dy_strict))"
   ]
  },
  {
   "cell_type": "code",
   "execution_count": 19,
   "metadata": {},
   "outputs": [],
   "source": [
    "## Choose dz to have the numerical group velocity error at a minimum\n",
    "dz_strict = 8.*dy_strict"
   ]
  },
  {
   "cell_type": "markdown",
   "metadata": {},
   "source": [
    "#### Temporal sampling"
   ]
  },
  {
   "cell_type": "code",
   "execution_count": 20,
   "metadata": {},
   "outputs": [],
   "source": [
    "## Calculate the time sampling from the CFL condition\n",
    "dt_strict = S * Delta(dx_strict, dy_strict, dz_strict) / sc.c"
   ]
  },
  {
   "cell_type": "code",
   "execution_count": 21,
   "metadata": {},
   "outputs": [
    {
     "name": "stdout",
     "output_type": "stream",
     "text": [
      "sanity check: temporal samples per laser period λ_Laser / c Δt = 40.82431359113547\n",
      "sanity check: Δy / c Δt = 1.0206078397783866\n",
      "sanity check CFL condition: c Δt = 1.9596165363909774e-08 < 1.969463855669324e-08 !?\n"
     ]
    }
   ],
   "source": [
    "print(\"sanity check: temporal samples per laser period λ_Laser / c Δt =\", λ_0 / sc.c / dt_strict)\n",
    "print(\"sanity check: Δy / c Δt =\", dy_strict / sc.c / dt_strict)\n",
    "print(\"sanity check CFL condition: c Δt =\", sc.c * dt_strict, \"<\", 1./sqrt( 1./dx_strict**2 + 1./dy_strict**2 + 1./dz_strict**2 ), \"!?\")"
   ]
  },
  {
   "cell_type": "code",
   "execution_count": 22,
   "metadata": {},
   "outputs": [
    {
     "name": "stdout",
     "output_type": "stream",
     "text": [
      "Summary of sampling parameters\n",
      "==============================\n",
      "dt = 6.53658e-17s = 0.024 T_Laser = 2.3e-04 T_Plasma\n",
      "dx = 1.60000e-07m = 0.200 λ_Laser = 1.4e-03 λ_Plasma\n",
      "dy = 2.00000e-08m = 0.025 λ_Laser = 1.7e-04 λ_Plasma\n",
      "dz = 1.60000e-07m = 0.200 λ_Laser = 1.4e-03 λ_Plasma\n"
     ]
    }
   ],
   "source": [
    "print(\"Summary of sampling parameters\")\n",
    "print(\"==============================\")\n",
    "print(\"dt = %.5es = %.3f T_Laser = %.1e T_Plasma\"%(dt_strict, dt_strict/(λ_0 / sc.c), dt_strict/(2. * sc.pi / PLASMA_FREQUENCY_SI)))\n",
    "print(\"dx = %.5em = %.3f λ_Laser = %.1e λ_Plasma\"%(dx_strict, dx_strict/λ_0, dx_strict/λ_plasma_base))\n",
    "print(\"dy = %.5em = %.3f λ_Laser = %.1e λ_Plasma\"%(dy_strict, dy_strict/λ_0, dy_strict/λ_plasma_base))\n",
    "print(\"dz = %.5em = %.3f λ_Laser = %.1e λ_Plasma\"%(dz_strict, dz_strict/λ_0, dz_strict/λ_plasma_base))"
   ]
  },
  {
   "cell_type": "code",
   "execution_count": 23,
   "metadata": {},
   "outputs": [
    {
     "name": "stdout",
     "output_type": "stream",
     "text": [
      "Typical particles per cell = 40.96\n"
     ]
    }
   ],
   "source": [
    "print(\"Typical particles per cell =\", BASE_DENSITY_SI * dx_strict * dy_strict * dz_strict)"
   ]
  },
  {
   "cell_type": "markdown",
   "metadata": {},
   "source": [
    "### Simulation window volume"
   ]
  },
  {
   "cell_type": "code",
   "execution_count": 24,
   "metadata": {},
   "outputs": [
    {
     "name": "stdout",
     "output_type": "stream",
     "text": [
      "box L_x:  1500\n",
      "box L_y:  47219\n",
      "box L_z:  11136\n",
      "Ratio of box dimensions [cells] : x : y : z = 1.0 : 31.5 : 7.4\n"
     ]
    }
   ],
   "source": [
    "box_cells_x_raw = np.int(L_x / dx_strict)\n",
    "print(\"box L_x: \",box_cells_x_raw)\n",
    "box_cells_y_raw = np.int(L_y / dy_strict)\n",
    "print(\"box L_y: \",box_cells_y_raw)\n",
    "box_cells_z_raw = np.int(L_z / dz_strict)\n",
    "print(\"box L_z: \",box_cells_z_raw)\n",
    "\n",
    "cells_norm = box_cells_x_raw\n",
    "print(\"Ratio of box dimensions [cells] : x : y : z = %.1f : %.1f : %.1f\"%(box_cells_x_raw/cells_norm, box_cells_y_raw/cells_norm, box_cells_z_raw/cells_norm))"
   ]
  },
  {
   "cell_type": "markdown",
   "metadata": {},
   "source": [
    "### Calculate the real number of cells in the box\n",
    "\n",
    "Aim for a simulation volume per GPU that has an approximately even number of cells in all directions.\n",
    "\n",
    "Berechne Verhältnis der Boxlängen zueinander und nimm selbes Verhältnis für Verteilung der Grafikkarten."
   ]
  },
  {
   "cell_type": "code",
   "execution_count": 25,
   "metadata": {},
   "outputs": [
    {
     "name": "stdout",
     "output_type": "stream",
     "text": [
      "GPUs raw x : y : z = 4.6 : 147.2 : 36.8\n",
      "total number of gpus raw: 24918.015999999992\n"
     ]
    }
   ],
   "source": [
    "# domain decomposition\n",
    "n_scale = 4.6\n",
    "gpus_x_raw = 1 * n_scale\n",
    "gpus_y_raw = 32 * n_scale\n",
    "gpus_z_raw = 8. * n_scale\n",
    "\n",
    "print(\"GPUs raw x : y : z = %.1f : %.1f : %.1f\"%(gpus_x_raw, gpus_y_raw, gpus_z_raw))\n",
    "print(\"total number of gpus raw:\", gpus_x_raw * gpus_y_raw * gpus_z_raw)"
   ]
  },
  {
   "cell_type": "code",
   "execution_count": 26,
   "metadata": {},
   "outputs": [
    {
     "name": "stdout",
     "output_type": "stream",
     "text": [
      "GPUs x : y : z = 5.0 : 145.0 : 35.0\n",
      "total number of gpus: 25375\n",
      "simulation box size raw = [ 1190.55078898 37477.74513644  8838.64905736]\n",
      "super cells per gpu: [29.76376972 32.30840098 63.13320755]\n"
     ]
    }
   ],
   "source": [
    "# domain decomposition\n",
    "gpus_x = 5 \n",
    "gpus_y = 145\n",
    "gpus_z = 35\n",
    "\n",
    "print(\"GPUs x : y : z = %.1f : %.1f : %.1f\"%(gpus_x, gpus_y, gpus_z))\n",
    "print(\"total number of gpus:\", gpus_x * gpus_y * gpus_z)\n",
    "\n",
    "# super cell\n",
    "super_cell = np.array([8, 8, 4])\n",
    "\n",
    "## box_raw = np.array([box_cells_x_raw, box_cells_y_raw, box_cells_z_raw])\n",
    "## Scale to smaller volume for Summit\n",
    "box_raw = np.array([box_cells_x_raw, box_cells_y_raw, box_cells_z_raw]) / 2**(1./3.)\n",
    "gpu_raw = np.array([box_raw[0] / gpus_x / super_cell[0]\n",
    "                    , box_raw[1] / gpus_y / super_cell[1]\n",
    "                    , box_raw[2] / gpus_z / super_cell[2]])\n",
    "\n",
    "print(\"simulation box size raw =\", box_raw)\n",
    "print(\"super cells per gpu:\", gpu_raw)"
   ]
  },
  {
   "cell_type": "code",
   "execution_count": 27,
   "metadata": {},
   "outputs": [
    {
     "name": "stdout",
     "output_type": "stream",
     "text": [
      "Simulation box size =  [ 1200. 37120.  8820.]\n",
      "box dimesion per gpu (x, y, z) [cells] = (240.0, 256.0, 252.0)\n"
     ]
    }
   ],
   "source": [
    "box_cells_x = 30. * gpus_x * super_cell[0]\n",
    "box_cells_y = 32. * gpus_y * super_cell[1]\n",
    "box_cells_z = 63. * gpus_z * super_cell[2]\n",
    "\n",
    "box = np.array([box_cells_x, box_cells_y, box_cells_z])\n",
    "print(\"Simulation box size = \", box)\n",
    "print(\"box dimesion per gpu (x, y, z) [cells] = (%.1f, %.1f, %.1f)\"%(box_cells_x / gpus_x, box_cells_y / gpus_y, box_cells_z / gpus_z))"
   ]
  },
  {
   "cell_type": "code",
   "execution_count": 168,
   "metadata": {},
   "outputs": [
    {
     "name": "stdout",
     "output_type": "stream",
     "text": [
      "Number of particles = 1.96439e+13\n"
     ]
    }
   ],
   "source": [
    "print(\"Number of particles = %.5e\"%(box[0]*box[1]*box[2]*50))"
   ]
  },
  {
   "cell_type": "markdown",
   "metadata": {},
   "source": [
    "## Estimate memory consumption"
   ]
  },
  {
   "cell_type": "code",
   "execution_count": 150,
   "metadata": {},
   "outputs": [],
   "source": [
    "n_x = np.int(box_cells_x / gpus_x)\n",
    "n_y = np.int(box_cells_y / gpus_y)\n",
    "n_z = np.int(box_cells_z / gpus_z)\n",
    "\n",
    "mc = MemoryCalculator(\n",
    "    n_x=n_x,\n",
    "    n_y=n_y,\n",
    "    n_z=n_z,\n",
    "    precision_bits=32\n",
    ")"
   ]
  },
  {
   "cell_type": "code",
   "execution_count": 151,
   "metadata": {},
   "outputs": [
    {
     "name": "stdout",
     "output_type": "stream",
     "text": [
      "Memory requirement per GPU:\n",
      "+ fields: 791.48 MB\n",
      "+ species:\n",
      "- e: 22886.72 MB\n",
      "+ RNG states: 354.38 MB\n",
      "+ particle calorimeters: 126.56 MB\n",
      "Sum of required GPU memory: 24159.14 MB\n"
     ]
    }
   ],
   "source": [
    "# typical number of particles per cell which is multiplied later for\n",
    "# each species and its relative number of particles\n",
    "N_PPC = 50.\n",
    "\n",
    "print(\"Memory requirement per GPU:\")\n",
    "# field memory per GPU\n",
    "field_gpu = mc.mem_req_by_fields(field_tmp_slots=2,particle_shape_order=4,sim_dim=3)\n",
    "print(\"+ fields: {:.2f} MB\".format(\n",
    "    field_gpu / (1024 * 1024)))\n",
    "# particle memory per GPU - only the target area contributes here\n",
    "e_gpu = mc.mem_req_by_particles(\n",
    "    n_x, n_y, n_z, num_additional_attributes = 0,\n",
    "    particles_per_cell = N_PPC)\n",
    "\n",
    "# memory for calorimeters\n",
    "cal_gpu = mc.mem_req_by_calorimeter(n_energy=1024, n_yaw=180, n_pitch=90\n",
    "                                     )\n",
    "\n",
    "print(\"+ species:\")\n",
    "print(\"- e: {:.2f} MB\".format(e_gpu / (1024 * 1024)))\n",
    "\n",
    "rng_gpu = mc.mem_req_by_rng(n_x, n_y, n_z)\n",
    "print(\"+ RNG states: {:.2f} MB\".format(rng_gpu / (1024 * 1024)))\n",
    "\n",
    "print(\"+ particle calorimeters: {:.2f} MB\".format(cal_gpu / (1024 * 1024)))\n",
    "\n",
    "mem_sum = field_gpu + e_gpu + rng_gpu + cal_gpu\n",
    "print(\"Sum of required GPU memory: {:.2f} MB\".format(mem_sum / (1024 * 1024)))"
   ]
  },
  {
   "cell_type": "markdown",
   "metadata": {},
   "source": [
    "**Available clusters**\n",
    "\n",
    "* taurus: *gpu2* partition: 256 x Tesla **k80 with 11441MiB memory**\n",
    "* taurus: *ml* partition: 132 x Tesla **V100 with 32256MiB memory**\n",
    "* Summit: ** partition: 27648 Nvidia Tesla **V100 with 32256MiB memory** (4608 nodes, in total 9216 IBM POWER9 CPUs and 27648 Nvidia Tesla GPUs)"
   ]
  },
  {
   "cell_type": "markdown",
   "metadata": {},
   "source": [
    "## Gas profiles"
   ]
  },
  {
   "cell_type": "code",
   "execution_count": 152,
   "metadata": {},
   "outputs": [],
   "source": [
    "def richard_density(y, z):\n",
    "    CELL_WIDTH_SI = dx_strict\n",
    "    CELL_HEIGHT_SI = dy_strict\n",
    "    CELL_DEPTH_SI = dz_strict\n",
    "    \n",
    "    VACUUM_Y_SI = 100.0 * CELL_HEIGHT_SI\n",
    "    VACUUM_Z_SI = 148.0 * CELL_DEPTH_SI\n",
    "    Z_GRADIENT_SI = 32.0 * CELL_DEPTH_SI\n",
    "\n",
    "    SIM_BOX_Z = box[2] * CELL_DEPTH_SI # MATCH THIS WITH Z-COMPONENT OF \"TBG_gridsize\" IN CFG_FILE !!!                                                              \n",
    "    \n",
    "    PLASMA_Z_LENGTH_SI = SIM_BOX_Z - 2.0 * VACUUM_Z_SI\n",
    "    \n",
    "    INITIAL_UPRAMP = 0.0e-6 ##change\n",
    "    LOW_DENSITY_PLATEAU = 0.0e-6 ##change\n",
    "    TORCH_UPRAMP = 120.0e-6 ##change\n",
    "    HIGH_DENSITY_PLATEAU = 240.0e-6 ##change\n",
    "    DOWNRAMP_1 = 15.0e-6 ##change\n",
    "    DOWNRAMP_2 = 0.0e-6 ##change\n",
    "    \n",
    "    REL_DENSITY_LOW = 0.0\n",
    "    REL_DENSITY_HIGH = 2.0\n",
    "    REL_DENSITY_MEDIUM = 1.0 #sqrt(2.0)\n",
    "    REL_DENSITY_BASE = 1.0 # always one, use BASE_DENSITY_SI to change base density\n",
    "                           # just here to avoid \"magic\" 1.0s in the code\n",
    "    \n",
    "    REL_DENSITY = REL_DENSITY_BASE\n",
    "    \n",
    "    \n",
    "    # Plot of density profile                                                                  \n",
    "    #\n",
    "    #   density                                                                                  \n",
    "    #\n",
    "    # REL_DENSITY_HIGH   |        ___                                                                              \n",
    "    # REL_DENSITY_MEDIUM |       /   \\                                                                             \n",
    "    # REL_DENSITY_LOW    |    __/     `.                                                                           \n",
    "    # REL_DENSITY_BASE   |   /          `._______                                                                  \n",
    "    #                    |  /                                                                                    \n",
    "    #                    |----------------------------  y                                                       \n",
    "    #                      A B C D E  F  G   H                                                                   \n",
    "    # */\n",
    "    \n",
    "    \n",
    "    # vacuum before gas (A)                                                                    \n",
    "    if ( y < VACUUM_Y_SI ):\n",
    "        return 0.0\n",
    "    if ( z < VACUUM_Z_SI or z >= (PLASMA_Z_LENGTH_SI + VACUUM_Z_SI ) ):\n",
    "        REL_DENSITY = 0.0\n",
    "    if ( z >= VACUUM_Z_SI and z < ( VACUUM_Z_SI + Z_GRADIENT_SI ) ):\n",
    "        REL_DENSITY =  (z - VACUUM_Z_SI ) / Z_GRADIENT_SI\n",
    "    if ( z < ( PLASMA_Z_LENGTH_SI + VACUUM_Z_SI ) and z >= ( PLASMA_Z_LENGTH_SI + VACUUM_Z_SI - Z_GRADIENT_SI ) ):\n",
    "        REL_DENSITY = ( PLASMA_Z_LENGTH_SI + VACUUM_Z_SI - z) / Z_GRADIENT_SI\n",
    "    \n",
    "    # first up-ramp (B)\n",
    "    y_B = VACUUM_Y_SI + INITIAL_UPRAMP\n",
    "    if ( y >= ( VACUUM_Y_SI ) and y < y_B ):\n",
    "        return REL_DENSITY * REL_DENSITY_LOW * ( ( y - VACUUM_Y_SI ) / INITIAL_UPRAMP )\n",
    "    \n",
    "    # first plateau (C)\n",
    "    y_C = y_B + LOW_DENSITY_PLATEAU\n",
    "    if ( y >= y_B and y < y_C ):\n",
    "        return REL_DENSITY * REL_DENSITY_LOW\n",
    "    \n",
    "    # second up-ramp (D)\n",
    "    y_D = y_C + TORCH_UPRAMP\n",
    "    if ( y >= y_C and y < y_D ):\n",
    "        return REL_DENSITY * (REL_DENSITY_HIGH - REL_DENSITY_LOW) * ( ( y - y_C ) / TORCH_UPRAMP ) + REL_DENSITY_LOW\n",
    "    \n",
    "    # second plateau (E)\n",
    "    y_E = y_D + HIGH_DENSITY_PLATEAU\n",
    "    if ( y >= y_D and y < y_E ):\n",
    "        return REL_DENSITY * REL_DENSITY_HIGH\n",
    "    \n",
    "    # first down-ramp (F)\n",
    "    y_F = y_E + DOWNRAMP_1\n",
    "    if ( y >= y_E and y < y_F ):\n",
    "        return REL_DENSITY * (REL_DENSITY_MEDIUM - REL_DENSITY_HIGH) * ( y - y_E ) / DOWNRAMP_1 + REL_DENSITY * REL_DENSITY_HIGH\n",
    "\n",
    "    # second down-ramp (G)\n",
    "    y_G = y_F + DOWNRAMP_2\n",
    "    if ( y >= y_F and y < y_G ):\n",
    "        return REL_DENSITY * ( REL_DENSITY_BASE - REL_DENSITY_MEDIUM ) * ( y - y_F ) / DOWNRAMP_2 + REL_DENSITY * REL_DENSITY_MEDIUM\n",
    "        \n",
    "    # third plateau (H)\n",
    "    if ( y >= y_G):\n",
    "        return REL_DENSITY * REL_DENSITY_BASE # 0.32+e19 cm^-3                                         \n",
    "\n",
    "    return (REL_DENSITY * REL_DENSITY_BASE)"
   ]
  },
  {
   "cell_type": "code",
   "execution_count": 153,
   "metadata": {},
   "outputs": [],
   "source": [
    "def density_from_array(y,z):\n",
    "    \"\"\" since the density profile functions above only work fpr single (y,z)-pairs\n",
    "        this wrapper function allows to calculate the density in a (y,z)-plane from\n",
    "        arrays of y- and z-values.\n",
    "        \n",
    "        NOTE: Adjust the density you want to plot by using the respective function in\n",
    "        the line starting with `density[j,i] = ...`\n",
    "    \"\"\"\n",
    "    density = zeros((len(z),len(y)))\n",
    "    #print(shape(density))\n",
    "    j=0\n",
    "    for z_j in z:\n",
    "        i=0\n",
    "        for y_i in y:\n",
    "            density[j,i] = richard_density(y_i, z_j) ## linear increase: 10.*y_i #2.*z_j \n",
    "                                                     ## Alex original: alex_density(y_i, z_j)\n",
    "            #print(j,i)\n",
    "            #print(y_i,z_j)\n",
    "            i+=1\n",
    "        j+=1\n",
    "    \n",
    "    return density"
   ]
  },
  {
   "cell_type": "code",
   "execution_count": 154,
   "metadata": {},
   "outputs": [],
   "source": [
    "y = np.linspace(0., 400.e-6, 200)\n",
    "z = np.linspace(0., box[2]*dz_strict, 200)\n",
    "density2d = density_from_array(y,z)"
   ]
  },
  {
   "cell_type": "code",
   "execution_count": 156,
   "metadata": {},
   "outputs": [
    {
     "data": {
      "image/png": "[encoded data removed]",
      "text/plain": [
       "<Figure size 576x432 with 2 Axes>"
      ]
     },
     "metadata": {
      "needs_background": "light"
     },
     "output_type": "display_data"
    }
   ],
   "source": [
    "figure(figsize=((8,6)))\n",
    "\n",
    "imshow(density2d\n",
    "       #, extent=(y[0]*1.e6, y[-1]*1.e6, z[0]*1.e6, z[-1]*1.e6)\n",
    "       , extent=(y[0]/dy_strict, y[-1]/dy_strict, z[0]/dz_strict, z[-1]/dz_strict)\n",
    "       , interpolation='none'\n",
    "       , origin='lower'\n",
    "       #, vmin = , vmax = \n",
    "       , cmap=cm.plasma\n",
    "       , aspect='auto'\n",
    ")\n",
    "\n",
    "xlabel(r\"y\")\n",
    "ylabel(r\"z\")\n",
    "\n",
    "colorbar()\n",
    "\n",
    "show()"
   ]
  },
  {
   "cell_type": "code",
   "execution_count": 157,
   "metadata": {},
   "outputs": [
    {
     "data": {
      "image/png": "[encoded data removed]",
      "text/plain": [
       "<Figure size 1152x432 with 2 Axes>"
      ]
     },
     "metadata": {
      "needs_background": "light"
     },
     "output_type": "display_data"
    }
   ],
   "source": [
    "figure((figsize(16,6)))\n",
    "subplot(1,2,1)\n",
    "\n",
    "plot(y*1.e6, density2d[len(z)//2,:])\n",
    "\n",
    "xlabel(\"y [mum]\")\n",
    "#xlim(0,500)\n",
    "#xticks(arange(0,501,25))\n",
    "\n",
    "ylabel(\"rel. Density\")\n",
    "grid()\n",
    "\n",
    "\n",
    "subplot(1,2,2)\n",
    "plot(y/dy_strict, density2d[len(z)//2,:])\n",
    "xlabel(\"y [cells]\")\n",
    "grid()\n",
    "\n",
    "show()"
   ]
  },
  {
   "cell_type": "markdown",
   "metadata": {},
   "source": [
    "# Creating the example \n",
    "\n",
    "Branch: `topic-2019-10_TWEAC-for-Summit_0.4.3dev`"
   ]
  },
  {
   "cell_type": "markdown",
   "metadata": {},
   "source": [
    "## `grid.param`"
   ]
  },
  {
   "cell_type": "code",
   "execution_count": 159,
   "metadata": {},
   "outputs": [
    {
     "name": "stdout",
     "output_type": "stream",
     "text": [
      "dt = 6.53658e-17 s\n",
      "dx = 1.60000e-07 m\n",
      "dy = 2.00000e-08 m\n",
      "dz = 1.60000e-07 m\n"
     ]
    }
   ],
   "source": [
    "print(\"dt = {:.5e} s\".format(dt_strict))\n",
    "print(\"dx = {:.5e} m\".format(dx_strict))\n",
    "print(\"dy = {:.5e} m\".format(dy_strict))\n",
    "print(\"dz = {:.5e} m\".format(dz_strict))"
   ]
  },
  {
   "cell_type": "markdown",
   "metadata": {},
   "source": [
    "```c++\n",
    "/** equals X\n",
    " *  unit: meter */\n",
    "constexpr float_64 CELL_WIDTH_SI = 2.848e-09;\n",
    "/** equals Y - the laser & moving window propagation direction\n",
    " *  unit: meter */\n",
    "constexpr float_64 CELL_HEIGHT_SI = CELL_WIDTH_SI;\n",
    "/** equals Z\n",
    " *  unit: meter */\n",
    "constexpr float_64 CELL_DEPTH_SI = CELL_WIDTH_SI;\n",
    "\n",
    "/** Duration of one timestep\n",
    " *  unit: seconds                       CFL criteria for Yee MW Solver\n",
    " *                                             2D: sqrt(2)\n",
    " *                                             3D: sqrt(3)   */\n",
    "constexpr float_64 DELTA_T_SI = CELL_WIDTH_SI / ( 1.415 * SPEED_OF_LIGHT_SI );\n",
    "\n",
    "\n",
    "/**\n",
    " *  ... ABSORBER ...\n",
    " */\n",
    "\n",
    "\n",
    "/** When to start moving the co-moving window\n",
    " *\n",
    " *  ...\n",
    " */\n",
    "constexpr float_64 movePoint = 1.012304;\n",
    "```"
   ]
  },
  {
   "cell_type": "markdown",
   "metadata": {},
   "source": [
    "### Set the correct move point for the moving window\n",
    "\n",
    "See below at `particle.param` when the laser reaches its 'starting' position"
   ]
  },
  {
   "cell_type": "markdown",
   "metadata": {},
   "source": [
    "## `components.param`\n",
    "Nothing"
   ]
  },
  {
   "cell_type": "markdown",
   "metadata": {},
   "source": [
    "## `fieldSolver.param`\n",
    "Do we want anything else than `None` for the current interpolation?\n",
    "- Yes, but later"
   ]
  },
  {
   "cell_type": "markdown",
   "metadata": {},
   "source": [
    "![](20190204_Tafelbild.jpg)"
   ]
  },
  {
   "cell_type": "markdown",
   "metadata": {},
   "source": [
    "## `laser.param`"
   ]
  },
  {
   "cell_type": "markdown",
   "metadata": {},
   "source": [
    "laser parameters:\n",
    "- a0 (focus) = 2\n",
    "- FWHM intensity transversally = 20 µm\n",
    "- intensity time FWHM = 15 fs\n",
    "- $\\lambda$ = 800 nm\n",
    "\n",
    "We still need to figure out where the focus is in absolute units.\n",
    "But to do so we need to decide how the acceleration takes place."
   ]
  },
  {
   "cell_type": "code",
   "execution_count": null,
   "metadata": {},
   "outputs": [],
   "source": [
    "a0_focus = 2"
   ]
  },
  {
   "cell_type": "markdown",
   "metadata": {},
   "source": [
    "### Define bunch acceleration"
   ]
  },
  {
   "cell_type": "code",
   "execution_count": null,
   "metadata": {},
   "outputs": [],
   "source": [
    "gamma_final = 500.\n",
    "\n",
    "beta_final = np.sqrt(1. - 1./gamma_final**2)\n",
    "\n",
    "print(\"beta final = %f\"%beta_final)\n",
    "\n",
    "# normalized accelerating field\n",
    "ν_acc = sc.c / (100.*dx_strict) # Criterion: sample distance between first radiation wave front and particles 1000 times\n",
    "\n",
    "t_final = gamma_final / ν_acc\n",
    "\n",
    "# accelerating field strenght\n",
    "E_acc = - ν_acc * sc.m_e * sc.c / sc.e\n",
    "print(\"Accelerating field = %fGV/cm\"%(E_acc*1.e-11))\n",
    "\n",
    "print(\"energy gamma =\", ν_acc*t_final)\n",
    "Delta = sc.c/ν_acc\n",
    "print(\"Strahlungsvorlauf = %.2fmum\"%(Delta*1.e6))\n",
    "print(\"Aufloesung des Strahlungsvorlaufs = %.2f\"%(Delta/dx_strict))\n",
    "print(\"exact Acceleration time = %.2fdt\"%(t_final / dt_strict)) "
   ]
  },
  {
   "cell_type": "code",
   "execution_count": null,
   "metadata": {},
   "outputs": [],
   "source": [
    "# bunch acceleration time\n",
    "steps_acc = 70800 # in this setup the electron field before the bunch amounts to 100 cells\n",
    "print(\"USED Acceleration time = %.2fdt\"%(steps_acc))\n",
    "t_bunch_acc = steps_acc * dt_strict \n",
    "\n",
    "\n",
    "\n",
    "y_bunch_acc = sc.c * (np.sqrt(1 + ν_acc**2 * t_bunch_acc**2) - 1) / ν_acc\n",
    "print(\"electron bunch acceleration length: {:.2f} µm\".format(y_bunch_acc * 1e6))\n",
    "\n",
    "cells_acc = np.int(y_bunch_acc / dx_strict)\n",
    "print(\"acceleration on {} cells\".format(cells_acc))"
   ]
  },
  {
   "cell_type": "markdown",
   "metadata": {},
   "source": [
    "1. center of electron bunch initialization in absolute units\n",
    "1. bunch acceleration length &#10004;\n",
    "1. ~~free propagation length~~\n",
    "1. distance laser and bunch\n",
    "1. distance laser focus and foil surface\n",
    "1. absolute position of foil surface"
   ]
  },
  {
   "cell_type": "markdown",
   "metadata": {},
   "source": [
    "1. **5 $\\sigma$ of bunch charge density inside box = 12.75µm**\n",
    "2. just calculated above: **56.84µm**\n",
    "3. we do not need that\n",
    "4. given by experiment: **10µm** \n",
    "5. given by experiment: **250µm**\n",
    "6. see plot below"
   ]
  },
  {
   "cell_type": "markdown",
   "metadata": {},
   "source": [
    "## Simulation box overview"
   ]
  },
  {
   "cell_type": "code",
   "execution_count": null,
   "metadata": {},
   "outputs": [],
   "source": [
    "def pre_plasma(x, x_s):\n",
    "    \"\"\" \n",
    "        x = Distance from (initial) foil surface\n",
    "        x_s = preplasma scale length\n",
    "    \"\"\"\n",
    "    return np.exp(x / x_s) if ( x < 0 ) else 1."
   ]
  },
  {
   "cell_type": "code",
   "execution_count": null,
   "metadata": {},
   "outputs": [],
   "source": [
    "foil_preplasma_scale_length = 10.e-9 # [μm]\n",
    "foil_preplasma_cutoff = 100.*foil_preplasma_scale_length # [μm]\n",
    "\n",
    "plt.figure()\n",
    "\n",
    "x = np.linspace(-1., 1., 200) * foil_preplasma_cutoff\n",
    "y = np.array([ n_e_n_c * pre_plasma(x_i, foil_preplasma_scale_length) for x_i in x])\n",
    "\n",
    "plt.plot(x * 1.e6, y)\n",
    "\n",
    "plt.xlabel(\"x [μm]\")\n",
    "plt.ylabel(\"density [$n_c$]\")\n",
    "plt.yscale('log')\n",
    "\n",
    "plt.show()"
   ]
  },
  {
   "cell_type": "code",
   "execution_count": null,
   "metadata": {},
   "outputs": [],
   "source": [
    "fig,ax = plt.subplots(1,1)\n",
    "\n",
    "ax.axvline(0, c=\"k\", label=\"box origin\")\n",
    "\n",
    "e_bunch_start = 5 * σ_B * 1e6\n",
    "ax.axvline(e_bunch_start, c=\"green\", label=\"electron start\", ls=\":\")\n",
    "\n",
    "laser_start = e_bunch_start + d_L_to_B * 1e6\n",
    "ax.axvline(laser_start, c=\"red\", label=\"laser start\", ls=\":\")\n",
    "\n",
    "e_bunch_end = e_bunch_start + y_bunch_acc * 1e6\n",
    "ax.axvline(e_bunch_end, c=\"green\", label=\"electron end\")\n",
    "\n",
    "laser_end = e_bunch_end + d_L_to_B * 1e6\n",
    "ax.axvline(laser_end, c=\"red\", label=\"laser end\")\n",
    "\n",
    "preplasma_start = laser_end + 5 * σ_L * 1e6\n",
    "ax.axvline(preplasma_start, c=\"blue\", label=\"preplasma start\", ls=\":\")\n",
    "\n",
    "foil_start = preplasma_start + foil_preplasma_cutoff * 1e6\n",
    "ax.axvline(foil_start, c=\"blue\", label=\"foil start\")\n",
    "\n",
    "laser_focus = foil_start - z_foil * 1e6\n",
    "ax.axvline(laser_focus, c=\"red\", label=\"laser focus\", ls=\"--\")\n",
    "\n",
    "plt.xticks(np.array([laser_focus,0,e_bunch_start,laser_start,e_bunch_end,laser_end, preplasma_start,foil_start]),\n",
    "           rotation='vertical')\n",
    "ax.xaxis.set_major_formatter(FormatStrFormatter('%.3f'))\n",
    "\n",
    "plt.axvspan(0,y_up,color=\"violet\",alpha=0.2)\n",
    "\n",
    "plt.xlabel(\"distance / µm\")\n",
    "plt.legend(loc=\"best\",bbox_to_anchor=(1.1, 1.05))"
   ]
  },
  {
   "cell_type": "markdown",
   "metadata": {},
   "source": [
    "We set:\n",
    "- `static constexpr float_64 FOCUS_POS_SI = -74.473e-6;`\n",
    "- `static constexpr float_64 PULSE_INIT = 5.0;`\n",
    "- `static constexpr uint32_t initPlaneY = 0;`\n",
    "\n",
    "So 5$\\sigma$ of intensity before the pulse maximum which is (likely) enough to keep the intensity below the ionization threshold and not run the laser edge into the absorber at the simulation box front."
   ]
  },
  {
   "cell_type": "markdown",
   "metadata": {},
   "source": [
    "## `particle.param`"
   ]
  },
  {
   "cell_type": "markdown",
   "metadata": {},
   "source": [
    "We need to set the acceleration pusher inactive at first, so that the laser pulse can travel from the initialization point at the boundary to its starting position through the electrons before we start accelerating them.\n",
    "Otherwise they would Coulomb-explode because of their initial temperature. "
   ]
  },
  {
   "cell_type": "code",
   "execution_count": null,
   "metadata": {},
   "outputs": [],
   "source": [
    "plt.figure(figsize=(8,6))\n",
    "nut = np.linspace(0., 100., 512)\n",
    "\n",
    "plt.subplot(1,1,1)\n",
    "plt.plot(nut, nut - np.sqrt(1. + nut**2) + 1.)\n",
    "\n",
    "plt.xlabel(\"acceleration time [νt]\")\n",
    "plt.title(\"Distance between field front and electron [c/ν]\")\n",
    "\n",
    "plt.ylim(0,1)\n",
    "\n",
    "plt.grid()\n",
    "\n",
    "plt.tight_layout()\n",
    "\n",
    "plt.show()"
   ]
  },
  {
   "cell_type": "code",
   "execution_count": null,
   "metadata": {},
   "outputs": [],
   "source": [
    "# number of steps until the electron bunch becomes relativistic and moves as fast as the laser\n",
    "beta_relativistic = 0.99\n",
    "steps_till_relativistic = np.int(beta_relativistic / np.sqrt(1. - beta_relativistic**2) / ν_acc / dt_strict)\n",
    "\n",
    "#steps_till_relativistic = Delta / (sc.c*dt_strict)\n",
    "print(\"steps till relativistic = %i\"%steps_till_relativistic)\n",
    "print(\"velocity after steps_till_relativistic = %fc\"%(ν_acc*steps_till_relativistic*dt_strict / np.sqrt(1. + (ν_acc*steps_till_relativistic*dt_strict)**2)))\n",
    "\n",
    "# time until the acceleration pusher is set active\n",
    "time_till_pusher_activation = ((5 * σ_L + laser_start / 1e6 ) / sc.c) - steps_till_relativistic * dt_strict\n",
    "steps_till_pusher_activation = np.int(time_till_pusher_activation / dt_strict)\n",
    "steps_till_window_moves = steps_till_pusher_activation + steps_till_relativistic\n",
    "print(\"Steps till pusher activation: \",steps_till_pusher_activation)\n",
    "print(\"Move point of moving Window= %f\"%(steps_till_window_moves * dt_strict * sc.c / (box_cells_y * dx_strict) ))"
   ]
  },
  {
   "cell_type": "code",
   "execution_count": null,
   "metadata": {},
   "outputs": [],
   "source": [
    "print(σ_L)\n",
    "print(dt_strict)"
   ]
  },
  {
   "cell_type": "markdown",
   "metadata": {},
   "source": [
    "We copied the `Particles.tpp` from the source code into the example, as well as the `particle.param`.\n",
    "We set\n",
    "- `constexpr uint32_t disable_pusher = 15050;`\n",
    "- `Particles.tpp`:\n",
    "```C++\n",
    "Particles<...\n",
    ">::update( uint32_t const currentStep )\n",
    "{\n",
    "    /* read `disable_pusher` from particle.param and activate pusher only after\n",
    "     * the given number of time steps\n",
    "     */\n",
    "    if(currentStep < particles::disable_pusher)\n",
    "        return;\n",
    " ```"
   ]
  },
  {
   "cell_type": "markdown",
   "metadata": {},
   "source": [
    "Uses the manipulators:\n",
    "- `OnceIonized`\n",
    "- `TwiceIonized`\n",
    "- `RandomPosition`\n",
    "- ..."
   ]
  },
  {
   "cell_type": "markdown",
   "metadata": {},
   "source": [
    "```C++\n",
    "namespace startPosition\n",
    "{\n",
    "    struct RandomParameterFoil\n",
    "    {   \n",
    "        /** Count of particles per cell at initial state\n",
    "         *\n",
    "         *  unit: none\n",
    "         */\n",
    "        static constexpr uint32_t numParticlesPerCell = 10u; \n",
    "    };  \n",
    "    using RandomFoil = RandomImpl< RandomParameterFoil >;\n",
    "\n",
    "    struct RandomParameterBunch\n",
    "    {   \n",
    "        /** Count of particles per cell at initial state in the electron bunch\n",
    "         *\n",
    "         *  unit: none\n",
    "         */\n",
    "        static constexpr uint32_t numParticlesPerCell = 30u;\n",
    "    };  \n",
    "    using RandomBunch = RandomImpl< RandomParameterBunch >;\n",
    "    \n",
    "    // more start position manipulators\n",
    "}\n",
    "\n",
    "```"
   ]
  },
  {
   "cell_type": "markdown",
   "metadata": {},
   "source": [
    "### Now we need to calculate the density distribution of the bunch to know what we will set as minimum weighting"
   ]
  },
  {
   "cell_type": "code",
   "execution_count": null,
   "metadata": {},
   "outputs": [],
   "source": [
    "# bunch charge\n",
    "Q_bunch = 200e-12 # Coulomb\n",
    "N_e_bunch = Q_bunch / sc.e\n",
    "print(\"Electrons in the bunch: {:.2e}\".format(N_e_bunch))"
   ]
  },
  {
   "cell_type": "code",
   "execution_count": null,
   "metadata": {},
   "outputs": [],
   "source": [
    "# cell volume\n",
    "V_cell = dx_strict**3 # m³\n",
    "print(\"cell volume: {:.2e}\".format(V_cell))\n",
    "\n",
    "# cell area\n",
    "A_cell = dx_strict**2 # m³\n",
    "print(\"cell area: {:.2e}\".format(A_cell))"
   ]
  },
  {
   "cell_type": "code",
   "execution_count": null,
   "metadata": {},
   "outputs": [],
   "source": [
    "def electron_dist(x, y, z, N_e_bunch=N_e_bunch, σ_x=σ_B_trans, σ_y=σ_B, σ_z=σ_B_trans):\n",
    "    return (N_e_bunch / (2*np.pi)**(3/2) / (σ_x * σ_y * σ_z) \n",
    "            * np.exp(-(0.5*x**2/σ_x**2 + 0.5*y**2/σ_y**2 + 0.5*z**2/σ_z**2)))\n",
    "\n",
    "def electron_dist_2D(x, y, N_e_bunch=N_e_bunch, σ_x=σ_B_trans, σ_y=σ_B):\n",
    "    return (N_e_bunch / (2*np.pi) / (σ_x * σ_y) \n",
    "            * np.exp(-(0.5*x**2/σ_x**2 + 0.5*y**2/σ_y**2)))"
   ]
  },
  {
   "cell_type": "markdown",
   "metadata": {},
   "source": [
    "electron peak density"
   ]
  },
  {
   "cell_type": "code",
   "execution_count": null,
   "metadata": {},
   "outputs": [],
   "source": [
    "print(\"3D:\", electron_dist(0,0,0))\n",
    "\n",
    "print(\"2D:\", electron_dist_2D(0,0))"
   ]
  },
  {
   "cell_type": "code",
   "execution_count": null,
   "metadata": {},
   "outputs": [],
   "source": [
    "from scipy.integrate import dblquad, nquad"
   ]
  },
  {
   "cell_type": "code",
   "execution_count": null,
   "metadata": {},
   "outputs": [],
   "source": [
    "ranges = np.array( [ [-5.*σ_B_trans, 5.*σ_B_trans], [-5.*σ_B, 5.*σ_B],  [-5.*σ_B, 5.*σ_B]] )\n",
    "bunch_particles = nquad( electron_dist, ranges )\n",
    "print(\"bunch particles =\", bunch_particles[0] / N_e_bunch, \"supposed to be 1\" )\n",
    "print( \"bunch charge = %.4fpC\"%(bunch_particles[0] * sc.e * 1.e12) )"
   ]
  },
  {
   "cell_type": "code",
   "execution_count": null,
   "metadata": {},
   "outputs": [],
   "source": [
    "ranges = np.array( [ [-5.*σ_B_trans, 5.*σ_B_trans], [-5.*σ_B, 5.*σ_B]] )\n",
    "slice_particle_density = nquad( electron_dist, ranges, args=(0.,) )\n",
    "print(\"slice particles =\", slice_particle_density[0] * dx_strict / N_e_bunch)\n",
    "print( \"slice charge = %.4fpC\"%(slice_particle_density[0] * dx_strict * sc.e * 1.e12) )"
   ]
  },
  {
   "cell_type": "markdown",
   "metadata": {},
   "source": [
    "electron density 5$\\sigma$ away from the center"
   ]
  },
  {
   "cell_type": "code",
   "execution_count": null,
   "metadata": {},
   "outputs": [],
   "source": [
    "print(\"longitudinal distance from center = %.2fµm\"%(5.*σ_B*1.e6))\n",
    "print(\"transverse distance from center = %.2fµm\"%(5.*σ_B_trans*1.e6))"
   ]
  },
  {
   "cell_type": "code",
   "execution_count": null,
   "metadata": {},
   "outputs": [],
   "source": [
    "print(\"3D:\", electron_dist(5*σ_B_trans,0,0))\n",
    "print(\"3D:\", electron_dist(0,5*σ_B,0))\n",
    "\n",
    "print(\"2D:\", electron_dist_2D(5*σ_B_trans,0))\n",
    "print(\"2D:\", electron_dist_2D(0,5*σ_B))"
   ]
  },
  {
   "cell_type": "markdown",
   "metadata": {},
   "source": [
    "number of real electrons per cell at 4.5$\\sigma$ distance from the center\n",
    "\n",
    "this will become our new value for the minimum weighting"
   ]
  },
  {
   "cell_type": "code",
   "execution_count": null,
   "metadata": {},
   "outputs": [],
   "source": [
    "print(\"3D:\", electron_dist(0.,5.*σ_B,0.) * V_cell)\n",
    "print(\"3D:\", electron_dist(0.,4.5*σ_B,0.) * V_cell)\n",
    "print(\"2D:\", electron_dist_2D(4.5*σ_B_trans,0) * A_cell)"
   ]
  },
  {
   "cell_type": "markdown",
   "metadata": {},
   "source": [
    "```C++\n",
    "constexpr float_X MIN_WEIGHTING = 2.5552e-05;\n",
    "```"
   ]
  },
  {
   "cell_type": "markdown",
   "metadata": {},
   "source": [
    "### Start position manipulator"
   ]
  },
  {
   "cell_type": "markdown",
   "metadata": {},
   "source": [
    "```C++\n",
    "    struct RandomParameterBunch\n",
    "    {\n",
    "        /** Count of particles per cell at initial state in the electron bunch\n",
    "         *\n",
    "         *  unit: none\n",
    "         */\n",
    "        static constexpr uint32_t numParticlesPerCell = 30u;\n",
    "    };\n",
    "    using RandomBunch = RandomImpl< RandomParameterBunch >;\n",
    "```"
   ]
  },
  {
   "cell_type": "markdown",
   "metadata": {},
   "source": [
    "### Temperature manipulator\n",
    "\n",
    "To account for the emittance of the electron bunch we assign an initial temperature to it."
   ]
  },
  {
   "cell_type": "markdown",
   "metadata": {},
   "source": [
    "### Temperature of electron distribution in bunch <a class=\"tocSkip\">\n",
    "\n",
    "From [LECTURE  2:ELECTRON  EMISSION  AND  CATHODE  EMITTANCE by Dowell](http://uspas.fnal.gov/materials/10MIT/Lecture2_EmissionStatisticsCathodeEmittance_text.pdf)\n",
    "\n",
    "Normalized emittance\n",
    "$$\n",
    "\\epsilon_N = \\beta\\gamma \\sigma_x \\sigma_{x^\\prime}\n",
    "$$\n",
    "\n",
    "The normalized rms thermal emittance is\n",
    "$$\n",
    "\\epsilon_{N,thermal} = \\sigma_x \\frac{\\sqrt{\\langle v_x^2 \\rangle}}{c}\n",
    "$$\n",
    "where for a Maxwell-Boltzmann Distribution\n",
    "$$\n",
    "\\langle v_x^2 \\rangle = \\frac{k_B T}{m}\n",
    "$$\n",
    "and thus\n",
    "$$\n",
    "\\epsilon_{N,thermal} = \\sigma_x \\sqrt{ \\frac{k_B T}{m c^2} }\n",
    "$$"
   ]
  },
  {
   "cell_type": "code",
   "execution_count": null,
   "metadata": {},
   "outputs": [],
   "source": [
    "# calculate the electron distribution due to its temperature\n",
    "eps_n = 0.1e-6 # [mm mrad] normalized emittance at full energy\n",
    "kBT = (eps_n / σ_B_trans)**2 * sc.m_e * sc.c**2\n",
    "print(\"electron temperature = %fkeV\"%(kBT/sc.e*1.e-3))"
   ]
  },
  {
   "cell_type": "markdown",
   "metadata": {},
   "source": [
    "```C++\n",
    "/** Parameter for a temperature assignment to the bunch\n",
    " */\n",
    "struct TemperatureParam\n",
    "{\n",
    "    /*Initial temperature\n",
    "     *  unit: keV\n",
    "     */\n",
    "    static constexpr float_64 temperature = 4.534;\n",
    "};\n",
    "/* definition a temperature assignment manipulator */\n",
    "using AddTemperature = unary::Temperature< TemperatureParam >;\n",
    "```"
   ]
  },
  {
   "cell_type": "markdown",
   "metadata": {},
   "source": [
    "## `pusher.param`\n",
    "\n",
    "Filled in values calculated above.\n",
    "\n",
    "```C++\n",
    "struct particlePusherAccelerationParam\n",
    "    {\n",
    "        /** Define strength of constant and homogeneous accelerating\n",
    "         *  electric field in SI per dimension.\n",
    "         */\n",
    "\n",
    "        /** unit: Volt / meter */\n",
    "        static constexpr float_64 AMPLITUDEx_SI = 0.0;\n",
    "\n",
    "        /**\n",
    "         * The moving window propagation direction\n",
    "         * unit: Volt / meter\n",
    "         * (1e11 V/m = 1 GV/cm)\n",
    "         */\n",
    "        static constexpr float_64 AMPLITUDEy_SI = -17.940344e11;\n",
    "\n",
    "        /** unit: Volt / meter */\n",
    "        static constexpr float_64 AMPLITUDEz_SI = 0.0;\n",
    "\n",
    "        /** Acceleration duration\n",
    "         *  unit: second\n",
    "         */\n",
    "        static constexpr float_64 ACCELERATION_TIME_SI = (70800 + ::picongpu::particles::disable_pusher) * ::picongpu::SI::DELTA_T_SI;\n",
    "    };\n",
    "```"
   ]
  },
  {
   "cell_type": "markdown",
   "metadata": {},
   "source": [
    "## `density.param`\n",
    "\n",
    "Need two profiles, one for the foil and one for the bunch.\n",
    "We already have the foil one from the previous branch."
   ]
  },
  {
   "cell_type": "markdown",
   "metadata": {},
   "source": [
    "### bunch profile"
   ]
  },
  {
   "cell_type": "code",
   "execution_count": null,
   "metadata": {},
   "outputs": [],
   "source": [
    "print(\"longitudinal and transverse center position:\")\n",
    "print(30*\"-\")\n",
    "print(e_bunch_start)\n",
    "print(box_cells_x*dx_strict/2)\n",
    "print(\"\\n\")\n",
    "print(\"longitudinal and transverse sigma:\")\n",
    "print(30*\"-\")\n",
    "print(σ_B)\n",
    "print(σ_B_trans)"
   ]
  },
  {
   "cell_type": "markdown",
   "metadata": {},
   "source": [
    "```C++\n",
    "\n",
    "namespace SI\n",
    "{\n",
    "    /** Base density in particles per m^3 in the density profiles.\n",
    "     *\n",
    "     * This is often taken as reference maximum density in normalized profiles.\n",
    "     * Individual particle species can define a `densityRatio` flag relative\n",
    "     * to this value.\n",
    "     *\n",
    "     * unit: ELEMENTS/m^3\n",
    "     *\n",
    "     * We take n_e (\"fully ionized\") as reference density.\n",
    "     * Our target material (see speciesDefinition) is a liquid crystal called\n",
    "     * 8CB (4'-octyl-4-cyanobiphenyl).\n",
    "     * \n",
    "     * Critical density nc = nc(lambda_laser=1.e-6) / lambda_laser[mu m]^2\n",
    "     */\n",
    "     constexpr float_64 nc = 1.114854e27 / 0.8 / 0.8;\n",
    "    constexpr float_64 BASE_DENSITY_SI = 250.02 * nc; \n",
    "\n",
    "} // namespace SI\n",
    "\n",
    "\n",
    "namespace densityProfiles\n",
    "{\n",
    "\n",
    "// ... Foil profile ...\n",
    "\n",
    "PMACC_STRUCT(GaussianCloudParam,\n",
    "    /** Profile Formula:\n",
    "     *     exponent = |globalCellPos - center| / sigma\n",
    "     *     density = e^[ gasFactor * exponent^gasPower ]\n",
    "     */\n",
    "    (PMACC_C_VALUE(float_X, gasFactor, -0.5))\n",
    "    (PMACC_C_VALUE(float_X, gasPower, 2.0))\n",
    "\n",
    "    /** height of vacuum area on top border\n",
    "     *\n",
    "     * this vacuum is important because of the laser initialization,\n",
    "     * which is done in the first cell of the simulation\n",
    "     * unit: cells\n",
    "     *\n",
    "     * in this case we would like no particles inside our absorbers\n",
    "     */\n",
    "    (PMACC_C_VALUE(uint32_t, vacuumCellsY, 132))\n",
    "\n",
    "    /** The central position of the density distribution\n",
    "     *  unit: meter\n",
    "     */\n",
    "    (PMACC_C_VECTOR_DIM(float_64, simDim, center_SI, 29.99416e-6, 12.7398e-6))\n",
    "\n",
    "    /** the distance from gasCenter_SI until the density decreases to its 1/e-th part\n",
    "      *  unit: meter */\n",
    "    (PMACC_C_VECTOR_DIM(float_64, simDim, sigma_SI, 1.0617e-06, 2.5480e-06))\n",
    "); /* struct GaussianCloudParam */\n",
    "\n",
    "/* definition of cloud profile */\n",
    "using GaussianCloud = GaussianCloudImpl< GaussianCloudParam >;\n",
    "\n",
    "} //namespace density profiles\n",
    "```"
   ]
  },
  {
   "cell_type": "markdown",
   "metadata": {},
   "source": [
    "#### for mini example"
   ]
  },
  {
   "cell_type": "code",
   "execution_count": null,
   "metadata": {},
   "outputs": [],
   "source": [
    "box_cells_x_mini = box_cells_x / 4\n",
    "print(\"Box size = %.2f cells\"%(box_cells_x_mini))\n",
    "print(\"Electron bunch center x:\", box_cells_x_mini//2 * dx_strict)"
   ]
  },
  {
   "cell_type": "markdown",
   "metadata": {},
   "source": [
    "### foil profile"
   ]
  },
  {
   "cell_type": "code",
   "execution_count": null,
   "metadata": {},
   "outputs": [],
   "source": [
    "print(foil_start)"
   ]
  },
  {
   "cell_type": "markdown",
   "metadata": {},
   "source": [
    "```C++\n",
    "struct FlatFoilWithRampFunctor\n",
    "{\n",
    "    /** This formula uses SI quantities only.\n",
    "     *  The profile will be multiplied by BASE_DENSITY_SI.\n",
    "     *\n",
    "     * @param position_SI total offset including all slides [meter]\n",
    "     * @param cellSize_SI cell sizes [meter]\n",
    "     *\n",
    "     * @return float_X density [normalized to 1.0]\n",
    "     */\n",
    "    HDINLINE float_X\n",
    "    operator()(\n",
    "        const floatD_64& position_SI,\n",
    "        const float3_64& cellSize_SI\n",
    "    )\n",
    "    {\n",
    "        // m -> mu\n",
    "        const float_64 y( position_SI.y() * 1.e6 );\n",
    "\n",
    "        // target begin & end (plateau)\n",
    "        constexpr float_64 y0( 175.527 );\n",
    "        constexpr float_64 y1( y0 + PARAM_THICKNESS );\n",
    "        // exponential pre-expanded density\n",
    "        constexpr float_64 L_pre( PARAM_PRE_SCALE );\n",
    "        constexpr float_64 L_cutoff_pre( PARAM_PRE_CUTOFF * L_pre );\n",
    "\n",
    "        // exponential post-expanded density\n",
    "        constexpr float_64 L_post( PARAM_POST_SCALE );\n",
    "        constexpr float_64 L_cutoff_post( PARAM_POST_CUTOFF * L_post );\n",
    "\n",
    "        float_64 dens = 0.0;\n",
    "\n",
    "        // upramp\n",
    "        if( y < y0 && (y0 - y) < L_cutoff_pre )\n",
    "            dens = math::exp( ( y - y0 ) / L_pre );\n",
    "        // downramp\n",
    "        if( y > y1 && (y - y1) < L_cutoff_post )\n",
    "            dens = math::exp( ( y1 - y ) / L_post );\n",
    "        // plateau\n",
    "        if( y >= y0 && y <= y1 )\n",
    "            dens = 1.0;\n",
    "\n",
    "        // safety check: all parts of the function MUST be > 0\n",
    "        dens *= float_64( dens >= 0.0 );\n",
    "        return dens;\n",
    "    }\n",
    "};\n",
    "\n",
    "// definition of free formula profile\n",
    "using FlatFoilWithRamp = FreeFormulaImpl< FlatFoilWithRampFunctor >;\n",
    "```"
   ]
  },
  {
   "cell_type": "markdown",
   "metadata": {},
   "source": [
    "## `speciesAttributes.param`"
   ]
  },
  {
   "cell_type": "markdown",
   "metadata": {},
   "source": [
    "Nothing to be done here"
   ]
  },
  {
   "cell_type": "markdown",
   "metadata": {},
   "source": [
    "## `speciesConstants.param`"
   ]
  },
  {
   "cell_type": "markdown",
   "metadata": {},
   "source": [
    "Nope"
   ]
  },
  {
   "cell_type": "markdown",
   "metadata": {},
   "source": [
    "## `species.param`"
   ]
  },
  {
   "cell_type": "markdown",
   "metadata": {},
   "source": [
    "```C++\n",
    "using UsedParticleShape = particles::shapes::P4S;\n",
    "\n",
    "using UsedParticleCurrentSolver = currentSolver::EmZ< UsedParticleShape >;\n",
    "\n",
    "using UsedParticlePusher = particles::pusher::Boris;\n",
    "```"
   ]
  },
  {
   "cell_type": "markdown",
   "metadata": {},
   "source": [
    "## `speciesDefinition.param`"
   ]
  },
  {
   "cell_type": "markdown",
   "metadata": {},
   "source": [
    "#### We need a new electron species for the bunch <a class=\"tocSkip\">"
   ]
  },
  {
   "cell_type": "code",
   "execution_count": null,
   "metadata": {
    "code_folding": []
   },
   "outputs": [],
   "source": [
    "n_c = sc.epsilon_0 * sc.m_e / sc.e**2 * (2.*sc.pi*sc.c / 0.8e-6)**2\n",
    "print(n_c)\n",
    "\n",
    "n_e_bunch_max = electron_dist(0,0,0)/n_c\n",
    "# maximum bunch density value in the center in n_c\n",
    "print(\"Max. electron density in bunch: %.2e n_c\"%(n_e_bunch_max))"
   ]
  },
  {
   "cell_type": "code",
   "execution_count": null,
   "metadata": {},
   "outputs": [],
   "source": [
    "# density ratio for speciesInitialization for the bunch\n",
    "density_ratio_bunch = n_e_bunch_max / n_e_n_c\n",
    "print(density_ratio_bunch)"
   ]
  },
  {
   "cell_type": "markdown",
   "metadata": {},
   "source": [
    "### TODO: possibly add index to bunch electrons for tracking"
   ]
  },
  {
   "cell_type": "markdown",
   "metadata": {},
   "source": [
    "```C++\n",
    "/*--------------------------- bunch electrons ---------------------------------*/\n",
    "/* ratio relative to BASE_DENSITY (n_e) */\n",
    "value_identifier( float_X, DensityRatioBunch, 6.337e-5 );\n",
    "\n",
    "using ParticleFlagsBunch = bmpl::vector<\n",
    "    particlePusher< particles::pusher::Acceleration >,\n",
    "    shape< UsedParticleShape >,\n",
    "    interpolation< UsedField2Particle >,\n",
    "    current< UsedParticleCurrentSolver >,\n",
    "    densityRatio< DensityRatioBunch >,\n",
    "    massRatio< MassRatioElectrons >,\n",
    "    chargeRatio< ChargeRatioElectrons >\n",
    ">;\n",
    "\n",
    "/* define species electrons */\n",
    "using Bunch = Particles<\n",
    "    PMACC_CSTRING( \"b\" ),\n",
    "    ParticleFlagsBunch,\n",
    "    DefaultParticleAttributes\n",
    ">;\n",
    "\n",
    "...\n",
    "    \n",
    "using VectorAllSpecies = MakeSeq_t<\n",
    "    Bunch,\n",
    "    Electrons,\n",
    "    Hydrogen,\n",
    "    Carbon,\n",
    "    Nitrogen,\n",
    "    Oxygen\n",
    "    /* Probes // we leave out Probes for now */\n",
    ">;\n",
    "```"
   ]
  },
  {
   "cell_type": "markdown",
   "metadata": {},
   "source": [
    "## `speciesInitialization.param`"
   ]
  },
  {
   "cell_type": "markdown",
   "metadata": {},
   "source": [
    "```C++\n",
    "using InitPipeline = mpl::vector<\n",
    "    /* create the electron bunch at rest */\n",
    "    CreateDensity<\n",
    "        densityProfiles::GaussianCloud,\n",
    "        startPosition::RandomBunch,\n",
    "        Bunch\n",
    "    >,\n",
    "    /* add the initial temperature to the electron bunch */\n",
    "    Manipulate<\n",
    "        manipulators::AddTemperature,\n",
    "        Bunch\n",
    "    >,\n",
    "    /* ... and the foil ... */\n",
    ">\n",
    "```"
   ]
  },
  {
   "cell_type": "markdown",
   "metadata": {},
   "source": [
    "## `png.param`\n",
    "```C++\n",
    "constexpr float_64 scale_image = 1./64.;\n",
    "```"
   ]
  },
  {
   "cell_type": "markdown",
   "metadata": {},
   "source": [
    "## Intermezzo: transversal bunch temperature distribution"
   ]
  },
  {
   "cell_type": "code",
   "execution_count": null,
   "metadata": {},
   "outputs": [],
   "source": [
    "energies = np.linspace(0,1e5,1000) # eV\n",
    "# temperature calculated from emittance by Klaus\n",
    "T = 4e3 # eV\n",
    "\n",
    "f_e = 200 * 1e-12 / sc.e * np.exp(-energies / T)"
   ]
  },
  {
   "cell_type": "code",
   "execution_count": null,
   "metadata": {},
   "outputs": [],
   "source": [
    "fig,ax = plt.subplots(1,1)\n",
    "ax.plot(f_e)\n",
    "ax.set_yscale(\"log\")\n",
    "ax.set_ylim(1e5,1e10)"
   ]
  },
  {
   "cell_type": "markdown",
   "metadata": {},
   "source": [
    "## `memory.param`\n",
    "```C++\n",
    "constexpr size_t reservedGpuMemorySize = 600 * 1024 * 1024;\n",
    "\n",
    "/** bytes reserved for species exchange buffer\n",
    " *\n",
    " * This is the default configuration for species exchanges buffer sizes.\n",
    " * The default exchange buffer sizes can be changed per species by adding\n",
    " * the alias exchangeMemCfg with similar members like in DefaultExchangeMemCfg\n",
    " * to its flag list.\n",
    " */\n",
    "struct DefaultExchangeMemCfg\n",
    "{   \n",
    "    // memory used for a direction\n",
    "    static constexpr uint32_t BYTES_EXCHANGE_X = 2 * 3 * 1024 * 1024; // 6 MiB, orig: 3 MiB\n",
    "    static constexpr uint32_t BYTES_EXCHANGE_Y = 5 * 16 * 1024 * 1024; // 80 MiB, orig: 6 MiB\n",
    "    static constexpr uint32_t BYTES_EXCHANGE_Z = 2 * 3 * 1024 * 1024; // 6 MiB, orig: 3 MiB\n",
    "    static constexpr uint32_t BYTES_EDGES = 128 * 1024; // 128 kiB\n",
    "    static constexpr uint32_t BYTES_CORNER = 32 * 1024; // 32 kiB\n",
    "};\n",
    "\n",
    "```"
   ]
  },
  {
   "cell_type": "markdown",
   "metadata": {},
   "source": [
    "# Config files"
   ]
  },
  {
   "cell_type": "markdown",
   "metadata": {},
   "source": [
    "## Names\n",
    "\n",
    "- 128_V100_1000nm_pre_plasma.cfg <font color=\"green\" size=6>&#10004;</font>\n",
    "- 128_V100_100nm_pre_plasma.cfg <font color=\"green\" size=6>&#10004;</font>\n",
    "- 128_V100_10nm_pre_plasma.cfg <font color=\"green\" size=6>&#10004;</font>\n",
    "\n",
    "Still need a configuration for the smaller `k80` GPUs"
   ]
  },
  {
   "cell_type": "markdown",
   "metadata": {},
   "source": [
    "## What we need to address\n",
    "\n",
    "- checkpoint times:\n",
    "    - restart and change from acceleration pusher to normal pusher for bunch <font color=\"green\" size=6>&#10004;</font>\n",
    "    - laser pulse maximum on foil (critical density) surface (or slightly before) <font color=\"green\" size=6>&#10004;</font>\n",
    "    - start of bunch-pulse interaction for inverse compton scattering <font color=\"green\" size=6>&#10004;</font> (basically same as laser max on foil)\n",
    "    - electrons entering the foil <font color=\"green\" size=6>&#10004;</font>\n",
    "    - rough period of checkpoints for restarting in case of crash <font color=\"green\" size=6>&#10004;</font>\n",
    "    - electron peak leaves the foil <font color=\"green\" size=6>&#10004;</font>\n",
    "    \n",
    "- **all foil species** diagnostics:\n",
    "    - start them only shortly before the foil slides into the box \n",
    "    - stop them / decrease output period drastically after all of the foil has left the box (only track protons or other particles that might fly along with the bunch electrons)\n",
    "    \n",
    "- `energyHistogram`\n",
    "    - add for bunch \n",
    "    - change all output times\n",
    "    - define the energy ranges\n",
    "    \n",
    "- `phaseSpace`\n",
    "    - add for bunch\n",
    "    - output times\n",
    "    - momentum ranges\n",
    "    \n",
    "- `countParticles`\n",
    "    - all species: lets us see when some of them vanish\n",
    "\n",
    "- `sumEnergy`\n",
    "    - all species\n",
    "    \n",
    "- `chargeConservation`\n",
    "    - output times\n",
    "    \n",
    "- `hdf5` or `adios`?\n",
    "    - it's 2D and the last time I wrote 84GB in 3s $\\Longrightarrow$ `hdf5`\n",
    "    - separate bunch output and foil output and fields and choose reasonable output times\n",
    "\n",
    "- `png`\n",
    "    - add for foil electrons\n",
    "    - ... bunch\n",
    "    - protons\n",
    "    \n",
    "- emittance plugin\n",
    "    - find out out to configure by executing `picongpu -h` or checking the `tpp`\n",
    "    - set it up for the bunch species only\n",
    "    "
   ]
  },
  {
   "cell_type": "markdown",
   "metadata": {},
   "source": [
    "### Checkpoint times"
   ]
  },
  {
   "cell_type": "code",
   "execution_count": null,
   "metadata": {},
   "outputs": [],
   "source": [
    "print(steps_till_pusher_activation)"
   ]
  },
  {
   "cell_type": "code",
   "execution_count": null,
   "metadata": {},
   "outputs": [],
   "source": [
    "print(\"steps till bunch relativistic\", steps_till_pusher_activation+steps_till_relativistic)"
   ]
  },
  {
   "cell_type": "code",
   "execution_count": null,
   "metadata": {},
   "outputs": [],
   "source": [
    "# time in steps until the checkpoint and pusher change\n",
    "steps_change_pusher = steps_acc + steps_till_pusher_activation\n",
    "print(steps_change_pusher)"
   ]
  },
  {
   "cell_type": "code",
   "execution_count": null,
   "metadata": {},
   "outputs": [],
   "source": [
    "# number of steps until the preplasma of the foil slides into the box\n",
    "# moving WIndow right edge: L_box + ( n_steps - n_steps_till_window_moves) * c * dt != preplasma_start\n",
    "steps_foil_slides_into_box = ( int( ( preplasma_start*1e-6 - box_cells_y * dx_strict ) / sc.c / dt_strict ) \n",
    "                              + steps_till_window_moves )\n",
    "print(steps_foil_slides_into_box)"
   ]
  },
  {
   "cell_type": "code",
   "execution_count": null,
   "metadata": {},
   "outputs": [],
   "source": [
    "# the edge of the electron bunch starts interacting with the foil\n",
    "steps_bunch_enters_foil = np.int(((foil_start - e_bunch_end) * 1e-6 - 5 * σ_B) / sc.c / dt_strict) + steps_change_pusher\n",
    "print(steps_bunch_enters_foil)"
   ]
  },
  {
   "cell_type": "code",
   "execution_count": null,
   "metadata": {},
   "outputs": [],
   "source": [
    "steps_laser_max_on_foil = np.int((foil_start-laser_end)*1e-6 / sc.c / dt_strict) + steps_change_pusher\n",
    "print(steps_laser_max_on_foil)"
   ]
  },
  {
   "cell_type": "code",
   "execution_count": null,
   "metadata": {},
   "outputs": [],
   "source": [
    "print(\"5 sigma electron bunch: \",5 * σ_B * 1e6,\"µm\")"
   ]
  },
  {
   "cell_type": "code",
   "execution_count": null,
   "metadata": {},
   "outputs": [],
   "source": [
    "steps_bunch_max_leaves_foil = np.int(steps_bunch_enters_foil + ((5 * σ_B + d_Kapton)/sc.c / dt_strict))\n",
    "print(steps_bunch_max_leaves_foil)"
   ]
  },
  {
   "cell_type": "code",
   "execution_count": null,
   "metadata": {},
   "outputs": [],
   "source": [
    "steps_bunch_rear_leaves_foil = np.int(steps_bunch_max_leaves_foil + (5 * σ_B) / sc.c / dt_strict)\n",
    "print(steps_bunch_rear_leaves_foil)"
   ]
  },
  {
   "cell_type": "code",
   "execution_count": null,
   "metadata": {},
   "outputs": [],
   "source": [
    "200000 / 60 / 60 / 24"
   ]
  },
  {
   "cell_type": "markdown",
   "metadata": {},
   "source": [
    "### Histograms"
   ]
  },
  {
   "cell_type": "code",
   "execution_count": null,
   "metadata": {},
   "outputs": [],
   "source": [
    "# foil electron average gamma\n",
    "γ_e_foil = np.sqrt(1 + 0.5*a0_focus**2)\n",
    "# foil electron average kinetic energy\n",
    "kBT_e_foil = (γ_e_foil - 1) * sc.m_e * sc.c**2 / sc.e\n",
    "print(\"electron average kinetic energy at foil front: \",kBT_e_foil,\" keV\")"
   ]
  },
  {
   "cell_type": "code",
   "execution_count": null,
   "metadata": {},
   "outputs": [],
   "source": [
    "E_e_foil = np.linspace(0,50e6,1000)\n",
    "dN_dE_e_foil = 1e11 * np.exp(-E_e_foil/kBT_e_foil)"
   ]
  },
  {
   "cell_type": "code",
   "execution_count": null,
   "metadata": {},
   "outputs": [],
   "source": [
    "fig,ax = plt.subplots(1,1)\n",
    "ax.plot(E_e_foil / 1e6,dN_dE_e_foil)\n",
    "ax.set_yscale(\"log\")\n",
    "plt.xlabel(\"kinetic energy / MeV\")\n",
    "plt.ylabel()\n",
    "plt.title(\"foil \\'prompt\\' electron energy distribution\")"
   ]
  },
  {
   "cell_type": "markdown",
   "metadata": {},
   "source": [
    "### phase space"
   ]
  },
  {
   "cell_type": "code",
   "execution_count": null,
   "metadata": {},
   "outputs": [],
   "source": []
  },
  {
   "cell_type": "markdown",
   "metadata": {},
   "source": [
    "\n",
    "### HDF5"
   ]
  },
  {
   "cell_type": "markdown",
   "metadata": {},
   "source": [
    "```Shell\n",
    "# time until the laser has traveled to its starting position and we enable the bunch acceleration pusher\n",
    "# @see particle.param\n",
    "TBG_disable_pusher=\"39155\"\n",
    "# time when the bunch electrons should be relativistic\n",
    "TBG_bunch_relativistic=\"40155\"\n",
    "# time at which the foil (preplasma) slides into\n",
    "TBG_foil_enters_box=\"103738\"\n",
    "# time at which we will write a checkpoint and restart for change from the acceleration pusher\n",
    "# to the normal pusher for the bunch electrons\n",
    "TBG_change_pusher=\"109955\"\n",
    "# time at which the bunch edge (5 sigma) enters the foil\n",
    "TBG_bunch_enters_foil=\"118427\"\n",
    "# time at which the laser maximum hits the cold, unexpanded foil surface\n",
    "TBG_laser_max_on_foil=\"121833\"\n",
    "# time at which the bunch maximum leaves the foil\n",
    "TBG_bunch_max_leaves_foil=\"165345\"\n",
    "# time at which the bunch rear edge leaves the foil\n",
    "TBG_bunch_rear_leaves_foil=\"181183\"\n",
    "```"
   ]
  },
  {
   "cell_type": "markdown",
   "metadata": {},
   "source": [
    "```Shell\n",
    "TBG_hdf5_fields_period=\" \n",
    "0:!TBG_bunch_enters_foil:10000,\n",
    "!TBG_change_pusher:!TBG_change_pusher,\n",
    "!TBG_bunch_enters_foil:!TBG_bunch_enters_foil,\n",
    "!TBG_laser_max_on_foil:!TBG_laser_max_on_foil,\n",
    "!TBG_bunch_enters_foil:!TBG_bunch_max_leaves_foil:2500,\n",
    "!TBG_bunch_max_leaves_foil:!TBG_bunch_max_leaves_foil,\n",
    "!TBG_bunch_max_leaves_foil:!TBG_bunch_rear_leaves_foil:5000,\n",
    "!TBG_bunch_rear_leaves_foil:!TBG_bunch_rear_leaves_foil,\n",
    "!TBG_bunch_rear_leaves_foil::10000\n",
    "\"\n",
    "TBG_hdf5_foil_particles_period=\"\n",
    "!TBG_foil_enters_box:!TBG_bunch_enters_foil:2500,\n",
    "!TBG_bunch_enters_foil:!TBG_bunch_max_leaves_foil:2500,\n",
    "!TBG_bunch_max_leaves_foil:!TBG_bunch_rear_leaves_foil:5000,\n",
    "!TBG_bunch_rear_leaves_foil::10000 \n",
    "\"\n",
    "\n",
    "TBG_bunch_particles=\n",
    "0:0,\n",
    "!TBG_disable_pusher:!TBG_bunch_relativistic:250,\n",
    "!TBG_bunch_relativistic:!TBG_change_pusher:10000,\n",
    "!TBG_change_pusher:!TBG_bunch_enters_foil:5000,\n",
    "!TBG_bunch_enters_foil:!TBG_bunch_max_leaves_foil:500,\n",
    "!TBG_bunch_max_leaves_foil:!TBG_bunch_rear_leaves_foil:2500,\n",
    "!TBG_bunch_rear_leaves_foil::5000\n",
    "```"
   ]
  },
  {
   "cell_type": "code",
   "execution_count": null,
   "metadata": {},
   "outputs": [],
   "source": [
    "\n"
   ]
  }
 ],
 "metadata": {
  "kernelspec": {
   "display_name": "Python 3",
   "language": "python",
   "name": "python3"
  },
  "language_info": {
   "codemirror_mode": {
    "name": "ipython",
    "version": 3
   },
   "file_extension": ".py",
   "mimetype": "text/x-python",
   "name": "python",
   "nbconvert_exporter": "python",
   "pygments_lexer": "ipython3",
   "version": "3.7.3"
  },
  "toc": {
   "nav_menu": {},
   "number_sections": true,
   "sideBar": true,
   "skip_h1_title": false,
   "toc_cell": false,
   "toc_position": {
    "height": "646px",
    "left": "0px",
    "right": "1388px",
    "top": "111px",
    "width": "212px"
   },
   "toc_section_display": "block",
   "toc_window_display": true
  },
  "varInspector": {
   "cols": {
    "lenName": 16,
    "lenType": 16,
    "lenVar": 40
   },
   "kernels_config": {
    "python": {
     "delete_cmd_postfix": "",
     "delete_cmd_prefix": "del ",
     "library": "var_list.py",
     "varRefreshCmd": "print(var_dic_list())"
    },
    "r": {
     "delete_cmd_postfix": ") ",
     "delete_cmd_prefix": "rm(",
     "library": "var_list.r",
     "varRefreshCmd": "cat(var_dic_list()) "
    }
   },
   "position": {
    "height": "392px",
    "left": "1235px",
    "right": "20px",
    "top": "52px",
    "width": "350px"
   },
   "types_to_exclude": [
    "module",
    "function",
    "builtin_function_or_method",
    "instance",
    "_Feature"
   ],
   "window_display": true
  }
 },
 "nbformat": 4,
 "nbformat_minor": 2
}
