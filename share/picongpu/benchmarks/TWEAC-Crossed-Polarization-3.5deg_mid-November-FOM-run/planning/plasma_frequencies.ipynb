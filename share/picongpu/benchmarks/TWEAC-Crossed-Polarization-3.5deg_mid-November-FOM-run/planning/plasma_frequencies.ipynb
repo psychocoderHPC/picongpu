{
 "cells": [
  {
   "cell_type": "markdown",
   "metadata": {},
   "source": [
    "# Imports"
   ]
  },
  {
   "cell_type": "code",
   "execution_count": 1,
   "metadata": {},
   "outputs": [
    {
     "name": "stdout",
     "output_type": "stream",
     "text": [
      "Populating the interactive namespace from numpy and matplotlib\n"
     ]
    }
   ],
   "source": [
    "%pylab inline\n",
    "\n",
    "import matplotlib as mpl\n",
    "from matplotlib.colors import LogNorm\n",
    "from matplotlib.ticker import FormatStrFormatter\n",
    "import os\n",
    "import sys\n",
    "from scipy import constants as sc"
   ]
  },
  {
   "cell_type": "code",
   "execution_count": 2,
   "metadata": {},
   "outputs": [],
   "source": [
    "# OVERWRITE DEFAULT PLOTTING PARAMETERS\n",
    "params = {\n",
    "    'font.size' : 20,\n",
    "    'lines.linewidth' : 3,\n",
    "    'legend.fontsize' : 20,\n",
    "    'legend.frameon' : False,\n",
    "    'legend.numpoints': 1,\n",
    "    'xtick.labelsize' : 20,\n",
    "    'ytick.labelsize' : 20,\n",
    "    'figure.figsize': [12,8],\n",
    "    'axes.labelsize' : 20\n",
    "}\n",
    "mpl.rcParams.update(params)"
   ]
  },
  {
   "cell_type": "markdown",
   "metadata": {},
   "source": [
    "# Function definitions"
   ]
  },
  {
   "cell_type": "code",
   "execution_count": 3,
   "metadata": {},
   "outputs": [],
   "source": [
    "def critical_density_si(lambda_laser):\n",
    "    \"\"\" Critical electron number density at which an \n",
    "        incident light wave is reflected from a surface.\n",
    "        Units [1/m^3]\n",
    "    \"\"\"\n",
    "    return (sc.epsilon_0*sc.m_e/sc.e**2)*(2.*pi*sc.c/lambda_laser)**2\n",
    "\n",
    "def critical_density(lambda_laser):\n",
    "    \"\"\" Critical electron number density in [1/cm^3]\n",
    "    \"\"\"\n",
    "    return critical_density_si(lambda_laser)*1.e-6\n",
    "\n",
    "def plasma_angular_frequency(n_e):\n",
    "    \"\"\" \n",
    "    \"\"\"\n",
    "    return sqrt( n_e * sc.e**2 / ( sc.epsilon_0 * sc.m_e ) )\n",
    "\n",
    "def plasma_wavelength():\n",
    "    \"\"\" \n",
    "    \"\"\"\n",
    "    return \n",
    "\n",
    "def debye_length(n_e, T , Z):\n",
    "    \"\"\" electron temperature [T] = eV\n",
    "        electron density [n_e] = cm^-3\n",
    "    \"\"\"\n",
    "    return 743.*sqrt(T/(1.+Z)/n_e)  # sqrt(epsilon_0*k_B*T/n_e/e_charge**2/(1.+Z))"
   ]
  },
  {
   "cell_type": "markdown",
   "metadata": {},
   "source": [
    "# Electron densities for several materials"
   ]
  },
  {
   "cell_type": "code",
   "execution_count": null,
   "metadata": {},
   "outputs": [],
   "source": [
    "# wiki: solid hydrogen H2 -> density = V/m = 0.086g/cm^3, \n",
    "# hydrogen atomic mass = 1.008 u\n",
    "# 1 u = 1.66e-24 g\n",
    "\n",
    "density_H2 = 0.086  # gramm/cm^3\n",
    "m_H2 = 2.*1.008*1.66e-24  # mass hydrogen molecule [gramm]\n",
    "n_H2 = density_H2/m_H2  # hydrogen molecule number density [1/cm^3]\n",
    "n_H2e = 2.*n_H2  # hydrogen electron number density (two electrons per molecule) [1/cm^3]\n",
    "n_c = critical_density(.8e-6) # critical density for 0.8mum infrared laser light [1/cm^3]\n",
    "n_c_xray = critical_density(.15e-9) # critical density for 0.1nm X-ray laser light [1/cm^3]\n",
    "\n",
    "print( \"hydrogen molecular number density [1/cm^3] =\", n_H2)\n",
    "print( \"hydrogen electron number density [1/cm^3] =\", n_H2e)\n",
    "print( \"critical electron number density n_c(0.8 mum) [1/cm^3] =\", n_c)\n",
    "print( \"ratio of electron number density to critical density for pump laser =\", n_H2e/n_c)\n",
    "print( \"ratio of electron number density to critical density for X-ray laser =\", n_H2e/n_c_xray)\n",
    "\n",
    "omega_pH2 = plasma_angular_frequency(n_H2e)\n",
    "print( \"cryogenic hydrogen plasma frequency [Hz] =\", omega_pH2/(2.*pi))\n",
    "print( \"cryogenic hydrogen plasma period [s] =\", 2.*pi/omega_pH2)"
   ]
  },
  {
   "cell_type": "code",
   "execution_count": null,
   "metadata": {},
   "outputs": [],
   "source": [
    "density_Si = 2.336  # gramm/cm^3\n",
    "m_Si = 28.085*1.66e-24  # atomic mass [gramm]\n",
    "n_Si = density_Si/m_Si  # atom number density [1/cm^3]\n",
    "n_Sie = 14.*n_Si  # electron number density\n",
    "\n",
    "print( \"Silicon atom density [n_c(800nm)] =\", n_Si/critical_density(.8e-6))\n",
    "print( \"Silicon electron density [n_c(800nm)] =\", n_Sie/critical_density(.8e-6))\n",
    "print( \"Silicon electron density [n_c(0.15nm)] =\", n_Sie/critical_density(.15e-9))"
   ]
  },
  {
   "cell_type": "code",
   "execution_count": null,
   "metadata": {},
   "outputs": [],
   "source": [
    "density_Ti = 4.5 # gramm/cm^3\n",
    "m_Ti = 47.867*1.66e-24  # titan atomic mass [gramm]\n",
    "n_Ti = density_Ti/m_Ti  # titan atom number density [1/cm^3]\n",
    "\n",
    "print \"Titan atom density [n_c(800nm)] =\", n_Ti/critical_density(.8e-6)\n",
    "print \"Titan atom density [n_c(0.15nm)] =\", n_Ti/critical_density(.15e-9)"
   ]
  },
  {
   "cell_type": "code",
   "execution_count": null,
   "metadata": {},
   "outputs": [],
   "source": [
    "density_Cu = 8.92  # gramm/cm^3\n",
    "m_Cu = 63.546*1.66e-24  # copper atomic mass [gramm]\n",
    "n_Cu = density_Cu/m_Cu  # copper atom number density [1/cm^3]\n",
    "n_Cue = 29.*n_Cu  # copper electron density\n",
    "\n",
    "print \"Copper atom density [n_c(800nm)] =\", n_Cu/critical_density(.8e-6)\n",
    "print \"Copper electron density [n_c(800nm)] =\", n_Cue/critical_density(.8e-6)\n",
    "print \"Copper electron density [n_c(0.15nm)] =\", n_Cue/critical_density(.15e-9)"
   ]
  },
  {
   "cell_type": "code",
   "execution_count": null,
   "metadata": {},
   "outputs": [],
   "source": [
    "density_Au = 19.32  # gramm/cm^3\n",
    "m_Au = 196.96657*1.66e-24  # gold atomic mass [gramm]\n",
    "n_Au = density_Au/m_Au  # gold atom number density [1/cm^3]\n",
    "\n",
    "print \"Gold atom density [n_c(800nm)] =\", n_Au/critical_density(.8e-6)\n",
    "print \"Gold atom density [n_c(0.15nm)] =\", n_Au/critical_density(.15e-9)"
   ]
  },
  {
   "cell_type": "code",
   "execution_count": null,
   "metadata": {},
   "outputs": [],
   "source": [
    "print \"Debye length Cu-20+@45n_c&400eV [nm] =\", debye_length(20.*45.*critical_density(0.8e-6), 400., 20.)*1.e9\n",
    "print \"Debye length Cu-23+@30n_c&400eV [nm] =\", debye_length(23.*30.*critical_density(0.8e-6), 400., 23.)*1.e9\n",
    "print \"Debye length Au-23+@34n_c&400eV [nm] =\", debye_length(23.*n_Au, 400., 23.)*1.e9\n",
    "print \"Debye length Ti-20+@33n_c&400eV [nm] =\", debye_length(20.*n_Ti, 400., 23.)*1.e9\n",
    "print \"Debye length H_2-2+@30n_c&400eV [nm] =\", debye_length(n_H2e, 400., 2.)*1.e9"
   ]
  },
  {
   "cell_type": "code",
   "execution_count": 4,
   "metadata": {},
   "outputs": [
    {
     "name": "stdout",
     "output_type": "stream",
     "text": [
      "Aluminium electron number density = 7.8335e+23 1/cm^3\n"
     ]
    }
   ],
   "source": [
    "density_Al = 2.6989 # gramm/cm^3\n",
    "m_Al = 26.9815385*1.66e-24  # atomic mass [gramm]\n",
    "n_Al = density_Al/m_Al  # atom number density [1/cm^3]\n",
    "n_Ale = 13. * n_Al # electron density when fully ionized [1/cm^3]\n",
    "\n",
    "print(\"Aluminium electron number density = %.4e 1/cm^3\"%(n_Ale))"
   ]
  },
  {
   "cell_type": "markdown",
   "metadata": {},
   "source": [
    "# Calculate simulation resolution"
   ]
  },
  {
   "cell_type": "code",
   "execution_count": 6,
   "metadata": {},
   "outputs": [
    {
     "name": "stdout",
     "output_type": "stream",
     "text": [
      "Aluminium electron density [n_c(800nm)] = 449.69\n",
      "dx = 1.250e-08 m\n",
      "ω_p = 4.993e+16 rad/s\n",
      "ω_p * dt = 1.471303\n",
      "Samples per plasma wavelength λ_p = 2πc/ω_p: 3.02\n"
     ]
    }
   ],
   "source": [
    "# Aluminium full ionization - electron density in critical densities\n",
    "\n",
    "λ_Laser = 0.8e-6\n",
    "n_e_n_c = n_Ale/critical_density(λ_Laser) # critical_density() in 1/cm^3\n",
    "print( \"Aluminium electron density [n_c(%.0fnm)] = %.2f\"%(λ_Laser*1.e9, n_e_n_c))\n",
    "\n",
    "# Franzosen Paper\n",
    "dx_strict = λ_Laser / 64.\n",
    "print(\"dx = {:.3e} m\".format(dx_strict))\n",
    "\n",
    "dt_strict = dx_strict / (sc.c * 1.415) # for 2D Sim from Courant cond.\n",
    "\n",
    "ω_pAl = plasma_angular_frequency(n_Ale*1.e6)\n",
    "print(\"ω_p = {:.3e} rad/s\".format(ω_pAl))\n",
    "print(\"ω_p * dt = %f\"%(ω_pAl * dt_strict))\n",
    "\n",
    "print(\"Samples per plasma wavelength λ_p = 2πc/ω_p: %.2f\"%(2.*sc.pi*sc.c/ω_pAl/dx_strict))"
   ]
  },
  {
   "cell_type": "code",
   "execution_count": 7,
   "metadata": {},
   "outputs": [
    {
     "name": "stdout",
     "output_type": "stream",
     "text": [
      "0.6796697248695077\n"
     ]
    }
   ],
   "source": [
    "print(1./(ω_pAl * dt_strict))"
   ]
  },
  {
   "cell_type": "code",
   "execution_count": null,
   "metadata": {},
   "outputs": [],
   "source": []
  }
 ],
 "metadata": {
  "kernelspec": {
   "display_name": "Python 3",
   "language": "python",
   "name": "python3"
  },
  "language_info": {
   "codemirror_mode": {
    "name": "ipython",
    "version": 3
   },
   "file_extension": ".py",
   "mimetype": "text/x-python",
   "name": "python",
   "nbconvert_exporter": "python",
   "pygments_lexer": "ipython3",
   "version": "3.7.3"
  }
 },
 "nbformat": 4,
 "nbformat_minor": 2
}
